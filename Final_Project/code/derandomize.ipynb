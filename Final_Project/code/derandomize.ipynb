{
 "cells": [
  {
   "cell_type": "code",
   "execution_count": 61,
   "metadata": {
    "collapsed": false
   },
   "outputs": [],
   "source": [
    "import numpy as np\n",
    "import sys\n",
    "\n",
    "PEMS_PATH = '/Users/mitch/Dropbox/FinalProject/PEMS-SF/'\n",
    "#PEMS_train has 263 lines. Each line represents one day with a matrix with 963 rows (each row a sensor) and 144 columns (10-minute intervals)\n",
    "traffic_file = open(PEMS_PATH+'PEMS_train')\n",
    "traffic_lines = traffic_file.readlines()\n",
    "train_num = len(traffic_lines)\n",
    "#PEMS_test has 173 lines\n",
    "test_file = open(PEMS_PATH+'PEMS_test')\n",
    "test_lines = test_file.readlines()\n",
    "test_num = len(test_lines)\n",
    "#Put the days in chronological order\n",
    "day_order_file = open(PEMS_PATH+'randperm')\n",
    "day_order_lines = day_order_file.readline()\n",
    "day_order_string = day_order_lines.split()\n",
    "day_order = np.empty([len(day_order_string)],dtype=int)\n",
    "for i in range(len(day_order_string)):\n",
    "    day_order[i] = int(day_order_string[i])-1"
   ]
  },
  {
   "cell_type": "code",
   "execution_count": 63,
   "metadata": {
    "collapsed": false
   },
   "outputs": [
    {
     "ename": "NameError",
     "evalue": "name 'numpy' is not defined",
     "output_type": "error",
     "traceback": [
      "\u001b[0;31m---------------------------------------------------------------------------\u001b[0m",
      "\u001b[0;31mNameError\u001b[0m                                 Traceback (most recent call last)",
      "\u001b[0;32m<ipython-input-63-fb04d16221df>\u001b[0m in \u001b[0;36m<module>\u001b[0;34m()\u001b[0m\n\u001b[1;32m     26\u001b[0m \u001b[0;34m\u001b[0m\u001b[0m\n\u001b[1;32m     27\u001b[0m \u001b[0;34m\u001b[0m\u001b[0m\n\u001b[0;32m---> 28\u001b[0;31m \u001b[0mnumpy\u001b[0m\u001b[0;34m.\u001b[0m\u001b[0msavetxt\u001b[0m\u001b[0;34m(\u001b[0m\u001b[0;34m'traffic2.txt'\u001b[0m\u001b[0;34m,\u001b[0m \u001b[0mtraffic\u001b[0m\u001b[0;34m,\u001b[0m \u001b[0mfmt\u001b[0m\u001b[0;34m=\u001b[0m\u001b[0;34m'%.5f'\u001b[0m\u001b[0;34m,\u001b[0m \u001b[0mdelimiter\u001b[0m\u001b[0;34m=\u001b[0m\u001b[0;34m' '\u001b[0m\u001b[0;34m,\u001b[0m \u001b[0mnewline\u001b[0m\u001b[0;34m=\u001b[0m\u001b[0;34m'\\n'\u001b[0m\u001b[0;34m,\u001b[0m \u001b[0mheader\u001b[0m\u001b[0;34m=\u001b[0m\u001b[0;34m''\u001b[0m\u001b[0;34m,\u001b[0m \u001b[0mfooter\u001b[0m\u001b[0;34m=\u001b[0m\u001b[0;34m''\u001b[0m\u001b[0;34m,\u001b[0m \u001b[0mcomments\u001b[0m\u001b[0;34m=\u001b[0m\u001b[0;34m''\u001b[0m\u001b[0;34m)\u001b[0m\u001b[0;34m\u001b[0m\u001b[0m\n\u001b[0m\u001b[1;32m     29\u001b[0m '''\n\u001b[1;32m     30\u001b[0m \u001b[0;32mfor\u001b[0m \u001b[0mi\u001b[0m \u001b[0;32min\u001b[0m \u001b[0mrange\u001b[0m\u001b[0;34m(\u001b[0m\u001b[0;36m1\u001b[0m\u001b[0;34m)\u001b[0m\u001b[0;34m:\u001b[0m\u001b[0;34m\u001b[0m\u001b[0m\n",
      "\u001b[0;31mNameError\u001b[0m: name 'numpy' is not defined"
     ]
    }
   ],
   "source": [
    "#Each row of traffic is a sensor, each column a point in time\n",
    "traffic = np.empty([963,(train_num+test_num)*144])\n",
    " \n",
    "\n",
    "for i in range(train_num):\n",
    "    sensors = traffic_lines[i].split(';',963)\n",
    "    for j in range(len(sensors)):\n",
    "        occupancy = sensors[j].split()\n",
    "        #remove brackets\n",
    "        occupancy[0] = occupancy[0].replace(\"[\",\"\")\n",
    "        occupancy[len(occupancy)-1] = occupancy[len(occupancy)-1].replace(\"]\",\"\")\n",
    "        #copy into the correct columns of traffic\n",
    "        for k in range(len(occupancy)):\n",
    "            traffic[j,day_order[i]*144 + k] = occupancy[k]\n",
    " \n",
    "for i in range(test_num):\n",
    "    sensors = test_lines[i].split(';',963)\n",
    "    for j in range(len(sensors)):\n",
    "        occupancy = sensors[j].split()\n",
    "        #remove brackets\n",
    "        occupancy[0] = occupancy[0].replace(\"[\",\"\")\n",
    "        occupancy[len(occupancy)-1] = occupancy[len(occupancy)-1].replace(\"]\",\"\")\n",
    "        #copy into the correct columns of traffic\n",
    "        for k in range(len(occupancy)):\n",
    "            traffic[j,day_order[train_num+i]*144 + k] = occupancy[k]\n",
    "\n",
    "\n",
    "'''\n",
    "for i in range(1):\n",
    "    for j in range((train_num + test_num)*143): \n",
    "        print(traffic[i,j],i,j)\n",
    "    print('')\n",
    "'''"
   ]
  },
  {
   "cell_type": "code",
   "execution_count": 64,
   "metadata": {
    "collapsed": true
   },
   "outputs": [],
   "source": [
    "np.savetxt('traffic2.txt', traffic, fmt='%.5f', delimiter=' ', newline='\\n', header='', footer='', comments='')    "
   ]
  },
  {
   "cell_type": "code",
   "execution_count": null,
   "metadata": {
    "collapsed": true
   },
   "outputs": [],
   "source": []
  },
  {
   "cell_type": "code",
   "execution_count": null,
   "metadata": {
    "collapsed": true
   },
   "outputs": [],
   "source": []
  },
  {
   "cell_type": "code",
   "execution_count": null,
   "metadata": {
    "collapsed": true
   },
   "outputs": [],
   "source": []
  }
 ],
 "metadata": {
  "kernelspec": {
   "display_name": "Python 3",
   "language": "python",
   "name": "python3"
  },
  "language_info": {
   "codemirror_mode": {
    "name": "ipython",
    "version": 3
   },
   "file_extension": ".py",
   "mimetype": "text/x-python",
   "name": "python",
   "nbconvert_exporter": "python",
   "pygments_lexer": "ipython3",
   "version": "3.6.0"
  }
 },
 "nbformat": 4,
 "nbformat_minor": 2
}
