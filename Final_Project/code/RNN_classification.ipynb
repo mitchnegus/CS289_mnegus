{
 "cells": [
  {
   "cell_type": "markdown",
   "metadata": {},
   "source": [
    "# Recurrent Neural Network\n",
    "## Classifier: Traffic as Low, Medium, or High"
   ]
  },
  {
   "cell_type": "markdown",
   "metadata": {},
   "source": [
    "Import necessary modules."
   ]
  },
  {
   "cell_type": "code",
   "execution_count": 2,
   "metadata": {
    "collapsed": true
   },
   "outputs": [],
   "source": [
    "import numpy as np\n",
    "from matplotlib import pyplot as plt"
   ]
  },
  {
   "cell_type": "markdown",
   "metadata": {},
   "source": [
    "Load data from text file."
   ]
  },
  {
   "cell_type": "code",
   "execution_count": 3,
   "metadata": {
    "collapsed": false
   },
   "outputs": [],
   "source": [
    "data = np.genfromtxt('/Users/mitch/Dropbox/FinalProject/traffic2.txt')"
   ]
  },
  {
   "cell_type": "markdown",
   "metadata": {},
   "source": [
    "Define functions and derivatives of those functions to be used in the RNN."
   ]
  },
  {
   "cell_type": "code",
   "execution_count": 4,
   "metadata": {
    "collapsed": false
   },
   "outputs": [],
   "source": [
    "def sigmoid(x):\n",
    "    return 1.0/(1.0 + np.exp(-x))\n",
    "\n",
    "def relu(x):\n",
    "    return np.maximum(x,np.zeros_like(x))\n",
    "\n",
    "def Leaky_ReLU_deriv(x):\n",
    "    dRLU = np.empty(len(x))\n",
    "    for i in range(len(x)):\n",
    "        if x[i] > 0: \n",
    "            dRLU[i] = 1\n",
    "        else:\n",
    "            dRLU[i] = 0.1\n",
    "    return dRLU   \n",
    "\n",
    "# Rename function for convenience\n",
    "LRD = Leaky_ReLU_deriv"
   ]
  },
  {
   "cell_type": "markdown",
   "metadata": {},
   "source": [
    "Define a recurrent neural network class, which repeats a single layer."
   ]
  },
  {
   "cell_type": "code",
   "execution_count": 5,
   "metadata": {
    "collapsed": false
   },
   "outputs": [],
   "source": [
    "class OneLayerRNN:\n",
    "    \n",
    "    def __init__(self,hidden_units=10,output_units=3):\n",
    "        self.V = None\n",
    "        self.W = None\n",
    "        self.h = None\n",
    "        self.z = None\n",
    "        self.hidden_units = hidden_units\n",
    "        self.output_units = output_units\n",
    "        self.windowlen = None\n",
    "        self.futuretime = None\n",
    "    \n",
    "    def initialize(self,X):\n",
    "        # Weight matrices start as normal distributions\n",
    "        self.V = np.random.normal(scale=1.0/np.sqrt(self.hidden_units),size=((self.hidden_units),1))\n",
    "        self.W = np.random.normal(scale=1.0/np.sqrt(self.hidden_units),size=(self.output_units,self.hidden_units))\n",
    "        self.h = np.zeros((len(X),self.hidden_units))\n",
    "        self.z = np.zeros((len(X),self.output_units))\n",
    "\n",
    "        # Matrices for gradient update\n",
    "        self.gV = np.zeros_like(self.V)\n",
    "        self.gW = np.zeros_like(self.W)\n",
    "\n",
    "        \n",
    "    def forward(self,X):\n",
    "        for i in range(len(X)):\n",
    "            x = X[i]                                                        # traffic at time i\n",
    "            \n",
    "            self.h[i] = relu(np.dot(self.V,x)).flatten()        # calculate new layer output\n",
    "            self.z[i] = sigmoid(np.dot(self.W,self.h[i]))\n",
    "            \n",
    "    def backward(self,X,y):\n",
    "        \"\"\"Backpropagation through time\"\"\"\n",
    "        for i in range(len(X)):\n",
    "            x = X[i]\n",
    "            Q = self.z[i] - y\n",
    "            self.gV += np.array([np.dot(self.W.T,Q)*LRD(self.h[i]*x)]).T\n",
    "            self.gW += np.outer(Q,self.h[i])\n",
    "            \n",
    "    def update_VW(self,epsilon):\n",
    "        \"\"\"Update\"\"\"\n",
    "        self.V = self.V - epsilon*self.gV\n",
    "        self.W = self.W - epsilon*self.gW\n",
    "\n",
    "    def one_hot_encode(self,occ):\n",
    "        if occ < 0.33: return np.array([1,0,0])\n",
    "        elif occ >= 0.33 and occ < 0.67: return np.array([0,1,0])\n",
    "        elif occ >= 0.67: return np.array([0,0,1])\n",
    "        else: print('Error: the given occupancy value was ',occ) \n",
    "            \n",
    "            \n",
    "    def train(self,timeframe,epsilon,windowlen=24,futuretime=0):\n",
    "        \"\"\"\n",
    "        Train the neural network given input data as X\n",
    "        X:   - a series of occupancies\n",
    "        \"\"\"\n",
    "        self.windowlen=windowlen\n",
    "        self.futuretime = futuretime\n",
    "        \n",
    "        windowstart = 0\n",
    "        firstwindow = timeframe[:windowlen]\n",
    "        self.initialize(firstwindow)\n",
    "        counter,total = 0,0\n",
    "        trainingerrors = []\n",
    "        while windowstart < len(timeframe)-windowlen-futuretime-1:\n",
    "            timewindow = timeframe[windowstart:windowstart+windowlen]\n",
    "            timewindowlabel = self.one_hot_encode(timeframe[windowstart+windowlen+futuretime])\n",
    "            trueforecast = np.argmax(timewindowlabel)\n",
    "            \n",
    "            self.forward(timewindow)\n",
    "            self.backward(timewindow,timewindowlabel)\n",
    "            self.update_VW(epsilon)\n",
    "            \n",
    "            prediction = np.argmax(np.average(self.z,axis=0))\n",
    "\n",
    "            if prediction == trueforecast:\n",
    "                counter += 1\n",
    "            total += 1\n",
    "\n",
    "            TE = counter/total\n",
    "            if windowstart%1000==0:\n",
    "                #print(windowstart,'\\t',TE)\n",
    "                trainingerrors.append(TE)\n",
    "            windowstart=windowstart+1\n",
    "        #print(counter/total)\n",
    "        return trainingerrors\n",
    "                \n",
    "        \n",
    "    def predict(self,timeframe,predicttime,predictgap=0):\n",
    "        timewindow = timeframe[predicttime-predictgap-self.windowlen:predicttime-predictgap]\n",
    "        self.forward(timewindow)\n",
    "        classification = np.argmax(np.average(self.z,axis=0))\n",
    "        '''if classification==0:\n",
    "            print('low')\n",
    "        elif classification==1:\n",
    "            print('med')\n",
    "        elif classification==2:\n",
    "            print('high')'''\n",
    "        \n",
    "        return classification\n",
    "\n",
    "    "
   ]
  },
  {
   "cell_type": "markdown",
   "metadata": {},
   "source": [
    "Calculate the test error from each of 8 sensors for a set of 100 test points."
   ]
  },
  {
   "cell_type": "code",
   "execution_count": 6,
   "metadata": {
    "collapsed": false
   },
   "outputs": [
    {
     "name": "stderr",
     "output_type": "stream",
     "text": [
      "/Users/mitch/anaconda/lib/python3.6/site-packages/ipykernel/__main__.py:2: RuntimeWarning: overflow encountered in exp\n",
      "  from ipykernel import kernelapp as app\n"
     ]
    },
    {
     "name": "stdout",
     "output_type": "stream",
     "text": [
      "0.99\n",
      "0.99\n",
      "0.99\n",
      "0.99\n",
      "0.99\n",
      "0.99\n",
      "0.99\n",
      "0.99\n"
     ]
    }
   ],
   "source": [
    "for sensor in range(8):\n",
    "    RNN = OneLayerRNN()\n",
    "    RNN.train(data[sensor,:60000],0.001)\n",
    "    counter,total = 0,0\n",
    "    for j in range(100): # loop over several test points\n",
    "        predictpoint = 60000+25*j\n",
    "        prediction = RNN.predict(data[sensor,60000:],predictpoint)\n",
    "        truevalue = data[20,predictpoint]\n",
    "        if prediction==np.argmax(RNN.one_hot_encode(truevalue)):\n",
    "            counter += 1\n",
    "        total += 1\n",
    "    print(counter/total)"
   ]
  },
  {
   "cell_type": "markdown",
   "metadata": {},
   "source": [
    "Train the neural network on the first 20 sensors. Save the training accuracies after each rolling window has been entirely calculated."
   ]
  },
  {
   "cell_type": "code",
   "execution_count": 7,
   "metadata": {
    "collapsed": false
   },
   "outputs": [
    {
     "name": "stdout",
     "output_type": "stream",
     "text": [
      "Sensor 0\n"
     ]
    },
    {
     "name": "stderr",
     "output_type": "stream",
     "text": [
      "/Users/mitch/anaconda/lib/python3.6/site-packages/ipykernel/__main__.py:2: RuntimeWarning: overflow encountered in exp\n",
      "  from ipykernel import kernelapp as app\n"
     ]
    },
    {
     "name": "stdout",
     "output_type": "stream",
     "text": [
      "Sensor 1\n",
      "Sensor 2\n",
      "Sensor 3\n",
      "Sensor 4\n",
      "Sensor 5\n",
      "Sensor 6\n",
      "Sensor 7\n",
      "Sensor 8\n",
      "Sensor 9\n",
      "Sensor 10\n",
      "Sensor 11\n",
      "Sensor 12\n",
      "Sensor 13\n",
      "Sensor 14\n",
      "Sensor 15\n",
      "Sensor 16\n",
      "Sensor 17\n",
      "Sensor 18\n",
      "Sensor 19\n"
     ]
    }
   ],
   "source": [
    "sensortrials = []\n",
    "for i in range(20):\n",
    "    timeframe = data[i,:60000]\n",
    "    RNN = OneLayerRNN()\n",
    "    print('Sensor',i)\n",
    "    trainingerrors=RNN.train(timeframe,0.001)\n",
    "    sensortrials.append(trainingerrors)\n",
    "    # predict statement"
   ]
  },
  {
   "cell_type": "code",
   "execution_count": 8,
   "metadata": {
    "collapsed": false
   },
   "outputs": [
    {
     "data": {
      "text/plain": [
       "0"
      ]
     },
     "execution_count": 8,
     "metadata": {},
     "output_type": "execute_result"
    }
   ],
   "source": [
    "RNN.predict(timeframe,60100)"
   ]
  },
  {
   "cell_type": "markdown",
   "metadata": {},
   "source": [
    "Plot the training errors for each sensor."
   ]
  },
  {
   "cell_type": "code",
   "execution_count": 9,
   "metadata": {
    "collapsed": false
   },
   "outputs": [
    {
     "data": {
      "image/png": "[encoded data removed]",
      "text/plain": [
       "<matplotlib.figure.Figure at 0x230fc12e8>"
      ]
     },
     "metadata": {},
     "output_type": "display_data"
    }
   ],
   "source": [
    "fig = plt.figure(figsize=(16,8))\n",
    "for i in range(6):\n",
    "    fig.add_subplot(2,3,i+1)\n",
    "    plt.plot(sensortrials[i])\n",
    "    plt.ylim(0.98,1.00)\n",
    "    plt.tight_layout()\n",
    "    plt.title('Training Accuracy: Sensor '+str(i+1))\n",
    "    plt.xlabel('Iteration')\n",
    "    plt.ylabel('Accuracy')\n",
    "plt.show()\n",
    "plt.savefig('train_acc_10hu.jpg')\n",
    "\n"
   ]
  }
 ],
 "metadata": {
  "kernelspec": {
   "display_name": "Python 3",
   "language": "python",
   "name": "python3"
  },
  "language_info": {
   "codemirror_mode": {
    "name": "ipython",
    "version": 3
   },
   "file_extension": ".py",
   "mimetype": "text/x-python",
   "name": "python",
   "nbconvert_exporter": "python",
   "pygments_lexer": "ipython3",
   "version": "3.6.0"
  }
 },
 "nbformat": 4,
 "nbformat_minor": 2
}
