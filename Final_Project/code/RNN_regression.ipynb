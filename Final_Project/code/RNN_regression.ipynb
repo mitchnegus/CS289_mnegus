{
 "cells": [
  {
   "cell_type": "code",
   "execution_count": 3,
   "metadata": {
    "collapsed": true
   },
   "outputs": [],
   "source": [
    "import numpy as np\n",
    "import copy\n",
    "import sys\n",
    "\n",
    "def sigmoid(x):\n",
    "    return 1.0/(1.0 + np.exp(-x))\n",
    "\n",
    "def ReLU(x):\n",
    "    return np.maximum(x,np.zeros_like(x))\n",
    "\n",
    "\"\"\"\n",
    "def ReLU_derivative(x):\n",
    "    if x >= 0: return 1\n",
    "    return 0\n",
    "\"\"\"\n",
    "\n",
    "#read in data - a row is a sensor, a column is a point in time\n",
    "traffic_file = open('/Users/mitch/Dropbox/FinalProject/traffic2.txt')\n",
    "traffic_lines = traffic_file.readlines()\n",
    "traffic_file.close()"
   ]
  },
  {
   "cell_type": "code",
   "execution_count": 4,
   "metadata": {
    "collapsed": true
   },
   "outputs": [],
   "source": [
    "num_sensors = len(traffic_lines)\n",
    "num_sensors_considered = 1 #For now, I will look at 1 sensor at a time\n",
    "num_timepoints = len(traffic_lines[0].split())\n",
    "\n",
    "traffic = np.zeros([num_sensors,num_timepoints])\n",
    "for i in range(num_sensors):\n",
    "    tokens = traffic_lines[i].split()\n",
    "    for j in range(num_timepoints): traffic[i,j] = float(tokens[j])\n",
    "\n",
    "#setup neural network\n",
    "rolling_window_hours = 4\n",
    "rolling_window = rolling_window_hours * 6 #each time point is separated by 10 minutes\n",
    "hidden_units = 10\n",
    "#this will map from the input layer and the previous hidden layer to the hidden layer\n",
    "v = np.random.normal(scale=1.0/np.sqrt(num_sensors_considered + hidden_units),\n",
    "                        size=[hidden_units,num_sensors_considered + hidden_units + 1])\n",
    "#this will map from the hidden layer to the output layer\n",
    "w = np.random.normal(scale=1.0/np.sqrt(hidden_units),size=[num_sensors_considered,hidden_units + 1])\n",
    "\n",
    "v_update = np.zeros_like(v)\n",
    "w_update = np.zeros_like(w)\n",
    "\n",
    "alpha = 0.001 #learning rate\n",
    "training_set = np.random.binomial(1, 0.8, num_sensors)"
   ]
  },
  {
   "cell_type": "code",
   "execution_count": 10,
   "metadata": {
    "collapsed": false
   },
   "outputs": [
    {
     "name": "stdout",
     "output_type": "stream",
     "text": [
      "Training Error\n",
      "14400 0.0182575680142\n",
      "28800 0.0133475364784\n",
      "43200 0.0106922764265\n",
      "57600 0.00837540997064\n",
      "72000 0.00908710081782\n"
     ]
    }
   ],
   "source": [
    "#train\n",
    "step = 0\n",
    "total_error = 0\n",
    "train_max = 1440\n",
    "average = 0\n",
    "sensors_trained = 0\n",
    "error_count = 0\n",
    "print(\"Training Error\")\n",
    "for sensor_iteration in range(num_sensors):\n",
    "    if training_set[sensor_iteration] == 0: continue\n",
    "    train_sensor = sensor_iteration\n",
    "    sensors_trained += 1\n",
    "    if sensors_trained > 50: break\n",
    "    for i in range(train_max): #range(num_timepoints-rolling_window):\n",
    "        #print \"sensor: \", train_sensor\n",
    "        step += 1\n",
    "        if step % (train_max * 10) == 0:\n",
    "            print(step, total_error / error_count)\n",
    "            total_error = 0\n",
    "            error_count = 0\n",
    "            alpha *= 0.75\n",
    "        history = traffic[train_sensor,i:i+rolling_window]\n",
    "        previous_hidden_layers = list()\n",
    "        #previous_hidden_layers.append(np.zeros(hidden_units))\n",
    "        previous_hidden_layers.append(np.zeros(hidden_units))\n",
    "        grad_w_of_L = list()\n",
    "        grad_v_of_L = list()\n",
    "        \n",
    "        #forward propagation\n",
    "        for j in range(rolling_window):\n",
    "            input = np.append(history[j],previous_hidden_layers[-1])\n",
    "            input = np.append(input,[1.0])\n",
    "            #print \"input: \", input\n",
    "            hidden = ReLU(np.dot(v,input))\n",
    "            hidden_one = np.append(hidden,[1.0])\n",
    "            previous_hidden_layers.append(copy.deepcopy(hidden))\n",
    "            prediction = np.dot(w, hidden_one) #linear output\n",
    "            next = traffic[train_sensor,i+j+1] #- traffic[train_sensor,i+j]\n",
    "            error = prediction - next\n",
    "            if j == rolling_window - 1:\n",
    "                average += next\n",
    "                total_error += np.abs(error[0])\n",
    "                error_count += 1\n",
    "            #print \"error: \", error\n",
    "            #print \"hidden: \", hidden\n",
    "            grad_w_of_L.append(2 * error * hidden_one)\n",
    "            grad_h_of_L = 2 * error * np.transpose(w)\n",
    "            grad_h_of_L = grad_h_of_L[:-1] #remove the last row of grad_h_of_L, corresponding to the response of L to changing the constant 1, which we won't do\n",
    "            grad_v_of_h = np.zeros(v.shape)\n",
    "            for k in range(hidden_units):\n",
    "                if np.dot(input,v[k]) > 0: grad_v_of_h[k] = input\n",
    "            grad_v_of_L.append(grad_h_of_L * grad_v_of_h)\n",
    "        #print step, total_error\n",
    "\n",
    "        #back propagation\n",
    "        for j in range(rolling_window):\n",
    "            v_update -= grad_v_of_L[-j-1]\n",
    "            w_update -= grad_w_of_L[-j-1]\n",
    "\n",
    "        v += alpha * v_update\n",
    "        w += alpha * w_update\n",
    "\n",
    "        v_update *= 0\n",
    "        w_update *= 0\n",
    "\n",
    "average *= 1.0 / step\n",
    "\n",
    "#print \"v: \", v\n",
    "#print \"w: \", w"
   ]
  },
  {
   "cell_type": "code",
   "execution_count": null,
   "metadata": {
    "collapsed": false
   },
   "outputs": [],
   "source": [
    "#test\n",
    "total_error = 0\n",
    "MAD = 0\n",
    "step = 0\n",
    "sensors_tested = 0\n",
    "error_count = 0\n",
    "print(\"Test Error\")\n",
    "for sensor_iteration in range(num_sensors):\n",
    "    if training_set[sensor_iteration] == 1: continue\n",
    "    train_sensor = sensor_iteration\n",
    "    sensors_tested += 1\n",
    "    for i in range(train_max): #range(num_timepoints-rolling_window):\n",
    "        step += 1\n",
    "        #if step % (train_max * 100) == 0:\n",
    "        if sensors_tested > 1:\n",
    "            print(step, total_error / (error_count))\n",
    "            print(\"MAD: \", MAD / (error_count))\n",
    "            sys.exit()\n",
    "            total_error = 0\n",
    "            error_count = 0\n",
    "        history = traffic[train_sensor,i:i+rolling_window]\n",
    "        previous_hidden_layers = list()\n",
    "        previous_hidden_layers.append(np.zeros(hidden_units))\n",
    "        for j in range(rolling_window):\n",
    "            input = np.append(history[j],previous_hidden_layers[-1])\n",
    "            input = np.append(input,[1.0])\n",
    "            hidden = ReLU(np.dot(v,input))\n",
    "            hidden_one = np.append(hidden,[1.0])\n",
    "            #print hidden[0:5]\n",
    "            previous_hidden_layers.append(copy.deepcopy(hidden))\n",
    "            if j == rolling_window - 1:\n",
    "                prediction = np.dot(w, hidden_one) #linear output\n",
    "                next = traffic[train_sensor,i+j+1] #- traffic[train_sensor,i+j]\n",
    "                print(prediction[0], next)\n",
    "                error = prediction - next\n",
    "                total_error += np.abs(error[0])\n",
    "                MAD += np.abs(next - traffic[train_sensor,i+j])\n",
    "                error_count += 1"
   ]
  },
  {
   "cell_type": "code",
   "execution_count": null,
   "metadata": {
    "collapsed": true
   },
   "outputs": [],
   "source": []
  }
 ],
 "metadata": {
  "kernelspec": {
   "display_name": "Python 3",
   "language": "python",
   "name": "python3"
  },
  "language_info": {
   "codemirror_mode": {
    "name": "ipython",
    "version": 3
   },
   "file_extension": ".py",
   "mimetype": "text/x-python",
   "name": "python",
   "nbconvert_exporter": "python",
   "pygments_lexer": "ipython3",
   "version": "3.6.0"
  }
 },
 "nbformat": 4,
 "nbformat_minor": 2
}
