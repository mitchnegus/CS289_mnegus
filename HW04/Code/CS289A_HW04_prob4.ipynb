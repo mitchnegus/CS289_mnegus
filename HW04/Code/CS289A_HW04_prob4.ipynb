{
 "cells": [
  {
   "cell_type": "markdown",
   "metadata": {},
   "source": [
    "CS 289A Homework 4\n",
    "==================\n",
    "Start with program overhead: load modules (and reload them as they are modified)"
   ]
  },
  {
   "cell_type": "code",
   "execution_count": 1,
   "metadata": {
    "collapsed": false
   },
   "outputs": [],
   "source": [
    "%load_ext autoreload"
   ]
  },
  {
   "cell_type": "code",
   "execution_count": 2,
   "metadata": {
    "collapsed": true
   },
   "outputs": [],
   "source": [
    "%autoreload 2"
   ]
  },
  {
   "cell_type": "code",
   "execution_count": 3,
   "metadata": {
    "collapsed": false
   },
   "outputs": [],
   "source": [
    "import HW04_utils as ut\n",
    "import numpy as np\n",
    "from scipy import special as spsp\n",
    "from matplotlib import pyplot as plt"
   ]
  },
  {
   "cell_type": "markdown",
   "metadata": {},
   "source": [
    "Next, we give a couple paths specifying where to find the data set on the local machine. **A user must change this to reflect the path to their data.**"
   ]
  },
  {
   "cell_type": "code",
   "execution_count": 4,
   "metadata": {
    "collapsed": true
   },
   "outputs": [],
   "source": [
    "BASE_DIR = \"/Users/mitch/Documents/Cal/2_2017_Spring/COMPSCI 289A - Intro to Machine Learning/HW04\"\n",
    "DATA_PATH = \"Data/data.mat\""
   ]
  },
  {
   "cell_type": "markdown",
   "metadata": {},
   "source": [
    "Then, load the data using the custom utilities module:"
   ]
  },
  {
   "cell_type": "code",
   "execution_count": 5,
   "metadata": {
    "collapsed": false
   },
   "outputs": [],
   "source": [
    "# Load training data\n",
    "descriptions = ut.loaddata(DATA_PATH,BASE_DIR,'description')\n",
    "X = ut.loaddata(DATA_PATH,BASE_DIR,'X')\n",
    "y = ut.loaddata(DATA_PATH,BASE_DIR,'y')\n",
    "\n",
    "# Shuffle training data\n",
    "data = np.concatenate((X,y),axis=1)\n",
    "np.random.shuffle(data)\n",
    "X = data[:,:-1]\n",
    "y = data[:,-1]\n",
    "\n",
    "# Normalize training data\n",
    "meanX = np.tile(np.mean(X,axis=0),(len(X),1))\n",
    "minX = np.tile(np.amin(X,axis=0),(len(X),1))\n",
    "maxX = np.tile(np.amax(X,axis=0),(len(X),1))\n",
    "X = (X-meanX)/(maxX-minX)\n",
    "\n",
    "# Separate a validation set that is a given fraction of the training data\n",
    "frac = 1/6\n",
    "n = int(len(X)-frac*len(X))\n",
    "X_train = X[:n]\n",
    "X_val = X[n:]\n",
    "y_train = y[:n]\n",
    "y_val = y[n:]\n",
    "\n",
    "X = X_train\n",
    "y = y_train\n",
    "\n",
    "# Load test data\n",
    "X_test = ut.loaddata(DATA_PATH,BASE_DIR,'X_test')\n",
    "\n",
    "# Normalize test data\n",
    "meanXt = np.tile(np.mean(X_test,axis=0),(len(X_test),1))\n",
    "minXt = np.tile(np.amin(X_test,axis=0),(len(X_test),1))\n",
    "maxXt = np.tile(np.amax(X_test,axis=0),(len(X_test),1))\n",
    "X_test = (X_test-meanXt)/(maxXt-minXt)"
   ]
  },
  {
   "cell_type": "markdown",
   "metadata": {},
   "source": [
    "Part 1\n",
    "-------\n",
    "We use the following procedure to find the optimal $w$ using batch gradient descent:\n",
    "\n",
    "(1)&nbsp;&nbsp;&nbsp;&nbsp;&nbsp; $w \\leftarrow$ arbitrary starting point  \n",
    "(2)&nbsp;&nbsp;&nbsp;&nbsp;&nbsp; while $J(w) > 0$  \n",
    "&nbsp;&nbsp;&nbsp;&nbsp;&nbsp;&nbsp;&nbsp;&nbsp; &nbsp;&nbsp;&nbsp;&nbsp;&nbsp;$w \\leftarrow w - \\epsilon(2 \\lambda w - X^T(y-s))$  \n",
    "(3)&nbsp;&nbsp;&nbsp;&nbsp;&nbsp; return $w$"
   ]
  },
  {
   "cell_type": "markdown",
   "metadata": {},
   "source": [
    "Step (1)"
   ]
  },
  {
   "cell_type": "code",
   "execution_count": 6,
   "metadata": {
    "collapsed": false
   },
   "outputs": [],
   "source": [
    "w = np.zeros(len(descriptions))"
   ]
  },
  {
   "cell_type": "markdown",
   "metadata": {},
   "source": [
    "Step (2)"
   ]
  },
  {
   "cell_type": "code",
   "execution_count": 7,
   "metadata": {
    "collapsed": true
   },
   "outputs": [],
   "source": [
    "def update_w_batch(w,X,y,lam,eps):\n",
    "    s = spsp.expit(np.dot(X,w))\n",
    "    w_prime = w - eps*(2*lam*w-np.dot(X.T,(y-s)))\n",
    "    \n",
    "    return w_prime"
   ]
  },
  {
   "cell_type": "code",
   "execution_count": 8,
   "metadata": {
    "collapsed": true
   },
   "outputs": [],
   "source": [
    "def costfnJ(w,X,y,lam):\n",
    "    s = spsp.expit(np.dot(X,w))\n",
    "    J = lam*np.linalg.norm(w)**2 - np.sum(y*np.log(s) + (np.ones_like(y)-y)*np.log(np.ones_like(s)-s))\n",
    "\n",
    "    return J"
   ]
  },
  {
   "cell_type": "code",
   "execution_count": 9,
   "metadata": {
    "collapsed": true
   },
   "outputs": [],
   "source": [
    "def whileloop(w,X,y,lam,eps,tol,update_fn):\n",
    "    i=0\n",
    "    iters,Js = [],[]\n",
    "    J = costfnJ(w,X,y,lam)\n",
    "    lastJ = J+1  #dummy condition to pass while condition on first run\n",
    "    while J>0 and i<=1e7 and np.absolute(lastJ-J)>tol:\n",
    "        w_prime = update_fn(w,X,y,lam,eps)\n",
    "        w = w_prime\n",
    "        if i%10==0:\n",
    "            if i%500000==0:\n",
    "                print(str(i)+\":\\tJ =\",str(J))\n",
    "            iters.append(i)\n",
    "            Js.append(J)\n",
    "        lastJ = J\n",
    "        J = costfnJ(w,X,y,lam)\n",
    "        i+=1\n",
    "        \n",
    "    return w,iters,Js"
   ]
  },
  {
   "cell_type": "markdown",
   "metadata": {},
   "source": [
    "Step (3)\n",
    "\n",
    "Here we try several values of hyperparameters $\\lambda$ and $\\epsilon$ to find the optimal values. We also introduce a convergence tolerance that is used in the case that data is not linearly separable."
   ]
  },
  {
   "cell_type": "code",
   "execution_count": 10,
   "metadata": {
    "collapsed": false
   },
   "outputs": [],
   "source": [
    "lambdas = np.logspace(-3,1,5)\n",
    "epsilons = np.logspace(-5,-3,3)\n",
    "tol = 1e-6"
   ]
  },
  {
   "cell_type": "code",
   "execution_count": 11,
   "metadata": {
    "collapsed": false
   },
   "outputs": [
    {
     "name": "stdout",
     "output_type": "stream",
     "text": [
      "Lambda: 0.001 \tEpsilon: 1e-05\n",
      "0:\tJ = 3465.7359028\n",
      "500000:\tJ = 767.198352822\n",
      "1000000:\tJ = 704.407443175\n",
      "1500000:\tJ = 662.748898799\n",
      "2000000:\tJ = 633.433517029\n",
      "2500000:\tJ = 612.32966552\n",
      "3000000:\tJ = 596.759285111\n",
      "3500000:\tJ = 585.04403722\n",
      "4000000:\tJ = 576.096241789\n",
      "4500000:\tJ = 569.178297095\n",
      "5000000:\tJ = 563.773879883\n",
      "5500000:\tJ = 559.513515784\n",
      "6000000:\tJ = 556.128237005\n",
      "6500000:\tJ = 553.419368524\n",
      "7000000:\tJ = 551.238253803\n",
      "7500000:\tJ = 549.472364806\n",
      "8000000:\tJ = 548.035622922\n",
      "8500000:\tJ = 546.861552511\n",
      "9000000:\tJ = 545.898371535\n",
      "9500000:\tJ = 545.105426505\n",
      "10000000:\tJ = 544.450573101\n",
      "Lambda: 0.001 \tEpsilon: 0.0001\n",
      "0:\tJ = 3465.7359028\n",
      "500000:\tJ = 563.773821406\n",
      "1000000:\tJ = 544.450560248\n",
      "1500000:\tJ = 541.715934248\n",
      "Lambda: 0.001 \tEpsilon: 0.001\n",
      "0:\tJ = 3465.7359028\n",
      "Lambda: 0.01 \tEpsilon: 1e-05\n",
      "0:\tJ = 3465.7359028\n",
      "500000:\tJ = 792.373230383\n",
      "1000000:\tJ = 744.938598164\n",
      "1500000:\tJ = 718.85368012\n",
      "2000000:\tJ = 703.760004371\n",
      "2500000:\tJ = 694.932644597\n",
      "3000000:\tJ = 689.700802893\n",
      "3500000:\tJ = 686.560299793\n",
      "4000000:\tJ = 684.656004021\n",
      "4500000:\tJ = 683.49248145\n",
      "5000000:\tJ = 682.777510852\n",
      "Lambda: 0.01 \tEpsilon: 0.0001\n",
      "0:\tJ = 3465.7359028\n",
      "500000:\tJ = 682.777498732\n",
      "Lambda: 0.01 \tEpsilon: 0.001\n",
      "0:\tJ = 3465.7359028\n",
      "Lambda: 0.1 \tEpsilon: 1e-05\n",
      "0:\tJ = 3465.7359028\n",
      "500000:\tJ = 967.159795304\n",
      "1000000:\tJ = 963.570102976\n",
      "Lambda: 0.1 \tEpsilon: 0.0001\n",
      "0:\tJ = 3465.7359028\n",
      "Lambda: 0.1 \tEpsilon: 0.001\n",
      "0:\tJ = 3465.7359028\n",
      "Lambda: 1.0 \tEpsilon: 1e-05\n",
      "0:\tJ = 3465.7359028\n",
      "Lambda: 1.0 \tEpsilon: 0.0001\n",
      "0:\tJ = 3465.7359028\n",
      "Lambda: 1.0 \tEpsilon: 0.001\n",
      "0:\tJ = 3465.7359028\n",
      "Lambda: 10.0 \tEpsilon: 1e-05\n",
      "0:\tJ = 3465.7359028\n",
      "Lambda: 10.0 \tEpsilon: 0.0001\n",
      "0:\tJ = 3465.7359028\n",
      "Lambda: 10.0 \tEpsilon: 0.001\n",
      "0:\tJ = 3465.7359028\n"
     ]
    }
   ],
   "source": [
    "# Collect loss function as f'n of iteration number for each combo\n",
    "optima_batch = {}\n",
    "LvIs_batch = {}\n",
    "for lam in lambdas:\n",
    "    optima_batch[lam]={}\n",
    "    LvIs_batch[lam]={}\n",
    "    for eps in epsilons:\n",
    "        print(\"Lambda:\",lam,\"\\tEpsilon:\",eps)\n",
    "        w_star,iters,Js = whileloop(w,X,y,lam,eps,tol,update_w_batch)\n",
    "        optima_batch[lam][eps]= w_star\n",
    "        LvIs_batch[lam][eps] = [iters,Js]"
   ]
  },
  {
   "cell_type": "markdown",
   "metadata": {},
   "source": [
    "Print out and save a list of the accuracies corresponding to the optimum w\\* for each combination of $\\lambda$ and $\\epsilon$."
   ]
  },
  {
   "cell_type": "code",
   "execution_count": 12,
   "metadata": {
    "collapsed": false
   },
   "outputs": [],
   "source": [
    "def HyperparameterAccs(lambdas,epsilons,optima,valdata,vallabels):\n",
    "    Accs = np.zeros((len(lambdas)*len(epsilons),3))\n",
    "    i=0\n",
    "    for lam in optima:\n",
    "        for eps in optima[lam]:\n",
    "            w_star = optima[lam][eps]\n",
    "            probs = spsp.expit(np.dot(X_val,w_star))\n",
    "            tally = 0\n",
    "            total = 0\n",
    "            for j in range(len(probs)):\n",
    "                if probs[j] >= 0.5:\n",
    "                    prob = 1\n",
    "                if probs[j] < 0.5:\n",
    "                    prob = 0\n",
    "                if prob == y_val[j]:\n",
    "                    tally += 1\n",
    "                total += 1\n",
    "            acc = tally/total\n",
    "            Accs[i] = [acc,lam,eps]\n",
    "            i+=1\n",
    "            print('lam = '+str(lam)+'\\teps =',eps,'\\t\\tAccuracy: ',acc)\n",
    "\n",
    "    return Accs"
   ]
  },
  {
   "cell_type": "code",
   "execution_count": 13,
   "metadata": {
    "collapsed": false
   },
   "outputs": [
    {
     "name": "stdout",
     "output_type": "stream",
     "text": [
      "lam = 0.001\teps = 1e-05 \t\tAccuracy:  0.955\n",
      "lam = 0.001\teps = 0.0001 \t\tAccuracy:  0.958\n",
      "lam = 0.001\teps = 0.001 \t\tAccuracy:  0.959\n",
      "lam = 0.01\teps = 1e-05 \t\tAccuracy:  0.952\n",
      "lam = 0.01\teps = 0.0001 \t\tAccuracy:  0.951\n",
      "lam = 0.01\teps = 0.001 \t\tAccuracy:  0.952\n",
      "lam = 0.1\teps = 1e-05 \t\tAccuracy:  0.935\n",
      "lam = 0.1\teps = 0.0001 \t\tAccuracy:  0.935\n",
      "lam = 0.1\teps = 0.001 \t\tAccuracy:  0.935\n",
      "lam = 1.0\teps = 1e-05 \t\tAccuracy:  0.922\n",
      "lam = 1.0\teps = 0.0001 \t\tAccuracy:  0.921\n",
      "lam = 1.0\teps = 0.001 \t\tAccuracy:  0.921\n",
      "lam = 10.0\teps = 1e-05 \t\tAccuracy:  0.913\n",
      "lam = 10.0\teps = 0.0001 \t\tAccuracy:  0.913\n",
      "lam = 10.0\teps = 0.001 \t\tAccuracy:  0.913\n"
     ]
    }
   ],
   "source": [
    "Accs_batch = HyperparameterAccs(lambdas,epsilons,optima_batch,X_val,y_val)"
   ]
  },
  {
   "cell_type": "code",
   "execution_count": 14,
   "metadata": {
    "collapsed": false
   },
   "outputs": [
    {
     "name": "stdout",
     "output_type": "stream",
     "text": [
      "[  -9.76375855   13.46225692   -5.2732488   -66.13364483   10.78171502\n",
      "   19.51816531  -26.64844479  146.9055984    -5.99243176    2.76490805\n",
      "   19.14298793    3.53846425]\n",
      "[[  9.55000000e-01   1.00000000e-03   1.00000000e-05]\n",
      " [  9.58000000e-01   1.00000000e-03   1.00000000e-04]\n",
      " [  9.59000000e-01   1.00000000e-03   1.00000000e-03]\n",
      " [  9.52000000e-01   1.00000000e-02   1.00000000e-05]\n",
      " [  9.51000000e-01   1.00000000e-02   1.00000000e-04]\n",
      " [  9.52000000e-01   1.00000000e-02   1.00000000e-03]\n",
      " [  9.35000000e-01   1.00000000e-01   1.00000000e-05]\n",
      " [  9.35000000e-01   1.00000000e-01   1.00000000e-04]\n",
      " [  9.35000000e-01   1.00000000e-01   1.00000000e-03]\n",
      " [  9.22000000e-01   1.00000000e+00   1.00000000e-05]\n",
      " [  9.21000000e-01   1.00000000e+00   1.00000000e-04]\n",
      " [  9.21000000e-01   1.00000000e+00   1.00000000e-03]\n",
      " [  9.13000000e-01   1.00000000e+01   1.00000000e-05]\n",
      " [  9.13000000e-01   1.00000000e+01   1.00000000e-04]\n",
      " [  9.13000000e-01   1.00000000e+01   1.00000000e-03]]\n"
     ]
    }
   ],
   "source": [
    "print(optima_batch[0.001][0.001])\n",
    "print(Accs_batch)"
   ]
  },
  {
   "cell_type": "markdown",
   "metadata": {},
   "source": [
    "Plot the loss function vs. iteration number for the best combination of $\\lambda, \\epsilon$."
   ]
  },
  {
   "cell_type": "code",
   "execution_count": 15,
   "metadata": {
    "collapsed": false
   },
   "outputs": [],
   "source": [
    "def plot_LFvIt(Accs,LvIs):\n",
    "    fig = plt.figure(figsize=(12,10))\n",
    "    plt.clf()\n",
    "\n",
    "    # Find the most accurate lam,eps combo\n",
    "    imax = np.argmax(Accs[:,0])\n",
    "    lam = Accs[imax,1]\n",
    "    eps = Accs[imax,2]\n",
    "\n",
    "    Iters = LvIs[lam][eps][0]\n",
    "    LossFn = LvIs[lam][eps][1]\n",
    "    plt.plot(Iters,LossFn)\n",
    "    plt.xlabel('Iterations')\n",
    "    plt.ylabel('Loss Function')\n",
    "    plt.text(0.75*(np.amax(Iters)-np.amin(Iters))+np.amin(Iters),0.95*(np.amax(LossFn)-np.amin(LossFn))+np.amin(LossFn),'$\\lambda = $'+str(lam)+', $\\epsilon = $'+str(eps))\n",
    "    plt.show()\n"
   ]
  },
  {
   "cell_type": "code",
   "execution_count": 16,
   "metadata": {
    "collapsed": false
   },
   "outputs": [
    {
     "data": {
      "image/png": "[encoded data removed]",
      "text/plain": [
       "<matplotlib.figure.Figure at 0x1133ed9e8>"
      ]
     },
     "metadata": {},
     "output_type": "display_data"
    }
   ],
   "source": [
    "plot_LFvIt(Accs_batch,LvIs_batch)"
   ]
  },
  {
   "cell_type": "markdown",
   "metadata": {
    "collapsed": true
   },
   "source": [
    "Part 2\n",
    "-------\n",
    "Instead of batch descent, we can use the following procedure to find the optimal $w$ using stochastic gradient descent:\n",
    "\n",
    "(1)&nbsp;&nbsp;&nbsp;&nbsp;&nbsp; $w \\leftarrow$ arbitrary starting point  \n",
    "(2)&nbsp;&nbsp;&nbsp;&nbsp;&nbsp; while $J(w) > 0$  \n",
    "&nbsp;&nbsp;&nbsp;&nbsp;&nbsp;&nbsp;&nbsp;&nbsp;&nbsp;&nbsp;&nbsp;&nbsp;&nbsp; $w \\leftarrow w - \\epsilon(2 \\lambda w - X_i^T(y_i-s_i))$  \n",
    "(3)&nbsp;&nbsp;&nbsp;&nbsp;&nbsp; return $w$"
   ]
  },
  {
   "cell_type": "markdown",
   "metadata": {},
   "source": [
    "Step (1) - Same as in batch gradient descent"
   ]
  },
  {
   "cell_type": "code",
   "execution_count": 17,
   "metadata": {
    "collapsed": false
   },
   "outputs": [],
   "source": [
    "w = np.zeros(len(descriptions))"
   ]
  },
  {
   "cell_type": "markdown",
   "metadata": {},
   "source": [
    "Step (2) - we can reuse the functions for calculating the cost function and the looping process defined in part 1, step 2; we define a new function for the stochastic update rule"
   ]
  },
  {
   "cell_type": "code",
   "execution_count": 18,
   "metadata": {
    "collapsed": true
   },
   "outputs": [],
   "source": [
    "def update_w_stoch(w,X,y,lam,eps):\n",
    "    i = np.random.choice(len(X))\n",
    "    y_i = y[i]\n",
    "    X_i = X[i]\n",
    "    s_i = spsp.expit(np.dot(X_i,w))\n",
    "    w_prime = w - eps*(2*lam*w-X_i*(y_i-s_i))\n",
    "    \n",
    "    return w_prime"
   ]
  },
  {
   "cell_type": "markdown",
   "metadata": {},
   "source": [
    "Step (3)\n",
    "\n",
    "Again, we try several values of hyperparameters $\\lambda$ and $\\epsilon$ to find the optimal values and we introduce a convergence tolerance that is used in the case that data is not linearly separable. "
   ]
  },
  {
   "cell_type": "code",
   "execution_count": 19,
   "metadata": {
    "collapsed": true
   },
   "outputs": [],
   "source": [
    "tol = 1e-9"
   ]
  },
  {
   "cell_type": "code",
   "execution_count": 20,
   "metadata": {
    "collapsed": false,
    "scrolled": true
   },
   "outputs": [
    {
     "name": "stdout",
     "output_type": "stream",
     "text": [
      "Lambda: 0.001 \tEpsilon: 1e-05\n",
      "0:\tJ = 3465.7359028\n",
      "500000:\tJ = 3364.07844802\n",
      "751460\n",
      "Lambda: 0.001 \tEpsilon: 0.0001\n",
      "0:\tJ = 3465.7359028\n",
      "407340\n",
      "Lambda: 0.001 \tEpsilon: 0.001\n",
      "0:\tJ = 3465.7359028\n",
      "500000:\tJ = 1780.02392783\n",
      "957690\n",
      "Lambda: 0.01 \tEpsilon: 1e-05\n",
      "0:\tJ = 3465.7359028\n",
      "500000:\tJ = 3368.30796372\n",
      "672060\n",
      "Lambda: 0.01 \tEpsilon: 0.0001\n",
      "0:\tJ = 3465.7359028\n",
      "359080\n",
      "Lambda: 0.01 \tEpsilon: 0.001\n",
      "0:\tJ = 3465.7359028\n",
      "500000:\tJ = 2785.21595913\n",
      "1000000:\tJ = 2787.32786271\n",
      "1500000:\tJ = 2785.51122138\n",
      "2000000:\tJ = 2785.11129489\n",
      "2500000:\tJ = 2787.0705809\n",
      "3000000:\tJ = 2785.28963853\n",
      "3500000:\tJ = 2785.803959\n",
      "4000000:\tJ = 2787.22372734\n",
      "4500000:\tJ = 2788.00847534\n",
      "5000000:\tJ = 2786.29573236\n",
      "5500000:\tJ = 2785.48439103\n",
      "6000000:\tJ = 2788.66480945\n",
      "6005030\n",
      "Lambda: 0.1 \tEpsilon: 1e-05\n",
      "0:\tJ = 3465.7359028\n",
      "214990\n",
      "Lambda: 0.1 \tEpsilon: 0.0001\n",
      "0:\tJ = 3465.7359028\n",
      "500000:\tJ = 3365.64013098\n",
      "1000000:\tJ = 3365.10773544\n",
      "1500000:\tJ = 3365.41298886\n",
      "2000000:\tJ = 3365.44933867\n",
      "2500000:\tJ = 3365.16683129\n",
      "3000000:\tJ = 3365.2569922\n",
      "3238330\n",
      "Lambda: 0.1 \tEpsilon: 0.001\n",
      "0:\tJ = 3465.7359028\n",
      "500000:\tJ = 3365.02642054\n",
      "1000000:\tJ = 3364.96104161\n",
      "1500000:\tJ = 3365.04799404\n",
      "2000000:\tJ = 3365.24070245\n",
      "2500000:\tJ = 3364.91826271\n",
      "3000000:\tJ = 3365.17746645\n",
      "3500000:\tJ = 3365.1079893\n",
      "4000000:\tJ = 3364.48461212\n",
      "4500000:\tJ = 3366.13618097\n",
      "5000000:\tJ = 3364.66628881\n",
      "5500000:\tJ = 3365.56950205\n",
      "6000000:\tJ = 3365.13812904\n",
      "6500000:\tJ = 3366.38725617\n",
      "7000000:\tJ = 3366.13648221\n",
      "7500000:\tJ = 3365.20638599\n",
      "8000000:\tJ = 3365.1508241\n",
      "8500000:\tJ = 3364.84247723\n",
      "9000000:\tJ = 3365.38729735\n",
      "9500000:\tJ = 3365.47776594\n",
      "10000000:\tJ = 3364.7427037\n",
      "10000000\n",
      "Lambda: 1.0 \tEpsilon: 1e-05\n",
      "0:\tJ = 3465.7359028\n",
      "500000:\tJ = 3455.19947615\n",
      "892190\n",
      "Lambda: 1.0 \tEpsilon: 0.0001\n",
      "0:\tJ = 3465.7359028\n",
      "500000:\tJ = 3455.22516758\n",
      "806130\n",
      "Lambda: 1.0 \tEpsilon: 0.001\n",
      "0:\tJ = 3465.7359028\n",
      "500000:\tJ = 3455.45095814\n",
      "1000000:\tJ = 3455.32709589\n",
      "1500000:\tJ = 3454.99078137\n",
      "2000000:\tJ = 3455.46400094\n",
      "2500000:\tJ = 3454.41694654\n",
      "3000000:\tJ = 3454.82719222\n",
      "3500000:\tJ = 3455.04570563\n",
      "4000000:\tJ = 3455.11178217\n",
      "4500000:\tJ = 3455.63697838\n",
      "5000000:\tJ = 3455.37833326\n",
      "5500000:\tJ = 3455.22887265\n",
      "6000000:\tJ = 3454.9626366\n",
      "6500000:\tJ = 3455.19824855\n",
      "7000000:\tJ = 3455.31077341\n",
      "7500000:\tJ = 3455.36412691\n",
      "8000000:\tJ = 3455.8766627\n",
      "8500000:\tJ = 3455.37583182\n",
      "9000000:\tJ = 3455.11135474\n",
      "9500000:\tJ = 3455.25644384\n",
      "10000000:\tJ = 3455.08109678\n",
      "10000000\n",
      "Lambda: 10.0 \tEpsilon: 1e-05\n",
      "0:\tJ = 3465.7359028\n",
      "355830\n",
      "Lambda: 10.0 \tEpsilon: 0.0001\n",
      "0:\tJ = 3465.7359028\n",
      "500000:\tJ = 3464.65317259\n",
      "974090\n",
      "Lambda: 10.0 \tEpsilon: 0.001\n",
      "0:\tJ = 3465.7359028\n",
      "500000:\tJ = 3464.63245865\n",
      "1000000:\tJ = 3464.71713815\n",
      "1500000:\tJ = 3464.75740153\n",
      "2000000:\tJ = 3464.74406301\n",
      "2500000:\tJ = 3464.59253951\n",
      "3000000:\tJ = 3464.63204545\n",
      "3500000:\tJ = 3464.68100638\n",
      "4000000:\tJ = 3464.7078865\n",
      "4500000:\tJ = 3464.61943668\n",
      "5000000:\tJ = 3464.63747874\n",
      "5500000:\tJ = 3464.67095198\n",
      "6000000:\tJ = 3464.73626162\n",
      "6500000:\tJ = 3464.63546903\n",
      "7000000:\tJ = 3464.63242981\n",
      "7500000:\tJ = 3464.47215421\n",
      "8000000:\tJ = 3464.76204115\n",
      "8500000:\tJ = 3464.5792482\n",
      "9000000:\tJ = 3464.60974749\n",
      "9500000:\tJ = 3464.77891622\n",
      "10000000:\tJ = 3464.72769749\n",
      "10000000\n"
     ]
    }
   ],
   "source": [
    "# Collect loss function as f'n of iteration number for each combo\n",
    "optima_stoch = {}\n",
    "LvIs_stoch = {}\n",
    "for lam in lambdas:\n",
    "    optima_stoch[lam]={}\n",
    "    LvIs_stoch[lam]={}\n",
    "    for eps in epsilons:\n",
    "        print(\"Lambda:\",lam,\"\\tEpsilon:\",eps)\n",
    "        w_star,iters,Js = whileloop(w,X,y,lam,eps,tol,update_w_stoch)\n",
    "        optima_stoch[lam][eps]= w_star\n",
    "        LvIs_stoch[lam][eps] = [iters,Js]\n",
    "        print(iters[len(iters)-1])"
   ]
  },
  {
   "cell_type": "markdown",
   "metadata": {},
   "source": [
    "Print out a list of the optimum w\\* for each combination of $\\lambda$ and $\\epsilon$. Save the accuracies in a list."
   ]
  },
  {
   "cell_type": "code",
   "execution_count": 21,
   "metadata": {
    "collapsed": false
   },
   "outputs": [
    {
     "name": "stdout",
     "output_type": "stream",
     "text": [
      "lam = 0.001\teps = 1e-05 \t\tAccuracy:  0.902\n",
      "lam = 0.001\teps = 0.0001 \t\tAccuracy:  0.903\n",
      "lam = 0.001\teps = 0.001 \t\tAccuracy:  0.913\n",
      "lam = 0.01\teps = 1e-05 \t\tAccuracy:  0.902\n",
      "lam = 0.01\teps = 0.0001 \t\tAccuracy:  0.903\n",
      "lam = 0.01\teps = 0.001 \t\tAccuracy:  0.904\n",
      "lam = 0.1\teps = 1e-05 \t\tAccuracy:  0.901\n",
      "lam = 0.1\teps = 0.0001 \t\tAccuracy:  0.901\n",
      "lam = 0.1\teps = 0.001 \t\tAccuracy:  0.9\n",
      "lam = 1.0\teps = 1e-05 \t\tAccuracy:  0.903\n",
      "lam = 1.0\teps = 0.0001 \t\tAccuracy:  0.902\n",
      "lam = 1.0\teps = 0.001 \t\tAccuracy:  0.899\n",
      "lam = 10.0\teps = 1e-05 \t\tAccuracy:  0.904\n",
      "lam = 10.0\teps = 0.0001 \t\tAccuracy:  0.889\n",
      "lam = 10.0\teps = 0.001 \t\tAccuracy:  0.893\n"
     ]
    }
   ],
   "source": [
    "Accs_stoch = HyperparameterAccs(lambdas,epsilons,optima_stoch,X_val,y_val)"
   ]
  },
  {
   "cell_type": "markdown",
   "metadata": {},
   "source": [
    "Plot the loss function vs. iteration number for the best combination of $\\lambda, \\epsilon$."
   ]
  },
  {
   "cell_type": "code",
   "execution_count": 22,
   "metadata": {
    "collapsed": false
   },
   "outputs": [
    {
     "data": {
      "image/png": "[encoded data removed]",
      "text/plain": [
       "<matplotlib.figure.Figure at 0x11fb9bb38>"
      ]
     },
     "metadata": {},
     "output_type": "display_data"
    }
   ],
   "source": [
    "plot_LFvIt(Accs_stoch,LvIs_stoch)"
   ]
  },
  {
   "cell_type": "markdown",
   "metadata": {},
   "source": [
    "Part 3\n",
    "----------------------------\n",
    "Now we wish to repeat part 2 (stochastic gradient descent) but using a variable $\\epsilon$.   \n",
    "We can accomplish this by redefining our while loop to decrease $\\epsilon$ such that $\\epsilon \\propto 1/t$."
   ]
  },
  {
   "cell_type": "code",
   "execution_count": 23,
   "metadata": {
    "collapsed": true
   },
   "outputs": [],
   "source": [
    "def whileloop_deceps(w,X,y,lam,eps,tol,update_fn):\n",
    "    i=0\n",
    "    iters,Js = [],[]\n",
    "    J = costfnJ(w,X,y,lam)\n",
    "    lastJ = J+1  #dummy condition to pass while condition on first run\n",
    "    while J>0 and i<=1e7 and np.absolute(lastJ-J)>tol:\n",
    "        w_prime = update_fn(w,X,y,lam,eps/(i+1))\n",
    "        w = w_prime\n",
    "        if i%10==0:\n",
    "            if i%500000==0:\n",
    "                print(str(i)+\":\\tJ =\",str(J))\n",
    "            iters.append(i)\n",
    "            Js.append(J)\n",
    "        lastJ = J\n",
    "        J = costfnJ(w,X,y,lam)\n",
    "        i+=1\n",
    "        \n",
    "    return w,iters,Js"
   ]
  },
  {
   "cell_type": "markdown",
   "metadata": {},
   "source": [
    "Then, we call that function using the same procedure used before."
   ]
  },
  {
   "cell_type": "code",
   "execution_count": 24,
   "metadata": {
    "collapsed": false
   },
   "outputs": [
    {
     "name": "stdout",
     "output_type": "stream",
     "text": [
      "Lambda: 0.001 \tEpsilon: 1e-05\n",
      "0:\tJ = 3465.7359028\n",
      "990\n",
      "Lambda: 0.001 \tEpsilon: 0.0001\n",
      "0:\tJ = 3465.7359028\n",
      "1400\n",
      "Lambda: 0.001 \tEpsilon: 0.001\n",
      "0:\tJ = 3465.7359028\n",
      "3500\n",
      "Lambda: 0.01 \tEpsilon: 1e-05\n",
      "0:\tJ = 3465.7359028\n",
      "1040\n",
      "Lambda: 0.01 \tEpsilon: 0.0001\n",
      "0:\tJ = 3465.7359028\n",
      "1430\n",
      "Lambda: 0.01 \tEpsilon: 0.001\n",
      "0:\tJ = 3465.7359028\n",
      "1860\n",
      "Lambda: 0.1 \tEpsilon: 1e-05\n",
      "0:\tJ = 3465.7359028\n",
      "840\n",
      "Lambda: 0.1 \tEpsilon: 0.0001\n",
      "0:\tJ = 3465.7359028\n",
      "990\n",
      "Lambda: 0.1 \tEpsilon: 0.001\n",
      "0:\tJ = 3465.7359028\n",
      "23150\n",
      "Lambda: 1.0 \tEpsilon: 1e-05\n",
      "0:\tJ = 3465.7359028\n",
      "290\n",
      "Lambda: 1.0 \tEpsilon: 0.0001\n",
      "0:\tJ = 3465.7359028\n",
      "2940\n",
      "Lambda: 1.0 \tEpsilon: 0.001\n",
      "0:\tJ = 3465.7359028\n",
      "3020\n",
      "Lambda: 10.0 \tEpsilon: 1e-05\n",
      "0:\tJ = 3465.7359028\n",
      "1180\n",
      "Lambda: 10.0 \tEpsilon: 0.0001\n",
      "0:\tJ = 3465.7359028\n",
      "3930\n",
      "Lambda: 10.0 \tEpsilon: 0.001\n",
      "0:\tJ = 3465.7359028\n",
      "3880\n"
     ]
    }
   ],
   "source": [
    "# Collect loss function as f'n of iteration number for each combo\n",
    "optima_stoch_deceps = {}\n",
    "LvIs_stoch_deceps = {}\n",
    "for lam in lambdas:\n",
    "    optima_stoch_deceps[lam]={}\n",
    "    LvIs_stoch_deceps[lam]={}\n",
    "    for eps in epsilons:\n",
    "        print(\"Lambda:\",lam,\"\\tEpsilon:\",eps)\n",
    "        w_star,iters,Js = whileloop_deceps(w,X,y,lam,eps,tol,update_w_stoch)\n",
    "        optima_stoch_deceps[lam][eps]= w_star\n",
    "        LvIs_stoch_deceps[lam][eps] = [iters,Js]\n",
    "        print(iters[len(iters)-1])"
   ]
  },
  {
   "cell_type": "markdown",
   "metadata": {},
   "source": [
    "Print out a list of the optimum w\\* for each combination of $\\lambda$ and $\\epsilon$. Save the accuracies in a list."
   ]
  },
  {
   "cell_type": "code",
   "execution_count": 25,
   "metadata": {
    "collapsed": false
   },
   "outputs": [
    {
     "name": "stdout",
     "output_type": "stream",
     "text": [
      "lam = 0.001\teps = 1e-05 \t\tAccuracy:  0.88\n",
      "lam = 0.001\teps = 0.0001 \t\tAccuracy:  0.884\n",
      "lam = 0.001\teps = 0.001 \t\tAccuracy:  0.875\n",
      "lam = 0.01\teps = 1e-05 \t\tAccuracy:  0.884\n",
      "lam = 0.01\teps = 0.0001 \t\tAccuracy:  0.769\n",
      "lam = 0.01\teps = 0.001 \t\tAccuracy:  0.854\n",
      "lam = 0.1\teps = 1e-05 \t\tAccuracy:  0.877\n",
      "lam = 0.1\teps = 0.0001 \t\tAccuracy:  0.871\n",
      "lam = 0.1\teps = 0.001 \t\tAccuracy:  0.883\n",
      "lam = 1.0\teps = 1e-05 \t\tAccuracy:  0.761\n",
      "lam = 1.0\teps = 0.0001 \t\tAccuracy:  0.874\n",
      "lam = 1.0\teps = 0.001 \t\tAccuracy:  0.869\n",
      "lam = 10.0\teps = 1e-05 \t\tAccuracy:  0.892\n",
      "lam = 10.0\teps = 0.0001 \t\tAccuracy:  0.864\n",
      "lam = 10.0\teps = 0.001 \t\tAccuracy:  0.887\n"
     ]
    }
   ],
   "source": [
    "Accs_stoch_deceps = HyperparameterAccs(lambdas,epsilons,optima_stoch_deceps,X_val,y_val)"
   ]
  },
  {
   "cell_type": "markdown",
   "metadata": {},
   "source": [
    "Plot the loss function vs. iteration number for the best combination of $\\lambda, \\epsilon$."
   ]
  },
  {
   "cell_type": "code",
   "execution_count": 26,
   "metadata": {
    "collapsed": false
   },
   "outputs": [
    {
     "data": {
      "image/png": "[encoded data removed]",
      "text/plain": [
       "<matplotlib.figure.Figure at 0x13395aac8>"
      ]
     },
     "metadata": {},
     "output_type": "display_data"
    }
   ],
   "source": [
    "plot_LFvIt(Accs_stoch_deceps,LvIs_stoch_deceps)"
   ]
  },
  {
   "cell_type": "markdown",
   "metadata": {},
   "source": [
    "Finally, we use our most successful training algorithm (in this case, batch gradient descent for $\\lambda = 0.001$ and $\\epsilon = 0.001$) to predict on the test data."
   ]
  },
  {
   "cell_type": "code",
   "execution_count": 51,
   "metadata": {
    "collapsed": false
   },
   "outputs": [],
   "source": [
    "lam,eps = 0.001,0.001\n",
    "w_star = optima_batch[lam][eps]\n",
    "preds = spsp.expit(np.dot(X_test,w_star))\n",
    "predictions = np.rint(preds)"
   ]
  },
  {
   "cell_type": "markdown",
   "metadata": {},
   "source": [
    "We save these predictions to the csv file for Kaggle submission."
   ]
  },
  {
   "cell_type": "code",
   "execution_count": 38,
   "metadata": {
    "collapsed": false
   },
   "outputs": [],
   "source": [
    "IDs = np.arange(len(predictions))\n",
    "numpycsv = np.c_[IDs,predictions]\n",
    "np.savetxt(BASE_DIR+'/'+'Prob4_testpredictions.csv',numpycsv,fmt='%i',delimiter=',',header='Id,Category',comments='')"
   ]
  },
  {
   "cell_type": "markdown",
   "metadata": {},
   "source": [
    "Noting that this submission on Kaggle produced a test error of almost 12% (significantly more than the training error of 3% for the same hyperparameters), I chose a new set of hyperparameters with $\\lambda$ greater than the first submission. The intention of this was to reduce overfitting, as I had presumably been overfitting, giving an excellent training error but mediocre test error. "
   ]
  },
  {
   "cell_type": "code",
   "execution_count": 50,
   "metadata": {
    "collapsed": false
   },
   "outputs": [],
   "source": [
    "lam,eps = 0.1,0.001\n",
    "w_star2 = optima_batch[lam][eps]\n",
    "preds2 = spsp.expit(np.dot(X_test,w_star2))\n",
    "predictions2 = np.rint(preds2)"
   ]
  },
  {
   "cell_type": "markdown",
   "metadata": {},
   "source": [
    "Again, we save these predictions to the csv file for Kaggle submission."
   ]
  },
  {
   "cell_type": "code",
   "execution_count": 45,
   "metadata": {
    "collapsed": false
   },
   "outputs": [],
   "source": [
    "IDs = np.arange(len(predictions))\n",
    "numpycsv = np.c_[IDs,predictions]\n",
    "np.savetxt(BASE_DIR+'/'+'Prob4_testpredictions2.csv',numpycsv,fmt='%i',delimiter=',',header='Id,Category',comments='')"
   ]
  },
  {
   "cell_type": "markdown",
   "metadata": {},
   "source": [
    "The hypothesis seems accurate. This submission (username **mnegus**) gave a score of **95.565%**."
   ]
  }
 ],
 "metadata": {
  "kernelspec": {
   "display_name": "Python 3",
   "language": "python",
   "name": "python3"
  },
  "language_info": {
   "codemirror_mode": {
    "name": "ipython",
    "version": 3
   },
   "file_extension": ".py",
   "mimetype": "text/x-python",
   "name": "python",
   "nbconvert_exporter": "python",
   "pygments_lexer": "ipython3",
   "version": "3.6.0"
  }
 },
 "nbformat": 4,
 "nbformat_minor": 2
}
