{
 "cells": [
  {
   "cell_type": "markdown",
   "metadata": {},
   "source": [
    "Load modules to be used in the execution of the problem."
   ]
  },
  {
   "cell_type": "code",
   "execution_count": 136,
   "metadata": {
    "collapsed": false
   },
   "outputs": [
    {
     "name": "stdout",
     "output_type": "stream",
     "text": [
      "The autoreload extension is already loaded. To reload it, use:\n",
      "  %reload_ext autoreload\n"
     ]
    }
   ],
   "source": [
    "%load_ext autoreload"
   ]
  },
  {
   "cell_type": "code",
   "execution_count": 137,
   "metadata": {
    "collapsed": true
   },
   "outputs": [],
   "source": [
    "%autoreload 2"
   ]
  },
  {
   "cell_type": "code",
   "execution_count": 138,
   "metadata": {
    "collapsed": true
   },
   "outputs": [],
   "source": [
    "import math\n",
    "import HW03_utils as ut\n",
    "import numpy as np\n",
    "from matplotlib import pyplot as plt"
   ]
  },
  {
   "cell_type": "code",
   "execution_count": 139,
   "metadata": {
    "collapsed": true
   },
   "outputs": [],
   "source": [
    "def normalize_images(image_vectors):\n",
    "# Function to normalize pixel contrast of images\n",
    "\n",
    "        magnitudes = np.linalg.norm(image_vectors,axis=1)\n",
    "        normalized_ims = image_vectors/magnitudes[:,None]\n",
    "        return normalized_ims"
   ]
  },
  {
   "cell_type": "code",
   "execution_count": 140,
   "metadata": {
    "collapsed": true
   },
   "outputs": [],
   "source": [
    "def get_class_bounds(classid,labels):\n",
    "# Function to extract index bounds of the specified class from the dataset\n",
    "\n",
    "    for i in range(len(labels)):\n",
    "        if labels[i] == classid:\n",
    "            startindex = i\n",
    "            break\n",
    "    stopindex = len(labels)\n",
    "    for i in range(i,len(labels)):\n",
    "        if labels[i] != classid:\n",
    "            stopindex = i\n",
    "            break\n",
    "    \n",
    "    return startindex,stopindex\n"
   ]
  },
  {
   "cell_type": "code",
   "execution_count": 141,
   "metadata": {
    "collapsed": true
   },
   "outputs": [],
   "source": [
    "def get_class_from_data(classid,data,labels):\n",
    "# Find the start (inclusive) and end (exclusive) of a class within the data, then separate and return the class\n",
    "\n",
    "    startindex,stopindex = get_class_bounds(classid,labels)\n",
    "    \n",
    "    # Separate the specified class\n",
    "    class_data = data[startindex:stopindex]\n",
    "            \n",
    "    return class_data\n"
   ]
  },
  {
   "cell_type": "code",
   "execution_count": 142,
   "metadata": {
    "collapsed": false
   },
   "outputs": [],
   "source": [
    "def mean_of_class(classid,data,labels):\n",
    "# Calculate the mean value when the class is fit to a normal distribution\n",
    "    \n",
    "    class_data = get_class_from_data(classid,data,labels)   \n",
    "    # Calculate the mean of the class data\n",
    "    class_mu = np.mean(class_data,axis=0)\n",
    "    \n",
    "    return class_mu\n"
   ]
  },
  {
   "cell_type": "code",
   "execution_count": 143,
   "metadata": {
    "collapsed": true
   },
   "outputs": [],
   "source": [
    "def cov_of_class(classid,data,labels):\n",
    "# Calcualte the covariance matrix when the class is fit to a normal distribution\n",
    "\n",
    "    class_data = get_class_from_data(classid,data,labels)\n",
    "    # Calculate the covariance matrix from the class data\n",
    "    class_Sigma = np.cov(class_data,rowvar=False)\n",
    "    \n",
    "    return class_Sigma\n"
   ]
  },
  {
   "cell_type": "code",
   "execution_count": 144,
   "metadata": {
    "collapsed": true
   },
   "outputs": [],
   "source": [
    "def calc_SigmaHat(data,labels,muCs):\n",
    "# Function to calculate the average covariance matrix for the distribution (1 covariance matrix for LDA)\n",
    "\n",
    "    SigmaHat = np.zeros((len(data[0]),len(data[0])))\n",
    "    for i in range(len(data)):\n",
    "        Xi_minus_muC = data[i] - muCs[labels[i]]\n",
    "        SigmaHat += np.outer(Xi_minus_muC,Xi_minus_muC)\n",
    "    \n",
    "    SigmaHat = SigmaHat/len(labels)\n",
    "    \n",
    "    return SigmaHat\n"
   ]
  },
  {
   "cell_type": "code",
   "execution_count": 145,
   "metadata": {
    "collapsed": true
   },
   "outputs": [],
   "source": [
    "def MuAndPi(train_labels,cov_matrix,ZR):\n",
    "    mu_i = []\n",
    "    pi_i = []\n",
    "    for i in range(10):\n",
    "        # Calculate the mean (without zero variance variables)\n",
    "        mu_i.append(np.zeros(np.shape(cov_matrix)[0]))\n",
    "        J = 0\n",
    "        for j in range(np.shape(muCs[i])[0]):\n",
    "            if j in ZR:\n",
    "                continue\n",
    "            mu_i[i][J] = muCs[i][j]\n",
    "            J += 1\n",
    "        \n",
    "        # Calculate the prior probability\n",
    "        startindex,stopindex = get_class_bounds(i,train_labels)\n",
    "        nPoints = stopindex-startindex\n",
    "        pi_i.append(nPoints/np.shape(train_labels)[0])\n",
    "        \n",
    "    return mu_i,pi_i\n",
    "    "
   ]
  },
  {
   "cell_type": "code",
   "execution_count": 146,
   "metadata": {
    "collapsed": true
   },
   "outputs": [],
   "source": [
    "def zero_rows(sym_matrix):\n",
    "# Take a symmetric matrix and find rows/columns that are empty\n",
    "\n",
    "    zero_rows = []\n",
    "    for i in range(len(sym_matrix)):\n",
    "        if not np.any(sym_matrix[i]):\n",
    "            zero_rows.append(i)\n",
    "        \n",
    "    return zero_rows"
   ]
  },
  {
   "cell_type": "code",
   "execution_count": 147,
   "metadata": {
    "collapsed": false
   },
   "outputs": [],
   "source": [
    "def makeInvertible(sym_matrix):\n",
    "# Take a symmetric non-invertible matrix, and eliminate rows/columns to make it invertible\n",
    "    \n",
    "    ZR = zero_rows(sym_matrix)\n",
    "    newlen = len(sym_matrix)-len(ZR)\n",
    "    invmatrix = np.empty((newlen,newlen))\n",
    "    I = 0\n",
    "    for i in range(len(sym_matrix)):\n",
    "        if i in ZR:\n",
    "            continue\n",
    "        J = 0\n",
    "        for j in range(len(sym_matrix)):\n",
    "            if j in ZR:\n",
    "                continue\n",
    "            invmatrix[I,J] = sym_matrix[i,j]\n",
    "            J += 1\n",
    "        I += 1\n",
    "            \n",
    "    return invmatrix\n"
   ]
  },
  {
   "cell_type": "code",
   "execution_count": 148,
   "metadata": {
    "collapsed": true
   },
   "outputs": [],
   "source": [
    "def removeZeroVariance(cov_matrix,valdata):\n",
    "# Remove variables with zero variance in the covariance matrix from the validation data set\n",
    "#      -valdata is a nxd array with n rows of samples and d-variables per sample\n",
    "#      -Cov_matrix is a dxd matrix giving the covariances of the d-variables\n",
    "\n",
    "    ZR = zero_rows(cov_matrix)\n",
    "    # Create a new array with validation data corresponding to variables in training set with non-zero variance\n",
    "    NZV_data = np.empty((len(valdata),len(valdata[0])-len(ZR)))\n",
    "    columnI = 0\n",
    "    for columni in range(len(valdata[0])):\n",
    "        if columni in ZR:\n",
    "            continue\n",
    "        NZV_data[:,columnI] = valdata[:,columni]\n",
    "        columnI += 1\n",
    "    \n",
    "    return NZV_data\n"
   ]
  },
  {
   "cell_type": "code",
   "execution_count": 149,
   "metadata": {
    "collapsed": false
   },
   "outputs": [],
   "source": [
    "def LDF_solve(X,mu_C,Sigma,pi_C=0.1):\n",
    "# Function to solve the linear discriminant function for class C (will compute LDF for 1 variable but for all data points)\n",
    "    \n",
    "    LDFs_C = np.zeros(len(X))\n",
    "    muCinvSigma = np.dot(mu_C,np.linalg.inv(Sigma))\n",
    "    muCinvSigmamuC = np.dot(muCinvSigma,mu_C)\n",
    "    logpiC = math.log(pi_C)\n",
    "    for i in range(len(X)):\n",
    "        x = X[i]\n",
    "        LDFs_C[i] = np.dot(muCinvSigma,x) - 0.5*muCinvSigmamuC + logpiC\n",
    "    \n",
    "    return LDFs_C\n",
    "    "
   ]
  },
  {
   "cell_type": "code",
   "execution_count": 150,
   "metadata": {
    "collapsed": false
   },
   "outputs": [],
   "source": [
    "def maximize_LDFs(valdata,mu_i,cov_matrix,pi_i):\n",
    "    lin_disc_fns = np.empty((len(valdata),10))\n",
    "    for i in range(10):\n",
    "        print('Calculating LDFs for digit ',i)\n",
    "        mu_C = mu_i[i]\n",
    "        pi_C = pi_i[i]\n",
    "        lin_disc_fns[:,i] = LDF_solve(valdata,mu_C,cov_matrix,pi_C)\n",
    "    max_LDF_indices = np.empty(len(valdata))\n",
    "    for i in range(len(valdata)):\n",
    "        max_LDF_indices[i] = np.argmax(lin_disc_fns[i])\n",
    "    \n",
    "    return max_LDF_indices\n"
   ]
  },
  {
   "cell_type": "code",
   "execution_count": 151,
   "metadata": {
    "collapsed": true
   },
   "outputs": [],
   "source": [
    "CS_DIR = r\"/Users/mitch/Documents/Cal/2 - 2017 Spring/COMPSCI 289A - Intro to Machine Learning/\""
   ]
  },
  {
   "cell_type": "code",
   "execution_count": 152,
   "metadata": {
    "collapsed": false
   },
   "outputs": [],
   "source": [
    "# Load MNIST data\n",
    "data_array = ut.loaddata(\"hw3_mnist_dist/hw3_mnist_dist/train.mat\",CS_DIR+r\"HW03/Data\",\"trainX\")"
   ]
  },
  {
   "cell_type": "code",
   "execution_count": 153,
   "metadata": {
    "collapsed": true
   },
   "outputs": [],
   "source": [
    "# Shuffle data and set aside validation set\n",
    "np.random.shuffle(data_array)\n",
    "\n",
    "trainarray = data_array[:-10000]\n",
    "valarray = data_array[-10000:]\n"
   ]
  },
  {
   "cell_type": "code",
   "execution_count": 154,
   "metadata": {
    "collapsed": false
   },
   "outputs": [],
   "source": [
    "def main(train_data,train_labels,val_data,val_labels):\n",
    "# Main block of code    \n",
    "    \n",
    "    # Create a list of the means for each class\n",
    "    muCs = np.empty((10,len(train_data[0])))\n",
    "    for i in range(10):\n",
    "        muCs[i] = mean_of_class(i,train_data,train_labels)\n",
    "\n",
    "    SigmaHat = calc_SigmaHat(train_data,train_labels,muCs)\n",
    "\n",
    "    newcov = makeInvertible(SigmaHat)\n",
    "    newvaldata = removeZeroVariance(SigmaHat,val_data)\n",
    "\n",
    "    ZR = zero_rows(SigmaHat)\n",
    "\n",
    "    mu_i,pi_i = MuAndPi(train_labels,newcov,ZR)\n",
    "\n",
    "    digitPicks = maximize_LDFs(newvaldata,mu_i,newcov,pi_i)\n",
    "    count, total = 0,0\n",
    "    for i in range(len(digitPicks)):\n",
    "        if digitPicks[i] == val_labels[i]:\n",
    "            count += 1\n",
    "        total += 1\n",
    "    \n",
    "    # VERBOSE COMMANDS FOR WATCHING PROGRESS [OPTIONAL]\n",
    "    #    if total%200 == 0:\n",
    "    #        print(total,'points evaluated; current score =',count/total)\n",
    "    \n",
    "    print('Final Score: ',count/total)"
   ]
  },
  {
   "cell_type": "code",
   "execution_count": 155,
   "metadata": {
    "collapsed": false
   },
   "outputs": [
    {
     "name": "stdout",
     "output_type": "stream",
     "text": [
      "100 training samples: \n",
      "Calculating LDFs for digit  0\n",
      "Calculating LDFs for digit  1\n",
      "Calculating LDFs for digit  2\n",
      "Calculating LDFs for digit  3\n",
      "Calculating LDFs for digit  4\n",
      "Calculating LDFs for digit  5\n",
      "Calculating LDFs for digit  6\n",
      "Calculating LDFs for digit  7\n",
      "Calculating LDFs for digit  8\n",
      "Calculating LDFs for digit  9\n",
      "Final Score:  0.1031\n",
      "200 training samples: \n",
      "Calculating LDFs for digit  0\n",
      "Calculating LDFs for digit  1\n",
      "Calculating LDFs for digit  2\n",
      "Calculating LDFs for digit  3\n",
      "Calculating LDFs for digit  4\n",
      "Calculating LDFs for digit  5\n",
      "Calculating LDFs for digit  6\n",
      "Calculating LDFs for digit  7\n",
      "Calculating LDFs for digit  8\n",
      "Calculating LDFs for digit  9\n",
      "Final Score:  0.0953\n",
      "500 training samples: \n",
      "Calculating LDFs for digit  0\n",
      "Calculating LDFs for digit  1\n",
      "Calculating LDFs for digit  2\n",
      "Calculating LDFs for digit  3\n",
      "Calculating LDFs for digit  4\n",
      "Calculating LDFs for digit  5\n",
      "Calculating LDFs for digit  6\n",
      "Calculating LDFs for digit  7\n",
      "Calculating LDFs for digit  8\n",
      "Calculating LDFs for digit  9\n",
      "Final Score:  0.0992\n",
      "1000 training samples: \n",
      "Calculating LDFs for digit  0\n",
      "Calculating LDFs for digit  1\n",
      "Calculating LDFs for digit  2\n",
      "Calculating LDFs for digit  3\n",
      "Calculating LDFs for digit  4\n",
      "Calculating LDFs for digit  5\n",
      "Calculating LDFs for digit  6\n",
      "Calculating LDFs for digit  7\n",
      "Calculating LDFs for digit  8\n",
      "Calculating LDFs for digit  9\n",
      "Final Score:  0.1024\n",
      "2000 training samples: \n",
      "Calculating LDFs for digit  0\n",
      "Calculating LDFs for digit  1\n",
      "Calculating LDFs for digit  2\n",
      "Calculating LDFs for digit  3\n",
      "Calculating LDFs for digit  4\n",
      "Calculating LDFs for digit  5\n",
      "Calculating LDFs for digit  6\n",
      "Calculating LDFs for digit  7\n",
      "Calculating LDFs for digit  8\n",
      "Calculating LDFs for digit  9\n",
      "Final Score:  0.0985\n",
      "5000 training samples: \n",
      "Calculating LDFs for digit  0\n",
      "Calculating LDFs for digit  1\n",
      "Calculating LDFs for digit  2\n",
      "Calculating LDFs for digit  3\n",
      "Calculating LDFs for digit  4\n",
      "Calculating LDFs for digit  5\n",
      "Calculating LDFs for digit  6\n",
      "Calculating LDFs for digit  7\n",
      "Calculating LDFs for digit  8\n",
      "Calculating LDFs for digit  9\n",
      "Final Score:  0.0998\n",
      "10000 training samples: \n",
      "Calculating LDFs for digit  0\n",
      "Calculating LDFs for digit  1\n",
      "Calculating LDFs for digit  2\n",
      "Calculating LDFs for digit  3\n",
      "Calculating LDFs for digit  4\n",
      "Calculating LDFs for digit  5\n",
      "Calculating LDFs for digit  6\n",
      "Calculating LDFs for digit  7\n",
      "Calculating LDFs for digit  8\n",
      "Calculating LDFs for digit  9\n",
      "Final Score:  0.0995\n",
      "30000 training samples: \n",
      "Calculating LDFs for digit  0\n"
     ]
    },
    {
     "ename": "LinAlgError",
     "evalue": "Singular matrix",
     "output_type": "error",
     "traceback": [
      "\u001b[0;31m---------------------------------------------------------------------------\u001b[0m",
      "\u001b[0;31mLinAlgError\u001b[0m                               Traceback (most recent call last)",
      "\u001b[0;32m<ipython-input-155-1260c958d2b0>\u001b[0m in \u001b[0;36m<module>\u001b[0;34m()\u001b[0m\n\u001b[1;32m     18\u001b[0m \u001b[0;34m\u001b[0m\u001b[0m\n\u001b[1;32m     19\u001b[0m     \u001b[0mprint\u001b[0m\u001b[0;34m(\u001b[0m\u001b[0mnumber\u001b[0m\u001b[0;34m,\u001b[0m\u001b[0;34m\"training samples: \"\u001b[0m\u001b[0;34m)\u001b[0m\u001b[0;34m\u001b[0m\u001b[0m\n\u001b[0;32m---> 20\u001b[0;31m     \u001b[0mmain\u001b[0m\u001b[0;34m(\u001b[0m\u001b[0mnormalized_train_data\u001b[0m\u001b[0;34m,\u001b[0m\u001b[0mtrain_labels\u001b[0m\u001b[0;34m,\u001b[0m\u001b[0mnormalized_val_data\u001b[0m\u001b[0;34m,\u001b[0m\u001b[0mval_labels\u001b[0m\u001b[0;34m)\u001b[0m\u001b[0;34m\u001b[0m\u001b[0m\n\u001b[0m",
      "\u001b[0;32m<ipython-input-154-db1e193b2798>\u001b[0m in \u001b[0;36mmain\u001b[0;34m(train_data, train_labels, val_data, val_labels)\u001b[0m\n\u001b[1;32m     16\u001b[0m     \u001b[0mmu_i\u001b[0m\u001b[0;34m,\u001b[0m\u001b[0mpi_i\u001b[0m \u001b[0;34m=\u001b[0m \u001b[0mMuAndPi\u001b[0m\u001b[0;34m(\u001b[0m\u001b[0mtrain_labels\u001b[0m\u001b[0;34m,\u001b[0m\u001b[0mnewcov\u001b[0m\u001b[0;34m,\u001b[0m\u001b[0mZR\u001b[0m\u001b[0;34m)\u001b[0m\u001b[0;34m\u001b[0m\u001b[0m\n\u001b[1;32m     17\u001b[0m \u001b[0;34m\u001b[0m\u001b[0m\n\u001b[0;32m---> 18\u001b[0;31m     \u001b[0mdigitPicks\u001b[0m \u001b[0;34m=\u001b[0m \u001b[0mmaximize_LDFs\u001b[0m\u001b[0;34m(\u001b[0m\u001b[0mnewvaldata\u001b[0m\u001b[0;34m,\u001b[0m\u001b[0mmu_i\u001b[0m\u001b[0;34m,\u001b[0m\u001b[0mnewcov\u001b[0m\u001b[0;34m,\u001b[0m\u001b[0mpi_i\u001b[0m\u001b[0;34m)\u001b[0m\u001b[0;34m\u001b[0m\u001b[0m\n\u001b[0m\u001b[1;32m     19\u001b[0m     \u001b[0mcount\u001b[0m\u001b[0;34m,\u001b[0m \u001b[0mtotal\u001b[0m \u001b[0;34m=\u001b[0m \u001b[0;36m0\u001b[0m\u001b[0;34m,\u001b[0m\u001b[0;36m0\u001b[0m\u001b[0;34m\u001b[0m\u001b[0m\n\u001b[1;32m     20\u001b[0m     \u001b[0;32mfor\u001b[0m \u001b[0mi\u001b[0m \u001b[0;32min\u001b[0m \u001b[0mrange\u001b[0m\u001b[0;34m(\u001b[0m\u001b[0mlen\u001b[0m\u001b[0;34m(\u001b[0m\u001b[0mdigitPicks\u001b[0m\u001b[0;34m)\u001b[0m\u001b[0;34m)\u001b[0m\u001b[0;34m:\u001b[0m\u001b[0;34m\u001b[0m\u001b[0m\n",
      "\u001b[0;32m<ipython-input-150-685c868b1b7a>\u001b[0m in \u001b[0;36mmaximize_LDFs\u001b[0;34m(valdata, mu_i, cov_matrix, pi_i)\u001b[0m\n\u001b[1;32m      5\u001b[0m         \u001b[0mmu_C\u001b[0m \u001b[0;34m=\u001b[0m \u001b[0mmu_i\u001b[0m\u001b[0;34m[\u001b[0m\u001b[0mi\u001b[0m\u001b[0;34m]\u001b[0m\u001b[0;34m\u001b[0m\u001b[0m\n\u001b[1;32m      6\u001b[0m         \u001b[0mpi_C\u001b[0m \u001b[0;34m=\u001b[0m \u001b[0mpi_i\u001b[0m\u001b[0;34m[\u001b[0m\u001b[0mi\u001b[0m\u001b[0;34m]\u001b[0m\u001b[0;34m\u001b[0m\u001b[0m\n\u001b[0;32m----> 7\u001b[0;31m         \u001b[0mlin_disc_fns\u001b[0m\u001b[0;34m[\u001b[0m\u001b[0;34m:\u001b[0m\u001b[0;34m,\u001b[0m\u001b[0mi\u001b[0m\u001b[0;34m]\u001b[0m \u001b[0;34m=\u001b[0m \u001b[0mLDF_solve\u001b[0m\u001b[0;34m(\u001b[0m\u001b[0mvaldata\u001b[0m\u001b[0;34m,\u001b[0m\u001b[0mmu_C\u001b[0m\u001b[0;34m,\u001b[0m\u001b[0mcov_matrix\u001b[0m\u001b[0;34m,\u001b[0m\u001b[0mpi_C\u001b[0m\u001b[0;34m)\u001b[0m\u001b[0;34m\u001b[0m\u001b[0m\n\u001b[0m\u001b[1;32m      8\u001b[0m     \u001b[0mmax_LDF_indices\u001b[0m \u001b[0;34m=\u001b[0m \u001b[0mnp\u001b[0m\u001b[0;34m.\u001b[0m\u001b[0mempty\u001b[0m\u001b[0;34m(\u001b[0m\u001b[0mlen\u001b[0m\u001b[0;34m(\u001b[0m\u001b[0mvaldata\u001b[0m\u001b[0;34m)\u001b[0m\u001b[0;34m)\u001b[0m\u001b[0;34m\u001b[0m\u001b[0m\n\u001b[1;32m      9\u001b[0m     \u001b[0;32mfor\u001b[0m \u001b[0mi\u001b[0m \u001b[0;32min\u001b[0m \u001b[0mrange\u001b[0m\u001b[0;34m(\u001b[0m\u001b[0mlen\u001b[0m\u001b[0;34m(\u001b[0m\u001b[0mvaldata\u001b[0m\u001b[0;34m)\u001b[0m\u001b[0;34m)\u001b[0m\u001b[0;34m:\u001b[0m\u001b[0;34m\u001b[0m\u001b[0m\n",
      "\u001b[0;32m<ipython-input-149-edebd7cea7a3>\u001b[0m in \u001b[0;36mLDF_solve\u001b[0;34m(X, mu_C, Sigma, pi_C)\u001b[0m\n\u001b[1;32m      3\u001b[0m \u001b[0;34m\u001b[0m\u001b[0m\n\u001b[1;32m      4\u001b[0m     \u001b[0mLDFs_C\u001b[0m \u001b[0;34m=\u001b[0m \u001b[0mnp\u001b[0m\u001b[0;34m.\u001b[0m\u001b[0mzeros\u001b[0m\u001b[0;34m(\u001b[0m\u001b[0mlen\u001b[0m\u001b[0;34m(\u001b[0m\u001b[0mX\u001b[0m\u001b[0;34m)\u001b[0m\u001b[0;34m)\u001b[0m\u001b[0;34m\u001b[0m\u001b[0m\n\u001b[0;32m----> 5\u001b[0;31m     \u001b[0mmuCinvSigma\u001b[0m \u001b[0;34m=\u001b[0m \u001b[0mnp\u001b[0m\u001b[0;34m.\u001b[0m\u001b[0mdot\u001b[0m\u001b[0;34m(\u001b[0m\u001b[0mmu_C\u001b[0m\u001b[0;34m,\u001b[0m\u001b[0mnp\u001b[0m\u001b[0;34m.\u001b[0m\u001b[0mlinalg\u001b[0m\u001b[0;34m.\u001b[0m\u001b[0minv\u001b[0m\u001b[0;34m(\u001b[0m\u001b[0mSigma\u001b[0m\u001b[0;34m)\u001b[0m\u001b[0;34m)\u001b[0m\u001b[0;34m\u001b[0m\u001b[0m\n\u001b[0m\u001b[1;32m      6\u001b[0m     \u001b[0mmuCinvSigmamuC\u001b[0m \u001b[0;34m=\u001b[0m \u001b[0mnp\u001b[0m\u001b[0;34m.\u001b[0m\u001b[0mdot\u001b[0m\u001b[0;34m(\u001b[0m\u001b[0mmuCinvSigma\u001b[0m\u001b[0;34m,\u001b[0m\u001b[0mmu_C\u001b[0m\u001b[0;34m)\u001b[0m\u001b[0;34m\u001b[0m\u001b[0m\n\u001b[1;32m      7\u001b[0m     \u001b[0mlogpiC\u001b[0m \u001b[0;34m=\u001b[0m \u001b[0mmath\u001b[0m\u001b[0;34m.\u001b[0m\u001b[0mlog\u001b[0m\u001b[0;34m(\u001b[0m\u001b[0mpi_C\u001b[0m\u001b[0;34m)\u001b[0m\u001b[0;34m\u001b[0m\u001b[0m\n",
      "\u001b[0;32m/Users/mitch/anaconda/lib/python3.6/site-packages/numpy/linalg/linalg.py\u001b[0m in \u001b[0;36minv\u001b[0;34m(a)\u001b[0m\n\u001b[1;32m    524\u001b[0m     \u001b[0msignature\u001b[0m \u001b[0;34m=\u001b[0m \u001b[0;34m'D->D'\u001b[0m \u001b[0;32mif\u001b[0m \u001b[0misComplexType\u001b[0m\u001b[0;34m(\u001b[0m\u001b[0mt\u001b[0m\u001b[0;34m)\u001b[0m \u001b[0;32melse\u001b[0m \u001b[0;34m'd->d'\u001b[0m\u001b[0;34m\u001b[0m\u001b[0m\n\u001b[1;32m    525\u001b[0m     \u001b[0mextobj\u001b[0m \u001b[0;34m=\u001b[0m \u001b[0mget_linalg_error_extobj\u001b[0m\u001b[0;34m(\u001b[0m\u001b[0m_raise_linalgerror_singular\u001b[0m\u001b[0;34m)\u001b[0m\u001b[0;34m\u001b[0m\u001b[0m\n\u001b[0;32m--> 526\u001b[0;31m     \u001b[0mainv\u001b[0m \u001b[0;34m=\u001b[0m \u001b[0m_umath_linalg\u001b[0m\u001b[0;34m.\u001b[0m\u001b[0minv\u001b[0m\u001b[0;34m(\u001b[0m\u001b[0ma\u001b[0m\u001b[0;34m,\u001b[0m \u001b[0msignature\u001b[0m\u001b[0;34m=\u001b[0m\u001b[0msignature\u001b[0m\u001b[0;34m,\u001b[0m \u001b[0mextobj\u001b[0m\u001b[0;34m=\u001b[0m\u001b[0mextobj\u001b[0m\u001b[0;34m)\u001b[0m\u001b[0;34m\u001b[0m\u001b[0m\n\u001b[0m\u001b[1;32m    527\u001b[0m     \u001b[0;32mreturn\u001b[0m \u001b[0mwrap\u001b[0m\u001b[0;34m(\u001b[0m\u001b[0mainv\u001b[0m\u001b[0;34m.\u001b[0m\u001b[0mastype\u001b[0m\u001b[0;34m(\u001b[0m\u001b[0mresult_t\u001b[0m\u001b[0;34m,\u001b[0m \u001b[0mcopy\u001b[0m\u001b[0;34m=\u001b[0m\u001b[0;32mFalse\u001b[0m\u001b[0;34m)\u001b[0m\u001b[0;34m)\u001b[0m\u001b[0;34m\u001b[0m\u001b[0m\n\u001b[1;32m    528\u001b[0m \u001b[0;34m\u001b[0m\u001b[0m\n",
      "\u001b[0;32m/Users/mitch/anaconda/lib/python3.6/site-packages/numpy/linalg/linalg.py\u001b[0m in \u001b[0;36m_raise_linalgerror_singular\u001b[0;34m(err, flag)\u001b[0m\n\u001b[1;32m     88\u001b[0m \u001b[0;34m\u001b[0m\u001b[0m\n\u001b[1;32m     89\u001b[0m \u001b[0;32mdef\u001b[0m \u001b[0m_raise_linalgerror_singular\u001b[0m\u001b[0;34m(\u001b[0m\u001b[0merr\u001b[0m\u001b[0;34m,\u001b[0m \u001b[0mflag\u001b[0m\u001b[0;34m)\u001b[0m\u001b[0;34m:\u001b[0m\u001b[0;34m\u001b[0m\u001b[0m\n\u001b[0;32m---> 90\u001b[0;31m     \u001b[0;32mraise\u001b[0m \u001b[0mLinAlgError\u001b[0m\u001b[0;34m(\u001b[0m\u001b[0;34m\"Singular matrix\"\u001b[0m\u001b[0;34m)\u001b[0m\u001b[0;34m\u001b[0m\u001b[0m\n\u001b[0m\u001b[1;32m     91\u001b[0m \u001b[0;34m\u001b[0m\u001b[0m\n\u001b[1;32m     92\u001b[0m \u001b[0;32mdef\u001b[0m \u001b[0m_raise_linalgerror_nonposdef\u001b[0m\u001b[0;34m(\u001b[0m\u001b[0merr\u001b[0m\u001b[0;34m,\u001b[0m \u001b[0mflag\u001b[0m\u001b[0;34m)\u001b[0m\u001b[0;34m:\u001b[0m\u001b[0;34m\u001b[0m\u001b[0m\n",
      "\u001b[0;31mLinAlgError\u001b[0m: Singular matrix"
     ]
    }
   ],
   "source": [
    "# Train on subsets of full training data set\n",
    "for number in [100,200,500,1000,2000,5000,10000,30000,50000]:\n",
    "    trainarraysubset = trainarray[:number]\n",
    "    \n",
    "    # Organize array by digit\n",
    "    trainarray_byclass = trainarraysubset[trainarraysubset[:,-1].argsort()]\n",
    "    valarray_byclass = valarray[valarray[:,-1].argsort()]\n",
    "    \n",
    "    # Separate data and labels\n",
    "    train_data = trainarray_byclass[:,:-1]\n",
    "    train_labels = trainarray_byclass[:,-1]\n",
    "    val_data = valarray_byclass[:,:-1]\n",
    "    val_labels = valarray_byclass[:,-1]\n",
    "    \n",
    "    # Normalize training and validation data\n",
    "    normalized_train_data = normalize_images(train_data)\n",
    "    normalized_val_data = normalize_images(val_data)\n",
    "    \n",
    "    print(number,\"training samples: \")\n",
    "    main(normalized_train_data,train_labels,normalized_val_data,val_labels)"
   ]
  }
 ],
 "metadata": {
  "kernelspec": {
   "display_name": "Python 3",
   "language": "python",
   "name": "python3"
  },
  "language_info": {
   "codemirror_mode": {
    "name": "ipython",
    "version": 3
   },
   "file_extension": ".py",
   "mimetype": "text/x-python",
   "name": "python",
   "nbconvert_exporter": "python",
   "pygments_lexer": "ipython3",
   "version": "3.6.0"
  }
 },
 "nbformat": 4,
 "nbformat_minor": 2
}
