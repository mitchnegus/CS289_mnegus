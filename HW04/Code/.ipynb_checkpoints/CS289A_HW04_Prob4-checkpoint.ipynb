{
 "cells": [
  {
   "cell_type": "markdown",
   "metadata": {},
   "source": [
    "CS 289A Homework 4\n",
    "==================\n",
    "Start with program overhead: load modules (and reload them as they are modified)"
   ]
  },
  {
   "cell_type": "code",
   "execution_count": 1,
   "metadata": {
    "collapsed": false
   },
   "outputs": [],
   "source": [
    "%load_ext autoreload"
   ]
  },
  {
   "cell_type": "code",
   "execution_count": 2,
   "metadata": {
    "collapsed": true
   },
   "outputs": [],
   "source": [
    "%autoreload 2"
   ]
  },
  {
   "cell_type": "code",
   "execution_count": 3,
   "metadata": {
    "collapsed": false
   },
   "outputs": [],
   "source": [
    "import HW04_utils as ut\n",
    "import numpy as np\n",
    "from scipy import special as spsp\n",
    "from matplotlib import pyplot as plt"
   ]
  },
  {
   "cell_type": "markdown",
   "metadata": {},
   "source": [
    "Next, we give a couple paths specifying where to find the data set on the local machine. **A user must change this to reflect the path to their data.**"
   ]
  },
  {
   "cell_type": "code",
   "execution_count": 4,
   "metadata": {
    "collapsed": true
   },
   "outputs": [],
   "source": [
    "BASE_DIR = \"/Users/mitch/Documents/Cal/2_2017_Spring/COMPSCI 289A - Intro to Machine Learning/HW04\"\n",
    "DATA_PATH = \"Data/data.mat\""
   ]
  },
  {
   "cell_type": "markdown",
   "metadata": {},
   "source": [
    "Then, load the data using the custom utilities module:"
   ]
  },
  {
   "cell_type": "code",
   "execution_count": 5,
   "metadata": {
    "collapsed": false
   },
   "outputs": [],
   "source": [
    "# Load training data\n",
    "descriptions = ut.loaddata(DATA_PATH,BASE_DIR,'description')\n",
    "X = ut.loaddata(DATA_PATH,BASE_DIR,'X')\n",
    "y = ut.loaddata(DATA_PATH,BASE_DIR,'y')\n",
    "\n",
    "# Shuffle training data\n",
    "data = np.concatenate((X,y),axis=1)\n",
    "np.random.shuffle(data)\n",
    "X = data[:,:-1]\n",
    "y = data[:,-1]\n",
    "\n",
    "# Normalize training data\n",
    "meanX = np.tile(np.mean(X,axis=0),(len(X),1))\n",
    "minX = np.tile(np.amin(X,axis=0),(len(X),1))\n",
    "maxX = np.tile(np.amax(X,axis=0),(len(X),1))\n",
    "X = (X-meanX)/(maxX-minX)\n",
    "\n",
    "# Separate a validation set that is a given fraction of the training data\n",
    "frac = 1/6\n",
    "n = int(len(X)-frac*len(X))\n",
    "X_train = X[:n]\n",
    "X_val = X[n:]\n",
    "y_train = y[:n]\n",
    "y_val = y[n:]\n",
    "\n",
    "X = X_train\n",
    "y = y_train\n",
    "\n",
    "# Load test data\n",
    "X_test = ut.loaddata(DATA_PATH,BASE_DIR,'X_test')\n",
    "\n",
    "# Normalize test data\n",
    "meanXt = np.tile(np.mean(X_test,axis=0),(len(X_test),1))\n",
    "minXt = np.tile(np.amin(X_test,axis=0),(len(X_test),1))\n",
    "maxXt = np.tile(np.amax(X_test,axis=0),(len(X_test),1))\n",
    "X_test = (X_test-meanXt)/(maxXt-minXt)"
   ]
  },
  {
   "cell_type": "markdown",
   "metadata": {},
   "source": [
    "Part 1\n",
    "-------\n",
    "We use the following procedure to find the optimal $w$ using batch gradient descent:\n",
    "\n",
    "(1)&nbsp;&nbsp;&nbsp;&nbsp;&nbsp; $w \\leftarrow$ arbitrary starting point  \n",
    "(2)&nbsp;&nbsp;&nbsp;&nbsp;&nbsp; while $J(w) > 0$  \n",
    "&nbsp;&nbsp;&nbsp;&nbsp;&nbsp;&nbsp;&nbsp;&nbsp; &nbsp;&nbsp;&nbsp;&nbsp;&nbsp;$w \\leftarrow w - \\epsilon(2 \\lambda w - X^T(y-s))$  \n",
    "(3)&nbsp;&nbsp;&nbsp;&nbsp;&nbsp; return $w$"
   ]
  },
  {
   "cell_type": "markdown",
   "metadata": {},
   "source": [
    "Step (1)"
   ]
  },
  {
   "cell_type": "code",
   "execution_count": 6,
   "metadata": {
    "collapsed": false
   },
   "outputs": [],
   "source": [
    "w = np.zeros(len(descriptions))"
   ]
  },
  {
   "cell_type": "markdown",
   "metadata": {},
   "source": [
    "Step (2)"
   ]
  },
  {
   "cell_type": "code",
   "execution_count": 7,
   "metadata": {
    "collapsed": true
   },
   "outputs": [],
   "source": [
    "def update_w_batch(w,X,y,lam,eps):\n",
    "    s = spsp.expit(np.dot(X,w))\n",
    "    w_prime = w - eps*(2*lam*w-np.dot(X.T,(y-s)))\n",
    "    \n",
    "    return w_prime"
   ]
  },
  {
   "cell_type": "code",
   "execution_count": 8,
   "metadata": {
    "collapsed": true
   },
   "outputs": [],
   "source": [
    "def costfnJ(w,X,y,lam):\n",
    "    s = spsp.expit(np.dot(X,w))\n",
    "    J = lam*np.linalg.norm(w)**2 - np.sum(y*np.log(s) + (np.ones_like(y)-y)*np.log(np.ones_like(s)-s))\n",
    "\n",
    "    return J"
   ]
  },
  {
   "cell_type": "code",
   "execution_count": 9,
   "metadata": {
    "collapsed": true
   },
   "outputs": [],
   "source": [
    "def whileloop(w,X,y,lam,eps,tol,update_fn):\n",
    "    i=0\n",
    "    iters,Js = [],[]\n",
    "    J = costfnJ(w,X,y,lam)\n",
    "    lastJ = J+1  #dummy condition to pass while condition on first run\n",
    "    while J>0 and i<=1e7 and np.absolute(lastJ-J)>tol:\n",
    "        w_prime = update_fn(w,X,y,lam,eps)\n",
    "        w = w_prime\n",
    "        if i%10==0:\n",
    "            if i%500000==0:\n",
    "                print(str(i)+\":\\tJ =\",str(J))\n",
    "            iters.append(i)\n",
    "            Js.append(J)\n",
    "        lastJ = J\n",
    "        J = costfnJ(w,X,y,lam)\n",
    "        i+=1\n",
    "        \n",
    "    return w,iters,Js"
   ]
  },
  {
   "cell_type": "markdown",
   "metadata": {},
   "source": [
    "Step (3)\n",
    "\n",
    "Here we try several values of hyperparameters $\\lambda$ and $\\epsilon$ to find the optimal values. We also introduce a convergence tolerance that is used in the case that data is not linearly separable."
   ]
  },
  {
   "cell_type": "code",
   "execution_count": 10,
   "metadata": {
    "collapsed": false
   },
   "outputs": [],
   "source": [
    "lambdas = np.logspace(-3,1,5)\n",
    "epsilons = np.logspace(-5,-3,3)\n",
    "tol = 1e-6"
   ]
  },
  {
   "cell_type": "code",
   "execution_count": 11,
   "metadata": {
    "collapsed": false
   },
   "outputs": [
    {
     "name": "stdout",
     "output_type": "stream",
     "text": [
      "Lambda: 0.001 \tEpsilon: 1e-05\n",
      "0:\tJ = 3465.7359028\n",
      "500000:\tJ = 782.77255799\n",
      "1000000:\tJ = 720.04920134\n",
      "1500000:\tJ = 677.82294049\n",
      "2000000:\tJ = 647.954543583\n",
      "2500000:\tJ = 626.429282232\n",
      "3000000:\tJ = 610.554731544\n",
      "3500000:\tJ = 598.621538254\n",
      "4000000:\tJ = 589.518610561\n",
      "4500000:\tJ = 582.491548051\n",
      "5000000:\tJ = 577.011703774\n",
      "5500000:\tJ = 572.700485677\n",
      "6000000:\tJ = 569.282182205\n",
      "6500000:\tJ = 566.553141782\n",
      "7000000:\tJ = 564.361043128\n",
      "7500000:\tJ = 562.590664128\n",
      "8000000:\tJ = 561.153949067\n",
      "8500000:\tJ = 559.982974594\n",
      "9000000:\tJ = 559.024902045\n",
      "9500000:\tJ = 558.238310463\n",
      "10000000:\tJ = 557.590502034\n",
      "Lambda: 0.001 \tEpsilon: 0.0001\n",
      "0:\tJ = 3465.7359028\n",
      "500000:\tJ = 577.01164541\n",
      "1000000:\tJ = 557.590489377\n",
      "1500000:\tJ = 554.917080261\n",
      "Lambda: 0.001 \tEpsilon: 0.001\n",
      "0:\tJ = 3465.7359028\n",
      "Lambda: 0.01 \tEpsilon: 1e-05\n",
      "0:\tJ = 3465.7359028\n",
      "500000:\tJ = 807.306783605\n",
      "1000000:\tJ = 759.872419473\n",
      "1500000:\tJ = 733.394791688\n",
      "2000000:\tJ = 717.969092644\n",
      "2500000:\tJ = 708.914936622\n",
      "3000000:\tJ = 703.539600313\n",
      "3500000:\tJ = 700.310453268\n",
      "4000000:\tJ = 698.351664787\n",
      "4500000:\tJ = 697.154622476\n",
      "5000000:\tJ = 696.418997166\n",
      "Lambda: 0.01 \tEpsilon: 0.0001\n",
      "0:\tJ = 3465.7359028\n",
      "500000:\tJ = 696.418984833\n",
      "Lambda: 0.01 \tEpsilon: 0.001\n",
      "0:\tJ = 3465.7359028\n",
      "Lambda: 0.1 \tEpsilon: 1e-05\n",
      "0:\tJ = 3465.7359028\n",
      "500000:\tJ = 978.024409759\n",
      "1000000:\tJ = 974.418003469\n",
      "Lambda: 0.1 \tEpsilon: 0.0001\n",
      "0:\tJ = 3465.7359028\n",
      "Lambda: 0.1 \tEpsilon: 0.001\n",
      "0:\tJ = 3465.7359028\n",
      "Lambda: 1.0 \tEpsilon: 1e-05\n",
      "0:\tJ = 3465.7359028\n",
      "Lambda: 1.0 \tEpsilon: 0.0001\n",
      "0:\tJ = 3465.7359028\n",
      "Lambda: 1.0 \tEpsilon: 0.001\n",
      "0:\tJ = 3465.7359028\n",
      "Lambda: 10.0 \tEpsilon: 1e-05\n",
      "0:\tJ = 3465.7359028\n",
      "Lambda: 10.0 \tEpsilon: 0.0001\n",
      "0:\tJ = 3465.7359028\n",
      "Lambda: 10.0 \tEpsilon: 0.001\n",
      "0:\tJ = 3465.7359028\n"
     ]
    }
   ],
   "source": [
    "# Collect loss function as f'n of iteration number for each combo\n",
    "optima_batch = {}\n",
    "LvIs_batch = {}\n",
    "for lam in lambdas:\n",
    "    optima_batch[lam]={}\n",
    "    LvIs_batch[lam]={}\n",
    "    for eps in epsilons:\n",
    "        print(\"Lambda:\",lam,\"\\tEpsilon:\",eps)\n",
    "        w_star,iters,Js = whileloop(w,X,y,lam,eps,tol,update_w_batch)\n",
    "        optima_batch[lam][eps]= w_star\n",
    "        LvIs_batch[lam][eps] = [iters,Js]"
   ]
  },
  {
   "cell_type": "markdown",
   "metadata": {},
   "source": [
    "Print out and save a list of the accuracies corresponding to the optimum w\\* for each combination of $\\lambda$ and $\\epsilon$."
   ]
  },
  {
   "cell_type": "code",
   "execution_count": 18,
   "metadata": {
    "collapsed": false
   },
   "outputs": [],
   "source": [
    "def HyperparameterAccs(lambdas,epsilons,optima,valdata,vallabels):\n",
    "    Accs = np.zeros((len(lambdas)*len(epsilons),3))\n",
    "    i=0\n",
    "    for lam in optima:\n",
    "        for eps in optima[lam]:\n",
    "            w_star = optima[lam][eps]\n",
    "            probs = spsp.expit(np.dot(X_val,w_star))\n",
    "            tally = 0\n",
    "            total = 0\n",
    "            for j in range(len(probs)):\n",
    "                if probs[j] >= 0.5:\n",
    "                    prob = 1\n",
    "                if probs[j] < 0.5:\n",
    "                    prob = 0\n",
    "                if prob == y_val[j]:\n",
    "                    tally += 1\n",
    "                total += 1\n",
    "            acc = tally/total\n",
    "            Accs[i] = [acc,lam,eps]\n",
    "            i+=1\n",
    "            print('lam = '+str(lam)+'\\teps =',eps,'\\t\\tAccuracy: ',acc)\n",
    "\n",
    "    return Accs"
   ]
  },
  {
   "cell_type": "code",
   "execution_count": 36,
   "metadata": {
    "collapsed": false
   },
   "outputs": [
    {
     "name": "stdout",
     "output_type": "stream",
     "text": [
      "lam = 0.001\teps = 1e-05 \t\tAccuracy:  0.973\n",
      "lam = 0.001\teps = 0.0001 \t\tAccuracy:  0.972\n",
      "lam = 0.001\teps = 0.001 \t\tAccuracy:  0.973\n",
      "lam = 0.01\teps = 1e-05 \t\tAccuracy:  0.966\n",
      "lam = 0.01\teps = 0.0001 \t\tAccuracy:  0.969\n",
      "lam = 0.01\teps = 0.001 \t\tAccuracy:  0.969\n",
      "lam = 0.1\teps = 1e-05 \t\tAccuracy:  0.948\n",
      "lam = 0.1\teps = 0.0001 \t\tAccuracy:  0.949\n",
      "lam = 0.1\teps = 0.001 \t\tAccuracy:  0.95\n",
      "lam = 1.0\teps = 1e-05 \t\tAccuracy:  0.923\n",
      "lam = 1.0\teps = 0.0001 \t\tAccuracy:  0.923\n",
      "lam = 1.0\teps = 0.001 \t\tAccuracy:  0.923\n",
      "lam = 10.0\teps = 1e-05 \t\tAccuracy:  0.901\n",
      "lam = 10.0\teps = 0.0001 \t\tAccuracy:  0.901\n",
      "lam = 10.0\teps = 0.001 \t\tAccuracy:  0.901\n"
     ]
    }
   ],
   "source": [
    "Accs_batch = HyperparameterAccs(lambdas,epsilons,optima_batch,X_val,y_val)"
   ]
  },
  {
   "cell_type": "code",
   "execution_count": 40,
   "metadata": {
    "collapsed": false
   },
   "outputs": [
    {
     "name": "stdout",
     "output_type": "stream",
     "text": [
      "[  -9.42308096   12.41718556   -4.87702878  -66.10626164   10.02404909\n",
      "   19.12813497  -26.38879507  146.98956231   -6.32745917    3.36025562\n",
      "   19.37918076    3.30409423]\n",
      "[[  9.73000000e-01   1.00000000e-03   1.00000000e-05]\n",
      " [  9.72000000e-01   1.00000000e-03   1.00000000e-04]\n",
      " [  9.73000000e-01   1.00000000e-03   1.00000000e-03]\n",
      " [  9.66000000e-01   1.00000000e-02   1.00000000e-05]\n",
      " [  9.69000000e-01   1.00000000e-02   1.00000000e-04]\n",
      " [  9.69000000e-01   1.00000000e-02   1.00000000e-03]\n",
      " [  9.48000000e-01   1.00000000e-01   1.00000000e-05]\n",
      " [  9.49000000e-01   1.00000000e-01   1.00000000e-04]\n",
      " [  9.50000000e-01   1.00000000e-01   1.00000000e-03]\n",
      " [  9.23000000e-01   1.00000000e+00   1.00000000e-05]\n",
      " [  9.23000000e-01   1.00000000e+00   1.00000000e-04]\n",
      " [  9.23000000e-01   1.00000000e+00   1.00000000e-03]\n",
      " [  9.01000000e-01   1.00000000e+01   1.00000000e-05]\n",
      " [  9.01000000e-01   1.00000000e+01   1.00000000e-04]\n",
      " [  9.01000000e-01   1.00000000e+01   1.00000000e-03]]\n"
     ]
    }
   ],
   "source": [
    "print(optima_batch[0.001][0.001])\n",
    "print(Accs_batch)"
   ]
  },
  {
   "cell_type": "markdown",
   "metadata": {},
   "source": [
    "Plot the loss function vs. iteration number for the best combination of $\\lambda, \\epsilon$."
   ]
  },
  {
   "cell_type": "code",
   "execution_count": 20,
   "metadata": {
    "collapsed": false
   },
   "outputs": [],
   "source": [
    "def plot_LFvIt(Accs,LvIs):\n",
    "    fig = plt.figure(figsize=(12,10))\n",
    "    plt.clf()\n",
    "\n",
    "    # Find the most accurate lam,eps combo\n",
    "    imax = np.argmax(Accs[:,0])\n",
    "    lam = Accs[imax,1]\n",
    "    eps = Accs[imax,2]\n",
    "\n",
    "    Iters = LvIs[lam][eps][0]\n",
    "    LossFn = LvIs[lam][eps][1]\n",
    "    plt.plot(Iters,LossFn)\n",
    "    plt.xlabel('Iterations')\n",
    "    plt.ylabel('Loss Function')\n",
    "    plt.text(0.75*(np.amax(Iters)-np.amin(Iters))+np.amin(Iters),0.95*(np.amax(LossFn)-np.amin(LossFn))+np.amin(LossFn),'$\\lambda = $'+str(lam)+', $\\epsilon = $'+str(eps))\n",
    "    plt.show()\n"
   ]
  },
  {
   "cell_type": "code",
   "execution_count": 21,
   "metadata": {
    "collapsed": false
   },
   "outputs": [
    {
     "data": {
      "image/png": "[encoded data removed]",
      "text/plain": [
       "<matplotlib.figure.Figure at 0x10e1ee0f0>"
      ]
     },
     "metadata": {},
     "output_type": "display_data"
    }
   ],
   "source": [
    "plot_LFvIt(Accs_batch,LvIs_batch)"
   ]
  },
  {
   "cell_type": "markdown",
   "metadata": {
    "collapsed": true
   },
   "source": [
    "Part 2\n",
    "-------\n",
    "Instead of batch descent, we can use the following procedure to find the optimal $w$ using stochastic gradient descent:\n",
    "\n",
    "(1)&nbsp;&nbsp;&nbsp;&nbsp;&nbsp; $w \\leftarrow$ arbitrary starting point  \n",
    "(2)&nbsp;&nbsp;&nbsp;&nbsp;&nbsp; while $J(w) > 0$  \n",
    "&nbsp;&nbsp;&nbsp;&nbsp;&nbsp;&nbsp;&nbsp;&nbsp;&nbsp;&nbsp;&nbsp;&nbsp;&nbsp; $w \\leftarrow w - \\epsilon(2 \\lambda w - X_i^T(y_i-s_i))$  \n",
    "(3)&nbsp;&nbsp;&nbsp;&nbsp;&nbsp; return $w$"
   ]
  },
  {
   "cell_type": "markdown",
   "metadata": {},
   "source": [
    "Step (1) - Same as in batch gradient descent"
   ]
  },
  {
   "cell_type": "code",
   "execution_count": 22,
   "metadata": {
    "collapsed": false
   },
   "outputs": [],
   "source": [
    "w = np.zeros(len(descriptions))"
   ]
  },
  {
   "cell_type": "markdown",
   "metadata": {},
   "source": [
    "Step (2) - we can reuse the functions for calculating the cost function and the looping process defined in part 1, step 2; we define a new function for the stochastic update rule"
   ]
  },
  {
   "cell_type": "code",
   "execution_count": 23,
   "metadata": {
    "collapsed": true
   },
   "outputs": [],
   "source": [
    "def update_w_stoch(w,X,y,lam,eps):\n",
    "    i = np.random.choice(len(X))\n",
    "    y_i = y[i]\n",
    "    X_i = X[i]\n",
    "    s_i = spsp.expit(np.dot(X_i,w))\n",
    "    w_prime = w - eps*(2*lam*w-X_i*(y_i-s_i))\n",
    "    \n",
    "    return w_prime"
   ]
  },
  {
   "cell_type": "markdown",
   "metadata": {},
   "source": [
    "Step (3)\n",
    "\n",
    "Again, we try several values of hyperparameters $\\lambda$ and $\\epsilon$ to find the optimal values and we introduce a convergence tolerance that is used in the case that data is not linearly separable. "
   ]
  },
  {
   "cell_type": "code",
   "execution_count": 24,
   "metadata": {
    "collapsed": true
   },
   "outputs": [],
   "source": [
    "tol = 1e-9"
   ]
  },
  {
   "cell_type": "code",
   "execution_count": 25,
   "metadata": {
    "collapsed": false,
    "scrolled": true
   },
   "outputs": [
    {
     "name": "stdout",
     "output_type": "stream",
     "text": [
      "Lambda: 0.001 \tEpsilon: 1e-05\n",
      "0:\tJ = 3465.7359028\n",
      "500000:\tJ = 3362.82512937\n",
      "1000000:\tJ = 3268.46309292\n",
      "1125640\n",
      "Lambda: 0.001 \tEpsilon: 0.0001\n",
      "0:\tJ = 3465.7359028\n",
      "500000:\tJ = 2732.39544154\n",
      "1000000:\tJ = 2374.63859585\n",
      "1500000:\tJ = 2172.7719256\n",
      "2000000:\tJ = 2045.27641322\n",
      "2298890\n",
      "Lambda: 0.001 \tEpsilon: 0.001\n",
      "0:\tJ = 3465.7359028\n",
      "500000:\tJ = 1775.99910397\n",
      "1000000:\tJ = 1707.94752568\n",
      "1500000:\tJ = 1698.43969819\n",
      "2000000:\tJ = 1698.23169279\n",
      "2129700\n",
      "Lambda: 0.01 \tEpsilon: 1e-05\n",
      "0:\tJ = 3465.7359028\n",
      "213140\n",
      "Lambda: 0.01 \tEpsilon: 0.0001\n",
      "0:\tJ = 3465.7359028\n",
      "500000:\tJ = 2940.04479418\n",
      "1000000:\tJ = 2821.37857698\n",
      "1500000:\tJ = 2791.49546249\n",
      "2000000:\tJ = 2783.78649742\n",
      "2500000:\tJ = 2782.44271642\n",
      "3000000:\tJ = 2782.35376829\n",
      "3500000:\tJ = 2781.84341275\n",
      "4000000:\tJ = 2781.68917007\n",
      "4500000:\tJ = 2780.89906042\n",
      "4982740\n",
      "Lambda: 0.01 \tEpsilon: 0.001\n",
      "0:\tJ = 3465.7359028\n",
      "500000:\tJ = 2779.87168235\n",
      "1000000:\tJ = 2781.99347909\n",
      "1500000:\tJ = 2782.17975143\n",
      "2000000:\tJ = 2783.65108882\n",
      "2500000:\tJ = 2782.55418971\n",
      "3000000:\tJ = 2781.74443743\n",
      "3500000:\tJ = 2784.81604423\n",
      "4000000:\tJ = 2782.1245281\n",
      "4500000:\tJ = 2781.22537298\n",
      "5000000:\tJ = 2780.76759405\n",
      "5500000:\tJ = 2782.58314542\n",
      "6000000:\tJ = 2781.26653165\n",
      "6500000:\tJ = 2780.45463298\n",
      "7000000:\tJ = 2783.22449515\n",
      "7500000:\tJ = 2780.9867981\n",
      "8000000:\tJ = 2785.30319385\n",
      "8500000:\tJ = 2781.54814011\n",
      "9000000:\tJ = 2782.3221221\n",
      "9500000:\tJ = 2780.68812228\n",
      "10000000:\tJ = 2781.23114022\n",
      "10000000\n",
      "Lambda: 0.1 \tEpsilon: 1e-05\n",
      "0:\tJ = 3465.7359028\n",
      "52380\n",
      "Lambda: 0.1 \tEpsilon: 0.0001\n",
      "0:\tJ = 3465.7359028\n",
      "500000:\tJ = 3364.17243977\n",
      "1000000:\tJ = 3364.36700932\n",
      "1500000:\tJ = 3364.20287963\n",
      "2000000:\tJ = 3364.15748024\n",
      "2500000:\tJ = 3364.28774278\n",
      "3000000:\tJ = 3364.22750458\n",
      "3486890\n",
      "Lambda: 0.1 \tEpsilon: 0.001\n",
      "0:\tJ = 3465.7359028\n",
      "500000:\tJ = 3365.28828119\n",
      "1000000:\tJ = 3363.65788585\n",
      "1500000:\tJ = 3365.51464974\n",
      "2000000:\tJ = 3364.27314031\n",
      "2500000:\tJ = 3363.3327458\n",
      "3000000:\tJ = 3364.00500723\n",
      "3500000:\tJ = 3364.22345135\n",
      "4000000:\tJ = 3364.53803106\n",
      "4500000:\tJ = 3364.87598928\n",
      "5000000:\tJ = 3365.17525643\n",
      "5500000:\tJ = 3363.76111049\n",
      "6000000:\tJ = 3364.29309122\n",
      "6500000:\tJ = 3364.96606424\n",
      "7000000:\tJ = 3365.75273259\n",
      "7500000:\tJ = 3363.76163676\n",
      "8000000:\tJ = 3363.89872806\n",
      "8500000:\tJ = 3364.75036898\n",
      "9000000:\tJ = 3364.59898155\n",
      "9500000:\tJ = 3363.64991872\n",
      "10000000:\tJ = 3364.41695576\n",
      "10000000\n",
      "Lambda: 1.0 \tEpsilon: 1e-05\n",
      "0:\tJ = 3465.7359028\n",
      "355930\n",
      "Lambda: 1.0 \tEpsilon: 0.0001\n",
      "0:\tJ = 3465.7359028\n",
      "500000:\tJ = 3454.9527472\n",
      "1000000:\tJ = 3455.15782579\n",
      "1500000:\tJ = 3455.166386\n",
      "2000000:\tJ = 3455.23904156\n",
      "2500000:\tJ = 3455.0542442\n",
      "3000000:\tJ = 3455.04508686\n",
      "3500000:\tJ = 3455.17014075\n",
      "4000000:\tJ = 3454.87181337\n",
      "4500000:\tJ = 3455.20004778\n",
      "5000000:\tJ = 3454.95710288\n",
      "5500000:\tJ = 3455.09204581\n",
      "6000000:\tJ = 3455.12096516\n",
      "6267230\n",
      "Lambda: 1.0 \tEpsilon: 0.001\n",
      "0:\tJ = 3465.7359028\n",
      "500000:\tJ = 3455.20721945\n",
      "1000000:\tJ = 3454.67289286\n",
      "1500000:\tJ = 3455.26150274\n",
      "2000000:\tJ = 3455.27299146\n",
      "2500000:\tJ = 3454.9025222\n",
      "3000000:\tJ = 3454.94888785\n",
      "3500000:\tJ = 3455.07795508\n",
      "4000000:\tJ = 3455.71600999\n",
      "4500000:\tJ = 3454.37300454\n",
      "5000000:\tJ = 3455.12526434\n",
      "5500000:\tJ = 3455.09818135\n",
      "6000000:\tJ = 3454.68431286\n",
      "6500000:\tJ = 3454.9588192\n",
      "7000000:\tJ = 3455.32632993\n",
      "7500000:\tJ = 3454.84612981\n",
      "8000000:\tJ = 3455.03503622\n",
      "8500000:\tJ = 3454.66810738\n",
      "9000000:\tJ = 3454.60362415\n",
      "9500000:\tJ = 3455.17230893\n",
      "10000000:\tJ = 3454.6788451\n",
      "10000000\n",
      "Lambda: 10.0 \tEpsilon: 1e-05\n",
      "0:\tJ = 3465.7359028\n",
      "139640\n",
      "Lambda: 10.0 \tEpsilon: 0.0001\n",
      "0:\tJ = 3465.7359028\n",
      "500000:\tJ = 3464.68551729\n",
      "1000000:\tJ = 3464.69057282\n",
      "1500000:\tJ = 3464.62450051\n",
      "2000000:\tJ = 3464.73603417\n",
      "2290980\n",
      "Lambda: 10.0 \tEpsilon: 0.001\n",
      "0:\tJ = 3465.7359028\n",
      "500000:\tJ = 3464.71768101\n",
      "1000000:\tJ = 3464.71322973\n",
      "1500000:\tJ = 3464.74245684\n",
      "2000000:\tJ = 3464.66296015\n",
      "2500000:\tJ = 3464.72243112\n",
      "3000000:\tJ = 3464.67446319\n",
      "3500000:\tJ = 3464.62450599\n",
      "4000000:\tJ = 3464.62681186\n",
      "4500000:\tJ = 3464.73252946\n",
      "5000000:\tJ = 3464.63620049\n",
      "5500000:\tJ = 3464.69911451\n",
      "6000000:\tJ = 3464.59629992\n",
      "6500000:\tJ = 3464.58988803\n",
      "7000000:\tJ = 3464.72661916\n",
      "7500000:\tJ = 3464.78900633\n",
      "8000000:\tJ = 3464.78226812\n",
      "8500000:\tJ = 3464.68515929\n",
      "9000000:\tJ = 3464.60537635\n",
      "9500000:\tJ = 3464.64713702\n",
      "10000000:\tJ = 3464.40694878\n",
      "10000000\n"
     ]
    }
   ],
   "source": [
    "# Collect loss function as f'n of iteration number for each combo\n",
    "optima_stoch = {}\n",
    "LvIs_stoch = {}\n",
    "for lam in lambdas:\n",
    "    optima_stoch[lam]={}\n",
    "    LvIs_stoch[lam]={}\n",
    "    for eps in epsilons:\n",
    "        print(\"Lambda:\",lam,\"\\tEpsilon:\",eps)\n",
    "        w_star,iters,Js = whileloop(w,X,y,lam,eps,tol,update_w_stoch)\n",
    "        optima_stoch[lam][eps]= w_star\n",
    "        LvIs_stoch[lam][eps] = [iters,Js]\n",
    "        print(iters[len(iters)-1])"
   ]
  },
  {
   "cell_type": "markdown",
   "metadata": {},
   "source": [
    "Print out a list of the optimum w\\* for each combination of $\\lambda$ and $\\epsilon$. Save the accuracies in a list."
   ]
  },
  {
   "cell_type": "code",
   "execution_count": 26,
   "metadata": {
    "collapsed": false
   },
   "outputs": [
    {
     "name": "stdout",
     "output_type": "stream",
     "text": [
      "lam = 0.001\teps = 1e-05 \t\tAccuracy:  0.889\n",
      "lam = 0.001\teps = 0.0001 \t\tAccuracy:  0.898\n",
      "lam = 0.001\teps = 0.001 \t\tAccuracy:  0.907\n",
      "lam = 0.01\teps = 1e-05 \t\tAccuracy:  0.888\n",
      "lam = 0.01\teps = 0.0001 \t\tAccuracy:  0.892\n",
      "lam = 0.01\teps = 0.001 \t\tAccuracy:  0.892\n",
      "lam = 0.1\teps = 1e-05 \t\tAccuracy:  0.888\n",
      "lam = 0.1\teps = 0.0001 \t\tAccuracy:  0.888\n",
      "lam = 0.1\teps = 0.001 \t\tAccuracy:  0.888\n",
      "lam = 1.0\teps = 1e-05 \t\tAccuracy:  0.887\n",
      "lam = 1.0\teps = 0.0001 \t\tAccuracy:  0.887\n",
      "lam = 1.0\teps = 0.001 \t\tAccuracy:  0.882\n",
      "lam = 10.0\teps = 1e-05 \t\tAccuracy:  0.882\n",
      "lam = 10.0\teps = 0.0001 \t\tAccuracy:  0.884\n",
      "lam = 10.0\teps = 0.001 \t\tAccuracy:  0.889\n"
     ]
    }
   ],
   "source": [
    "Accs_stoch = HyperparameterAccs(lambdas,epsilons,optima_stoch,X_val,y_val)"
   ]
  },
  {
   "cell_type": "markdown",
   "metadata": {},
   "source": [
    "Plot the loss function vs. iteration number for the best combination of $\\lambda, \\epsilon$."
   ]
  },
  {
   "cell_type": "code",
   "execution_count": 28,
   "metadata": {
    "collapsed": false
   },
   "outputs": [
    {
     "data": {
      "image/png": "[encoded data removed]",
      "text/plain": [
       "<matplotlib.figure.Figure at 0x11d2eddd8>"
      ]
     },
     "metadata": {},
     "output_type": "display_data"
    }
   ],
   "source": [
    "plot_LFvIt(Accs_stoch,LvIs_stoch)"
   ]
  },
  {
   "cell_type": "markdown",
   "metadata": {},
   "source": [
    "Part 3\n",
    "----------------------------\n",
    "Now we wish to repeat part 2 (stochastic gradient descent) but using a variable $\\epsilon$.   \n",
    "We can accomplish this by redefining our while loop to decrease $\\epsilon$ such that $\\epsilon \\propto 1/t$."
   ]
  },
  {
   "cell_type": "code",
   "execution_count": 29,
   "metadata": {
    "collapsed": true
   },
   "outputs": [],
   "source": [
    "def whileloop_deceps(w,X,y,lam,eps,tol,update_fn):\n",
    "    i=0\n",
    "    iters,Js = [],[]\n",
    "    J = costfnJ(w,X,y,lam)\n",
    "    lastJ = J+1  #dummy condition to pass while condition on first run\n",
    "    while J>0 and i<=1e7 and np.absolute(lastJ-J)>tol:\n",
    "        w_prime = update_fn(w,X,y,lam,eps/(i+1))\n",
    "        w = w_prime\n",
    "        if i%10==0:\n",
    "            if i%500000==0:\n",
    "                print(str(i)+\":\\tJ =\",str(J))\n",
    "            iters.append(i)\n",
    "            Js.append(J)\n",
    "        lastJ = J\n",
    "        J = costfnJ(w,X,y,lam)\n",
    "        i+=1\n",
    "        \n",
    "    return w,iters,Js"
   ]
  },
  {
   "cell_type": "markdown",
   "metadata": {},
   "source": [
    "Then, we call that function using the same procedure used before."
   ]
  },
  {
   "cell_type": "code",
   "execution_count": 30,
   "metadata": {
    "collapsed": false
   },
   "outputs": [
    {
     "name": "stdout",
     "output_type": "stream",
     "text": [
      "Lambda: 0.001 \tEpsilon: 1e-05\n",
      "0:\tJ = 3465.7359028\n",
      "740\n",
      "Lambda: 0.001 \tEpsilon: 0.0001\n",
      "0:\tJ = 3465.7359028\n",
      "1320\n",
      "Lambda: 0.001 \tEpsilon: 0.001\n",
      "0:\tJ = 3465.7359028\n",
      "8390\n",
      "Lambda: 0.01 \tEpsilon: 1e-05\n",
      "0:\tJ = 3465.7359028\n",
      "660\n",
      "Lambda: 0.01 \tEpsilon: 0.0001\n",
      "0:\tJ = 3465.7359028\n",
      "2720\n",
      "Lambda: 0.01 \tEpsilon: 0.001\n",
      "0:\tJ = 3465.7359028\n",
      "9450\n",
      "Lambda: 0.1 \tEpsilon: 1e-05\n",
      "0:\tJ = 3465.7359028\n",
      "410\n",
      "Lambda: 0.1 \tEpsilon: 0.0001\n",
      "0:\tJ = 3465.7359028\n",
      "1360\n",
      "Lambda: 0.1 \tEpsilon: 0.001\n",
      "0:\tJ = 3465.7359028\n",
      "2380\n",
      "Lambda: 1.0 \tEpsilon: 1e-05\n",
      "0:\tJ = 3465.7359028\n",
      "400\n",
      "Lambda: 1.0 \tEpsilon: 0.0001\n",
      "0:\tJ = 3465.7359028\n",
      "730\n",
      "Lambda: 1.0 \tEpsilon: 0.001\n",
      "0:\tJ = 3465.7359028\n",
      "2000\n",
      "Lambda: 10.0 \tEpsilon: 1e-05\n",
      "0:\tJ = 3465.7359028\n",
      "1430\n",
      "Lambda: 10.0 \tEpsilon: 0.0001\n",
      "0:\tJ = 3465.7359028\n",
      "2500\n",
      "Lambda: 10.0 \tEpsilon: 0.001\n",
      "0:\tJ = 3465.7359028\n",
      "5710\n"
     ]
    }
   ],
   "source": [
    "# Collect loss function as f'n of iteration number for each combo\n",
    "optima_stoch_deceps = {}\n",
    "LvIs_stoch_deceps = {}\n",
    "for lam in lambdas:\n",
    "    optima_stoch_deceps[lam]={}\n",
    "    LvIs_stoch_deceps[lam]={}\n",
    "    for eps in epsilons:\n",
    "        print(\"Lambda:\",lam,\"\\tEpsilon:\",eps)\n",
    "        w_star,iters,Js = whileloop_deceps(w,X,y,lam,eps,tol,update_w_stoch)\n",
    "        optima_stoch_deceps[lam][eps]= w_star\n",
    "        LvIs_stoch_deceps[lam][eps] = [iters,Js]\n",
    "        print(iters[len(iters)-1])"
   ]
  },
  {
   "cell_type": "markdown",
   "metadata": {},
   "source": [
    "Print out a list of the optimum w\\* for each combination of $\\lambda$ and $\\epsilon$. Save the accuracies in a list."
   ]
  },
  {
   "cell_type": "code",
   "execution_count": 31,
   "metadata": {
    "collapsed": false
   },
   "outputs": [
    {
     "name": "stdout",
     "output_type": "stream",
     "text": [
      "lam = 0.001\teps = 1e-05 \t\tAccuracy:  0.809\n",
      "lam = 0.001\teps = 0.0001 \t\tAccuracy:  0.858\n",
      "lam = 0.001\teps = 0.001 \t\tAccuracy:  0.875\n",
      "lam = 0.01\teps = 1e-05 \t\tAccuracy:  0.861\n",
      "lam = 0.01\teps = 0.0001 \t\tAccuracy:  0.877\n",
      "lam = 0.01\teps = 0.001 \t\tAccuracy:  0.856\n",
      "lam = 0.1\teps = 1e-05 \t\tAccuracy:  0.868\n",
      "lam = 0.1\teps = 0.0001 \t\tAccuracy:  0.85\n",
      "lam = 0.1\teps = 0.001 \t\tAccuracy:  0.817\n",
      "lam = 1.0\teps = 1e-05 \t\tAccuracy:  0.849\n",
      "lam = 1.0\teps = 0.0001 \t\tAccuracy:  0.806\n",
      "lam = 1.0\teps = 0.001 \t\tAccuracy:  0.815\n",
      "lam = 10.0\teps = 1e-05 \t\tAccuracy:  0.816\n",
      "lam = 10.0\teps = 0.0001 \t\tAccuracy:  0.87\n",
      "lam = 10.0\teps = 0.001 \t\tAccuracy:  0.877\n"
     ]
    }
   ],
   "source": [
    "Accs_stoch_deceps = HyperparameterAccs(lambdas,epsilons,optima_stoch_deceps,X_val,y_val)"
   ]
  },
  {
   "cell_type": "markdown",
   "metadata": {},
   "source": [
    "Plot the loss function vs. iteration number for the best combination of $\\lambda, \\epsilon$."
   ]
  },
  {
   "cell_type": "code",
   "execution_count": 33,
   "metadata": {
    "collapsed": false
   },
   "outputs": [
    {
     "data": {
      "image/png": "[encoded data removed]",
      "text/plain": [
       "<matplotlib.figure.Figure at 0x139d97c50>"
      ]
     },
     "metadata": {},
     "output_type": "display_data"
    }
   ],
   "source": [
    "plot_LFvIt(Accs_stoch_deceps,LvIs_stoch_deceps)"
   ]
  },
  {
   "cell_type": "markdown",
   "metadata": {},
   "source": [
    "Finally, we use our most successful training algorithm (in this case, batch gradient descent for $\\lambda = 0.001$ and $\\epsilon = 0.001$) to predict on the test data."
   ]
  },
  {
   "cell_type": "code",
   "execution_count": 34,
   "metadata": {
    "collapsed": true
   },
   "outputs": [],
   "source": [
    "lam,eps = 0.001,0.001\n",
    "w_star = optima_batch[lam][eps]\n",
    "preds = spsp.expit(np.dot(X_test,w_star))\n",
    "predictions = np.rint(preds)"
   ]
  },
  {
   "cell_type": "markdown",
   "metadata": {},
   "source": [
    "We save these predictions to the csv file for Kaggle submission."
   ]
  },
  {
   "cell_type": "code",
   "execution_count": 42,
   "metadata": {
    "collapsed": false
   },
   "outputs": [],
   "source": [
    "IDs = np.arange(len(predictions))\n",
    "numpycsv = np.c_[IDs,predictions]\n",
    "np.savetxt(BASE_DIR+r'\\Prob4_testpredictions.csv',numpycsv,fmt='%i',delimiter=',',header='Id,Category',comments='')"
   ]
  },
  {
   "cell_type": "markdown",
   "metadata": {},
   "source": [
    "Noting that this submission on Kaggle produced a test error of almost 12% (significantly more than the training error of 3% for the same hyperparameters), I chose a new set of hyperparameters with $\\lambda$ greater than the first submission. The intention of this was to reduce overfitting, as I had presumably been overfitting, giving an excellent training error but mediocre test error. "
   ]
  },
  {
   "cell_type": "code",
   "execution_count": null,
   "metadata": {
    "collapsed": true
   },
   "outputs": [],
   "source": [
    "lam,eps = 0.1,0.001\n",
    "w_star = optima_batch[lam][eps]\n",
    "preds = spsp.expit(np.dot(X_test,w_star))\n",
    "predictions = np.rint(preds)"
   ]
  },
  {
   "cell_type": "markdown",
   "metadata": {},
   "source": [
    "Again, we save these predictions to the csv file for Kaggle submission."
   ]
  },
  {
   "cell_type": "code",
   "execution_count": 42,
   "metadata": {
    "collapsed": false
   },
   "outputs": [],
   "source": [
    "IDs = np.arange(len(predictions))\n",
    "numpycsv = np.c_[IDs,predictions]\n",
    "np.savetxt(BASE_DIR+r'\\Prob4_testpredictions.csv',numpycsv,fmt='%i',delimiter=',',header='Id,Category',comments='')"
   ]
  },
  {
   "cell_type": "markdown",
   "metadata": {},
   "source": [
    "The hypothesis seems accurate. This submission (username **mnegus**) gave a score of **95.565%**."
   ]
  }
 ],
 "metadata": {
  "kernelspec": {
   "display_name": "Python 3",
   "language": "python",
   "name": "python3"
  },
  "language_info": {
   "codemirror_mode": {
    "name": "ipython",
    "version": 3
   },
   "file_extension": ".py",
   "mimetype": "text/x-python",
   "name": "python",
   "nbconvert_exporter": "python",
   "pygments_lexer": "ipython3",
   "version": "3.6.0"
  }
 },
 "nbformat": 4,
 "nbformat_minor": 2
}
