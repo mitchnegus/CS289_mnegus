{
 "cells": [
  {
   "cell_type": "markdown",
   "metadata": {},
   "source": [
    "# HW05 - Problem 6b\n",
    "\n",
    "Performance evaluation. For each of the 3 datasets, train a decision tree and random forest and report your training and validation accuracies. You should be reporting 12 numbers (3 datasets × 2 classifiers × 2 data splits).\n"
   ]
  },
  {
   "cell_type": "markdown",
   "metadata": {},
   "source": [
    "Program overhead:"
   ]
  },
  {
   "cell_type": "code",
   "execution_count": 1,
   "metadata": {
    "collapsed": false
   },
   "outputs": [],
   "source": [
    "%load_ext autoreload"
   ]
  },
  {
   "cell_type": "code",
   "execution_count": 2,
   "metadata": {
    "collapsed": true
   },
   "outputs": [],
   "source": [
    "%autoreload 2"
   ]
  },
  {
   "cell_type": "code",
   "execution_count": 3,
   "metadata": {
    "collapsed": false
   },
   "outputs": [],
   "source": [
    "import numpy as np\n",
    "import decisiontree as dt\n",
    "import randomforest as rf\n",
    "import HW05_utils as ut\n",
    "from matplotlib import pyplot as plt"
   ]
  },
  {
   "cell_type": "markdown",
   "metadata": {},
   "source": [
    "Set the base directory for this homework"
   ]
  },
  {
   "cell_type": "code",
   "execution_count": 4,
   "metadata": {
    "collapsed": true
   },
   "outputs": [],
   "source": [
    "BASE_DIR = \"/Users/mitch/Documents/Cal/2_2017_Spring/COMPSCI 289A - Intro to Machine Learning/HW05/\""
   ]
  },
  {
   "cell_type": "markdown",
   "metadata": {},
   "source": [
    "Establish a size for the validation set as a fraction of the total training set"
   ]
  },
  {
   "cell_type": "code",
   "execution_count": 5,
   "metadata": {
    "collapsed": true
   },
   "outputs": [],
   "source": [
    "valfrac = 0.1"
   ]
  },
  {
   "cell_type": "markdown",
   "metadata": {},
   "source": [
    "## Census\n",
    "---------------------------\n",
    "Calculate decision tree and random forest training/validation accuracies for the census dataset."
   ]
  },
  {
   "cell_type": "markdown",
   "metadata": {},
   "source": [
    "Begin by importing (preprocessed) data, shuffling, and separating into training and validation sets."
   ]
  },
  {
   "cell_type": "code",
   "execution_count": 6,
   "metadata": {
    "collapsed": false
   },
   "outputs": [],
   "source": [
    "# Import\n",
    "CENSDAT_PATH = \"Data/census_traindata_vec.csv\"\n",
    "CENSLBL_PATH = \"Data/census_traindata_lbl.csv\"\n",
    "CENSTST_PATH = \"Data/census_testdata_vec.csv\"\n",
    "\n",
    "census_data = np.genfromtxt(BASE_DIR+CENSDAT_PATH,delimiter=',')\n",
    "census_labels = np.genfromtxt(BASE_DIR+CENSLBL_PATH,delimiter=',')\n",
    "census_test = np.genfromtxt(BASE_DIR+CENSTST_PATH,delimiter=',')"
   ]
  },
  {
   "cell_type": "code",
   "execution_count": 7,
   "metadata": {
    "collapsed": false
   },
   "outputs": [],
   "source": [
    "# Shuffle\n",
    "census_labels = np.reshape(census_labels,(len(census_labels),1))\n",
    "censusdata, censuslabels = ut.shuffle_data(census_data,census_labels)"
   ]
  },
  {
   "cell_type": "code",
   "execution_count": 8,
   "metadata": {
    "collapsed": false
   },
   "outputs": [],
   "source": [
    "# Separate\n",
    "censustraindata,censusvaldata = ut.val_partition(censusdata,valfrac)\n",
    "censustrainlabels,censusvallabels = ut.val_partition(censuslabels,valfrac)"
   ]
  },
  {
   "cell_type": "markdown",
   "metadata": {
    "collapsed": false
   },
   "source": [
    "### Census Decision Tree\n",
    "\n",
    "Create and train a decision tree classifier using the census data and labels"
   ]
  },
  {
   "cell_type": "code",
   "execution_count": 9,
   "metadata": {
    "collapsed": false
   },
   "outputs": [],
   "source": [
    "census_DTclassifier = dt.DecisionTree(treedepth=8,verbose='path10')"
   ]
  },
  {
   "cell_type": "code",
   "execution_count": 10,
   "metadata": {
    "collapsed": false
   },
   "outputs": [],
   "source": [
    "census_DTclassifier.train(censustraindata,censustrainlabels)"
   ]
  },
  {
   "cell_type": "code",
   "execution_count": 11,
   "metadata": {
    "collapsed": false
   },
   "outputs": [
    {
     "name": "stdout",
     "output_type": "stream",
     "text": [
      "Display of choices for point 0\n",
      "Feature #4:  9.0 <= 12.0\n",
      "Feature #21:  40.0 <= 49.0\n",
      "Feature #1:  33.0 <= 55.0\n",
      "Feature #73:  0.0 <= 0.0\n",
      "Feature #86:  0.0 <= 0.0\n",
      "Feature #1:  33.0 <= 47.0\n",
      "Feature #93:  1.0 > 0.0\n",
      "Feature #2:  0.0 <= 3325.0\n",
      "Point labeled as 0\n",
      "Display of choices for point 1\n",
      "Feature #4:  9.0 <= 12.0\n",
      "Feature #21:  20.0 <= 49.0\n",
      "Feature #1:  74.0 > 55.0\n",
      "Feature #1:  74.0 > 69.0\n",
      "Feature #77:  0.0 <= 0.0\n",
      "Feature #70:  0.0 <= 0.0\n",
      "Feature #74:  0.0 <= 0.0\n",
      "Feature #10:  0.0 <= 0.0\n",
      "Point labeled as 0\n",
      "Display of choices for point 2\n",
      "Feature #4:  9.0 <= 12.0\n",
      "Feature #21:  40.0 <= 49.0\n",
      "Feature #1:  31.0 <= 55.0\n",
      "Feature #73:  0.0 <= 0.0\n",
      "Feature #86:  0.0 <= 0.0\n",
      "Feature #1:  31.0 <= 47.0\n",
      "Feature #93:  0.0 <= 0.0\n",
      "Feature #81:  0.0 <= 0.0\n",
      "Point labeled as 0\n",
      "Display of choices for point 3\n",
      "Feature #4:  10.0 <= 12.0\n",
      "Feature #21:  42.0 <= 49.0\n",
      "Feature #1:  22.0 <= 55.0\n",
      "Feature #73:  0.0 <= 0.0\n",
      "Feature #86:  0.0 <= 0.0\n",
      "Feature #1:  22.0 <= 47.0\n",
      "Feature #93:  0.0 <= 0.0\n",
      "Feature #81:  1.0 > 0.0\n",
      "Point labeled as 0\n",
      "Display of choices for point 4\n",
      "Feature #4:  9.0 <= 12.0\n",
      "Feature #21:  60.0 > 49.0\n",
      "Feature #1:  39.0 <= 45.0\n",
      "Feature #26:  1.0 > 0.0\n",
      "Feature #21:  60.0 <= 72.0\n",
      "Feature #2:  0.0 <= 0.0\n",
      "Feature #101:  0.0 <= 0.0\n",
      "Feature #1:  39.0 <= 41.0\n",
      "Point labeled as 0\n",
      "Display of choices for point 5\n",
      "Feature #4:  9.0 <= 12.0\n",
      "Feature #21:  45.0 <= 49.0\n",
      "Feature #1:  22.0 <= 55.0\n",
      "Feature #73:  0.0 <= 0.0\n",
      "Feature #86:  0.0 <= 0.0\n",
      "Feature #1:  22.0 <= 47.0\n",
      "Feature #93:  1.0 > 0.0\n",
      "Feature #2:  0.0 <= 3325.0\n",
      "Point labeled as 0\n",
      "Display of choices for point 6\n",
      "Feature #4:  9.0 <= 12.0\n",
      "Feature #21:  40.0 <= 49.0\n",
      "Feature #1:  19.0 <= 55.0\n",
      "Feature #73:  0.0 <= 0.0\n",
      "Feature #86:  0.0 <= 0.0\n",
      "Feature #1:  19.0 <= 47.0\n",
      "Feature #93:  0.0 <= 0.0\n",
      "Feature #81:  0.0 <= 0.0\n",
      "Point labeled as 0\n",
      "Display of choices for point 7\n",
      "Feature #4:  12.0 <= 12.0\n",
      "Feature #21:  55.0 > 49.0\n",
      "Feature #1:  39.0 <= 45.0\n",
      "Feature #26:  0.0 <= 0.0\n",
      "Feature #1:  39.0 > 38.0\n",
      "Feature #16:  0.0 <= 0.0\n",
      "Feature #1:  39.0 <= 42.0\n",
      "Feature #21:  55.0 <= 57.0\n",
      "Point labeled as 0\n",
      "Display of choices for point 8\n",
      "Feature #4:  15.0 > 12.0\n",
      "Feature #1:  40.0 <= 40.0\n",
      "Feature #89:  1.0 > 0.0\n",
      "Feature #1:  40.0 > 32.0\n",
      "Feature #100:  0.0 <= 0.0\n",
      "Feature #1:  40.0 > 35.0\n",
      "Feature #1:  40.0 > 37.0\n",
      "Feature #1:  40.0 > 38.0\n",
      "Point labeled as 1\n",
      "Display of choices for point 9\n",
      "Feature #4:  13.0 > 12.0\n",
      "Feature #1:  58.0 > 40.0\n",
      "Feature #1:  58.0 > 46.0\n",
      "Feature #1:  58.0 > 51.0\n",
      "Feature #1:  58.0 > 56.0\n",
      "Feature #1:  58.0 <= 61.0\n",
      "Feature #89:  1.0 > 0.0\n",
      "Feature #1:  58.0 > 57.0\n",
      "Point labeled as 1\n",
      "[ 0.  0.  0.  0.  0.  0.  0.  0.  1.  1.]\n"
     ]
    }
   ],
   "source": [
    "censusDTpredictions = census_DTclassifier.predict(censusvaldata)\n",
    "print(censusvallabels[:10])"
   ]
  },
  {
   "cell_type": "code",
   "execution_count": null,
   "metadata": {
    "collapsed": true
   },
   "outputs": [],
   "source": []
  }
 ],
 "metadata": {
  "kernelspec": {
   "display_name": "Python 3",
   "language": "python",
   "name": "python3"
  },
  "language_info": {
   "codemirror_mode": {
    "name": "ipython",
    "version": 3
   },
   "file_extension": ".py",
   "mimetype": "text/x-python",
   "name": "python",
   "nbconvert_exporter": "python",
   "pygments_lexer": "ipython3",
   "version": "3.6.0"
  }
 },
 "nbformat": 4,
 "nbformat_minor": 2
}
