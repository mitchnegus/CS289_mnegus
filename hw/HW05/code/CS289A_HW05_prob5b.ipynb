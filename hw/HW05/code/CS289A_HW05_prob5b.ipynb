{
 "cells": [
  {
   "cell_type": "markdown",
   "metadata": {},
   "source": [
    "# HW05 - Problem 5b\n",
    "\n",
    "Performance evaluation. For each of the 3 datasets, train a decision tree and random forest and report your training and validation accuracies. You should be reporting 12 numbers (3 datasets × 2 classifiers × 2 data splits).\n"
   ]
  },
  {
   "cell_type": "markdown",
   "metadata": {},
   "source": [
    "Program overhead:"
   ]
  },
  {
   "cell_type": "code",
   "execution_count": 1,
   "metadata": {
    "collapsed": false
   },
   "outputs": [],
   "source": [
    "%load_ext autoreload"
   ]
  },
  {
   "cell_type": "code",
   "execution_count": 2,
   "metadata": {
    "collapsed": true
   },
   "outputs": [],
   "source": [
    "%autoreload 2"
   ]
  },
  {
   "cell_type": "code",
   "execution_count": 3,
   "metadata": {
    "collapsed": false
   },
   "outputs": [],
   "source": [
    "import numpy as np\n",
    "import decisiontree as dt\n",
    "import randomforest as rf\n",
    "import HW05_utils as ut\n",
    "from matplotlib import pyplot as plt"
   ]
  },
  {
   "cell_type": "markdown",
   "metadata": {},
   "source": [
    "Set the base directory for this homework"
   ]
  },
  {
   "cell_type": "code",
   "execution_count": 4,
   "metadata": {
    "collapsed": true
   },
   "outputs": [],
   "source": [
    "BASE_DIR = \"/Users/mitch/Documents/Cal/2_2017_Spring/COMPSCI 289A - Intro to Machine Learning/HW05/\""
   ]
  },
  {
   "cell_type": "markdown",
   "metadata": {},
   "source": [
    "Establish a size for the validation set as a fraction of the total training set"
   ]
  },
  {
   "cell_type": "code",
   "execution_count": 5,
   "metadata": {
    "collapsed": true
   },
   "outputs": [],
   "source": [
    "valfrac = 0.1"
   ]
  },
  {
   "cell_type": "markdown",
   "metadata": {},
   "source": [
    "## SPAM\n",
    "-----------\n",
    "Calculate decision tree and random forest training/validation accuracies for the spam dataset."
   ]
  },
  {
   "cell_type": "markdown",
   "metadata": {},
   "source": [
    "Begin by importing data, shuffling, and separating into training and validation sets."
   ]
  },
  {
   "cell_type": "code",
   "execution_count": 34,
   "metadata": {
    "collapsed": false
   },
   "outputs": [],
   "source": [
    "# Import\n",
    "SPAM_PATH = \"Data/hw5_spam_dist/spam_data.mat\"\n",
    "spam_data = ut.load_data(SPAM_PATH,BASE_DIR,'training_data')\n",
    "spam_labels = ut.load_data(SPAM_PATH,BASE_DIR,'training_labels').T\n",
    "spam_test = ut.load_data(SPAM_PATH,BASE_DIR,'test_data')"
   ]
  },
  {
   "cell_type": "code",
   "execution_count": 7,
   "metadata": {
    "collapsed": false
   },
   "outputs": [],
   "source": [
    "# Shuffle\n",
    "spamdata, spamlabels = ut.shuffle_data(spam_data,spam_labels)"
   ]
  },
  {
   "cell_type": "code",
   "execution_count": 8,
   "metadata": {
    "collapsed": false
   },
   "outputs": [],
   "source": [
    "# Separate\n",
    "spamtraindata,spamvaldata = ut.val_partition(spamdata,valfrac)\n",
    "spamtrainlabels,spamvallabels = ut.val_partition(spamlabels,valfrac)"
   ]
  },
  {
   "cell_type": "markdown",
   "metadata": {
    "collapsed": false
   },
   "source": [
    "### Spam Decision Tree\n",
    "\n",
    "Create and train a decision tree classifier using the spam data and labels."
   ]
  },
  {
   "cell_type": "code",
   "execution_count": 20,
   "metadata": {
    "collapsed": false
   },
   "outputs": [],
   "source": [
    "spam_DTclassifier = dt.DecisionTree(treedepth=20,verbose='path10')"
   ]
  },
  {
   "cell_type": "code",
   "execution_count": 21,
   "metadata": {
    "collapsed": false
   },
   "outputs": [],
   "source": [
    "spam_DTclassifier.train(spamtraindata,spamtrainlabels)"
   ]
  },
  {
   "cell_type": "code",
   "execution_count": 32,
   "metadata": {
    "collapsed": false
   },
   "outputs": [
    {
     "name": "stdout",
     "output_type": "stream",
     "text": [
      "Display of choices for point 0\n",
      "Feature #30:  0.0 <= 0.0\n",
      "Feature #29:  0.0 <= 0.0\n",
      "Feature #26:  0.0 <= 0.0\n",
      "Feature #25:  0.0 <= 0.0\n",
      "Feature #27:  0.0 <= 0.0\n",
      "Feature #16:  0.0 <= 0.0\n",
      "Feature #32:  0.0 <= 0.0\n",
      "Feature #15:  0.0 <= 0.0\n",
      "Feature #13:  0.0 <= 0.0\n",
      "Feature #28:  1.0 > 0.0\n",
      "Feature #28:  1.0 <= 1.0\n",
      "Feature #20:  2.0 > 0.0\n",
      "Point labeled as 0\n",
      "Display of choices for point 1\n",
      "Feature #30:  3.0 > 0.0\n",
      "Feature #29:  0.0 <= 0.0\n",
      "Feature #15:  2.0 > 0.0\n",
      "Feature #32:  0.0 <= 0.0\n",
      "Feature #27:  1.0 > 0.0\n",
      "Feature #30:  3.0 > 2.0\n",
      "Feature #30:  3.0 <= 3.0\n",
      "Feature #27:  1.0 <= 1.0\n",
      "Feature #4:  5.0 > 0.0\n",
      "Point labeled as 1\n",
      "Display of choices for point 2\n",
      "Feature #30:  0.0 <= 0.0\n",
      "Feature #29:  0.0 <= 0.0\n",
      "Feature #26:  0.0 <= 0.0\n",
      "Feature #25:  1.0 > 0.0\n",
      "Feature #15:  0.0 <= 0.0\n",
      "Feature #27:  0.0 <= 0.0\n",
      "Feature #25:  1.0 <= 1.0\n",
      "Feature #16:  0.0 <= 0.0\n",
      "Feature #13:  0.0 <= 0.0\n",
      "Feature #32:  1.0 > 0.0\n",
      "Feature #32:  1.0 <= 3.0\n",
      "Feature #32:  1.0 <= 1.0\n",
      "Feature #4:  0.0 <= 0.0\n",
      "Feature #14:  0.0 <= 0.0\n",
      "Feature #18:  0.0 <= 0.0\n",
      "Feature #19:  0.0 <= 0.0\n",
      "Point labeled as 0\n",
      "Display of choices for point 3\n",
      "Feature #30:  11.0 > 0.0\n",
      "Feature #29:  1.0 > 0.0\n",
      "Feature #30:  11.0 > 1.0\n",
      "Feature #29:  1.0 <= 1.0\n",
      "Feature #30:  11.0 > 4.0\n",
      "Feature #27:  0.0 <= 0.0\n",
      "Feature #30:  11.0 > 6.0\n",
      "Feature #30:  11.0 <= 11.0\n",
      "Feature #13:  0.0 <= 0.0\n",
      "Feature #26:  10.0 > 0.0\n",
      "Feature #3:  0.0 <= 0.0\n",
      "Feature #9:  0.0 <= 0.0\n",
      "Point labeled as 0\n",
      "Display of choices for point 4\n",
      "Feature #30:  1.0 > 0.0\n",
      "Feature #29:  0.0 <= 0.0\n",
      "Feature #15:  0.0 <= 0.0\n",
      "Feature #26:  0.0 <= 0.0\n",
      "Feature #30:  1.0 <= 3.0\n",
      "Feature #27:  0.0 <= 0.0\n",
      "Feature #16:  0.0 <= 0.0\n",
      "Feature #25:  2.0 > 0.0\n",
      "Feature #30:  1.0 <= 2.0\n",
      "Feature #32:  0.0 <= 0.0\n",
      "Feature #25:  2.0 > 1.0\n",
      "Feature #30:  1.0 <= 1.0\n",
      "Feature #13:  0.0 <= 0.0\n",
      "Feature #25:  2.0 <= 2.0\n",
      "Feature #3:  0.0 <= 0.0\n",
      "Feature #17:  0.0 <= 0.0\n",
      "Feature #22:  0.0 <= 0.0\n",
      "Feature #28:  0.0 <= 0.0\n",
      "Point labeled as 1\n",
      "Display of choices for point 5\n",
      "Feature #30:  0.0 <= 0.0\n",
      "Feature #29:  1.0 > 0.0\n",
      "Feature #29:  1.0 <= 1.0\n",
      "Feature #25:  0.0 <= 0.0\n",
      "Feature #4:  0.0 <= 0.0\n",
      "Feature #26:  4.0 > 0.0\n",
      "Feature #26:  4.0 > 1.0\n",
      "Feature #26:  4.0 > 2.0\n",
      "Feature #15:  0.0 <= 0.0\n",
      "Feature #26:  4.0 > 3.0\n",
      "Feature #26:  4.0 <= 4.0\n",
      "Feature #16:  0.0 <= 0.0\n",
      "Point labeled as 1\n",
      "Display of choices for point 6\n",
      "Feature #30:  3.0 > 0.0\n",
      "Feature #29:  0.0 <= 0.0\n",
      "Feature #15:  0.0 <= 0.0\n",
      "Feature #26:  0.0 <= 0.0\n",
      "Feature #30:  3.0 <= 3.0\n",
      "Feature #27:  0.0 <= 0.0\n",
      "Feature #16:  0.0 <= 0.0\n",
      "Feature #25:  0.0 <= 0.0\n",
      "Feature #32:  0.0 <= 0.0\n",
      "Feature #30:  3.0 > 2.0\n",
      "Feature #14:  0.0 <= 0.0\n",
      "Feature #28:  0.0 <= 0.0\n",
      "Feature #13:  0.0 <= 0.0\n",
      "Feature #3:  0.0 <= 0.0\n",
      "Feature #17:  0.0 <= 0.0\n",
      "Feature #22:  0.0 <= 0.0\n",
      "Feature #6:  0.0 <= 0.0\n",
      "Feature #18:  0.0 <= 0.0\n",
      "Feature #19:  0.0 <= 0.0\n",
      "Feature #20:  0.0 <= 0.0\n",
      "Point labeled as 0\n",
      "Display of choices for point 7\n",
      "Feature #30:  0.0 <= 0.0\n",
      "Feature #29:  0.0 <= 0.0\n",
      "Feature #26:  0.0 <= 0.0\n",
      "Feature #25:  0.0 <= 0.0\n",
      "Feature #27:  1.0 > 0.0\n",
      "Feature #27:  1.0 <= 1.0\n",
      "Feature #16:  0.0 <= 0.0\n",
      "Feature #28:  0.0 <= 0.0\n",
      "Feature #4:  0.0 <= 0.0\n",
      "Feature #13:  0.0 <= 0.0\n",
      "Feature #32:  0.0 <= 0.0\n",
      "Feature #31:  0.0 <= 0.0\n",
      "Feature #1:  0.0 <= 0.0\n",
      "Feature #14:  0.0 <= 0.0\n",
      "Feature #7:  0.0 <= 0.0\n",
      "Feature #15:  0.0 <= 0.0\n",
      "Feature #20:  0.0 <= 0.0\n",
      "Feature #11:  0.0 <= 0.0\n",
      "Feature #22:  0.0 <= 0.0\n",
      "Feature #24:  0.0 <= 0.0\n",
      "Point labeled as 1\n",
      "Display of choices for point 8\n",
      "Feature #30:  0.0 <= 0.0\n",
      "Feature #29:  0.0 <= 0.0\n",
      "Feature #26:  0.0 <= 0.0\n",
      "Feature #25:  2.0 > 0.0\n",
      "Feature #15:  0.0 <= 0.0\n",
      "Feature #27:  0.0 <= 0.0\n",
      "Feature #25:  2.0 > 1.0\n",
      "Feature #25:  2.0 <= 2.0\n",
      "Feature #16:  0.0 <= 0.0\n",
      "Feature #32:  0.0 <= 0.0\n",
      "Feature #7:  0.0 <= 0.0\n",
      "Feature #13:  0.0 <= 0.0\n",
      "Feature #3:  0.0 <= 0.0\n",
      "Feature #20:  0.0 <= 0.0\n",
      "Feature #24:  0.0 <= 0.0\n",
      "Feature #28:  0.0 <= 0.0\n",
      "Feature #31:  0.0 <= 0.0\n",
      "Point labeled as 0\n",
      "Display of choices for point 9\n",
      "Feature #30:  1.0 > 0.0\n",
      "Feature #29:  0.0 <= 0.0\n",
      "Feature #15:  0.0 <= 0.0\n",
      "Feature #26:  0.0 <= 0.0\n",
      "Feature #30:  1.0 <= 3.0\n",
      "Feature #27:  0.0 <= 0.0\n",
      "Feature #16:  0.0 <= 0.0\n",
      "Feature #25:  0.0 <= 0.0\n",
      "Feature #32:  0.0 <= 0.0\n",
      "Feature #30:  1.0 <= 2.0\n",
      "Feature #30:  1.0 <= 1.0\n",
      "Feature #13:  0.0 <= 0.0\n",
      "Feature #28:  0.0 <= 0.0\n",
      "Feature #14:  0.0 <= 0.0\n",
      "Feature #20:  0.0 <= 0.0\n",
      "Feature #22:  0.0 <= 0.0\n",
      "Feature #4:  0.0 <= 0.0\n",
      "Feature #3:  0.0 <= 0.0\n",
      "Feature #23:  0.0 <= 0.0\n",
      "Feature #19:  0.0 <= 0.0\n",
      "Point labeled as 0\n",
      "[ 0.  1.  0.  0.  1.  1.  0.  1.  1.  0.]\n"
     ]
    }
   ],
   "source": [
    "spamDTpredictions = spam_DTclassifier.predict(spamvaldata)\n",
    "print(spamvallabels[:10])"
   ]
  },
  {
   "cell_type": "code",
   "execution_count": 30,
   "metadata": {
    "collapsed": false
   },
   "outputs": [
    {
     "name": "stdout",
     "output_type": "stream",
     "text": [
      "0 Pain\n",
      "1 Private\n",
      "2 Bank\n",
      "3 Money\n",
      "4 Drug\n",
      "5 Spam\n",
      "6 Prescription\n",
      "7 Creative\n",
      "8 Height\n",
      "9 featured\n",
      "10 Differ\n",
      "11 Width\n",
      "12 Other\n",
      "13 Energy\n",
      "14 Business\n",
      "15 Message\n",
      "16 Volumes\n",
      "17 Revision\n",
      "18 Path\n",
      "19 Meter\n",
      "20 Memo\n",
      "21 Planning\n",
      "22 Pleased\n",
      "23 Record\n",
      "24 Out\n",
      "25 ;\n",
      "26 $\n",
      "27 #\n",
      "28 !\n",
      "29 (\n",
      "30 [\n",
      "31 &\n"
     ]
    }
   ],
   "source": [
    "features = [\"Pain\",\"Private\",\"Bank\",\"Money\",\"Drug\",\"Spam\",\"Prescription\",\n",
    "            \"Creative\",\"Height\",\"featured\",\"Differ\",\"Width\",\"Other\",\"Energy\",\n",
    "            \"Business\",\"Message\",\"Volumes\",\"Revision\",\"Path\",\"Meter\",\"Memo\",\n",
    "            \"Planning\",\"Pleased\",\"Record\",\"Out\",\";\",\"$\",\"#\",\"!\",\"(\",\"[\",\"&\"]\n",
    "\n",
    "for feature_i in range(len(features)):\n",
    "    print(feature_i,features[feature_i])"
   ]
  },
  {
   "cell_type": "code",
   "execution_count": null,
   "metadata": {
    "collapsed": true
   },
   "outputs": [],
   "source": []
  }
 ],
 "metadata": {
  "kernelspec": {
   "display_name": "Python 3",
   "language": "python",
   "name": "python3"
  },
  "language_info": {
   "codemirror_mode": {
    "name": "ipython",
    "version": 3
   },
   "file_extension": ".py",
   "mimetype": "text/x-python",
   "name": "python",
   "nbconvert_exporter": "python",
   "pygments_lexer": "ipython3",
   "version": "3.6.0"
  }
 },
 "nbformat": 4,
 "nbformat_minor": 2
}
