{
 "cells": [
  {
   "cell_type": "markdown",
   "metadata": {},
   "source": [
    "Decision Tree Constructor\n",
    "--------------------------\n",
    "This notebook works through the construction of the DecisionTree and node classes created to solve problem 1. (It will eventually be imported into its own python module)"
   ]
  },
  {
   "cell_type": "code",
   "execution_count": 2,
   "metadata": {
    "collapsed": true
   },
   "outputs": [],
   "source": [
    "import numpy as np"
   ]
  },
  {
   "cell_type": "code",
   "execution_count": 3,
   "metadata": {
    "collapsed": false
   },
   "outputs": [],
   "source": [
    "class DecisionTree:\n",
    "    \"\"\"Build and store a decision tree, based on supplied training data. \n",
    "       Use this tree to predict classifications.\"\"\"\n",
    "\n",
    "    def __init__(self,treedepth=10,verbose=False,params=None):\n",
    "        self.depth = treedepth\n",
    "        self.verbose = verbose\n",
    "        self.tree = self.Node()\n",
    "        \n",
    "        \n",
    "    def entropy(self,C,D,c,d):\n",
    "        \"\"\"Calculate entropy based on classifications above and below the splitrule\"\"\"\n",
    "        if C != 0:\n",
    "            Cfactor = -(C/(C+D))*np.log2(C/(C+D))\n",
    "        else:\n",
    "            Cfactor = 0\n",
    "        if D != 0:\n",
    "            Dfactor = -(D/(C+D))*np.log2(D/(C+D))\n",
    "        else:\n",
    "            Dfactor = 0\n",
    "        if c != 0:\n",
    "            cfactor = -(c/(c+d))*np.log2(c/(c+d))\n",
    "        else:\n",
    "            cfactor = 0\n",
    "        if d != 0:\n",
    "            dfactor = -(d/(c+d))*np.log2(d/(c+d))\n",
    "        else:\n",
    "            dfactor = 0\n",
    "        H_left = Cfactor + Dfactor\n",
    "        H_right = cfactor + dfactor\n",
    "        H = ((C+D)*H_left + (c+d)*H_right)/(C+D+c+d)\n",
    "        \n",
    "        return H\n",
    "    \n",
    "    \n",
    "    def segment(self,data,labels):\n",
    "        totals = np.bincount(labels)\n",
    "        if len(totals)==1:\n",
    "            totals = np.append(totals,[0])\n",
    "        # Quick safety check\n",
    "        if len(labels) != len(data):\n",
    "            print('ERROR (DecisionTree.segment): There must be the same number of labels as datapoints.')\n",
    "        \n",
    "        # Calculate the initial entropy, used to find info gain\n",
    "        C,D = 0,0                      # C = in class left of split; D = not in class left of split\n",
    "        c,d = totals[1],totals[0]      # c = in class right of split; d = not in class right of split\n",
    "        H_i = self.entropy(C,D,c,d) # the initial entropy, before any splitting\n",
    "        \n",
    "        # Initialize objects to store optimal split rules for iterative comparison\n",
    "        maxinfogain = 0\n",
    "        splitrule = []   \n",
    "        \n",
    "        for feature_i in range(len(data[0])):\n",
    "            # Order the data for determining ideal splits\n",
    "            lbldat = np.concatenate(([data[:,feature_i]],[labels]),axis=0)\n",
    "            fv = np.sort(lbldat.T,axis=0)\n",
    "            lastfeature = np.array(['',''])\n",
    "            \n",
    "            C,D = 0,0                      # Reset the counters\n",
    "            c,d = totals[1],totals[0]\n",
    "            \n",
    "            for point_i in range(len(fv)-1):\n",
    "                \n",
    "                # Update C,D,c,d to minmize runtime of entrop calc (keep at O(1) time)\n",
    "                if fv[point_i,1] == 1:\n",
    "                    C += 1\n",
    "                    c -= 1\n",
    "                elif fv[point_i,1] == 0:\n",
    "                    D += 1\n",
    "                    d -= 1\n",
    "                else:\n",
    "                    print(\"ERROR (DecisionTree.segment): Classifications can only be 0 or 1.\")\n",
    "                \n",
    "                # Skip splitting values that are not separable\n",
    "                if fv[point_i,0] == fv[point_i+1,0]:\n",
    "                    continue\n",
    "                else:\n",
    "                    H_f = self.entropy(C,D,c,d)\n",
    "                    infogain = H_i-H_f\n",
    "                    if infogain > maxinfogain:\n",
    "                        maxinfogain = infogain\n",
    "                        splitrule = [feature_i,fv[point_i,0]]\n",
    "        return splitrule\n",
    "            \n",
    "        \n",
    "    def train(self,data,labels,node=-1,deep=0):\n",
    "        labels = labels.astype(int)\n",
    "        if node==-1:\n",
    "            node=self.tree\n",
    "            \n",
    "        # Grow decision tree\n",
    "        depthlim = self.depth\n",
    "        if deep < depthlim:\n",
    "            splitrule = self.segment(data,labels)\n",
    "        else:\n",
    "            splitrule = []\n",
    "        if self.verbose is True:\n",
    "            print(data,labels)\n",
    "        node.isleaf(data,labels,splitrule)\n",
    "        \n",
    "        # Train deeper if the node splits\n",
    "        if node.nodetype == 'SplitNode':\n",
    "            if self.verbose is True:\n",
    "                print('rule:',node.rule)\n",
    "                print('Splitting node left and right')\n",
    "            deep += 1\n",
    "            node.left=self.Node()\n",
    "            node.right=self.Node()\n",
    "            self.train(node.leftdata,node.leftlabels,node.left,deep)\n",
    "            self.train(node.rightdata,node.rightlabels,node.right,deep)\n",
    "        elif node.nodetype == 'LeafNode':\n",
    "            if self.verbose is True:\n",
    "                print('You made a leaf node! It has value',node.leaflabel,'and',node.leafcount,'items.')            \n",
    "        else:\n",
    "            print('ERROR (DecisionTree.train): The node type could not be identified!')\n",
    "\n",
    "            \n",
    "    def predict(self,testdata):\n",
    "        npoints = len(testdata)\n",
    "        predictions = np.empty(npoints)\n",
    "        for point_i in range(npoints):\n",
    "            ParentNode = self.tree\n",
    "            Rule = ParentNode.rule\n",
    "            while Rule is not None:\n",
    "                splitfeat_i = Rule[0]\n",
    "                splitval = Rule[1]\n",
    "                if testdata[point_i,splitfeat_i] <= splitval:\n",
    "                    ChildNode = ParentNode.left\n",
    "                else:\n",
    "                    ChildNode = ParentNode.right\n",
    "                ParentNode = ChildNode\n",
    "                Rule = ParentNode.rule\n",
    "            predictions[point_i]=ParentNode.leaflabel\n",
    "        return predictions.astype(int)\n",
    "    \n",
    "    \n",
    "    class Node:\n",
    "        \"\"\"Store a decision tree node, coupled in series to construct tree;\n",
    "        includes a left branch, right branch, and splitrule\"\"\"\n",
    "    \n",
    "        def __init__(self):\n",
    "            self.rule = None\n",
    "            self.left = None\n",
    "            self.leftdata = None\n",
    "            self.leftlabels = None\n",
    "            self.right = None\n",
    "            self.rightdata = None\n",
    "            self.rightlabels = None\n",
    "            self.leaflabel = None\n",
    "            self.leafcount = None\n",
    "            self.nodetype = None\n",
    "            \n",
    "            \n",
    "        def isleaf(self,data,labels,splitrule):\n",
    "            \"\"\"Determine if this is a leaf node\"\"\"\n",
    "            if splitrule:\n",
    "                indsabove = self.datainds_above_split(data,splitrule)\n",
    "                self.rule = splitrule\n",
    "                self.leftdata,self.leftlabels = self.leftDL(data,labels,indsabove)\n",
    "                self.rightdata,self.rightlabels = self.rightDL(data,labels,indsabove)\n",
    "                self.nodetype = 'SplitNode'\n",
    "            \n",
    "            elif not splitrule:\n",
    "                self.leaflabel = np.bincount(labels).argmax()\n",
    "                self.leafcount = len(labels)\n",
    "                self.nodetype = 'LeafNode'\n",
    "\n",
    "        \n",
    "        def datainds_above_split(self,data,splitrule):\n",
    "            # Collect indices of points with values of the splitting feature greater than the split rule\n",
    "            indsabove = []\n",
    "            fv = data[:,splitrule[0]]\n",
    "            for point_i in range(len(fv)):\n",
    "                if fv[point_i] > splitrule[1]:\n",
    "                    indsabove.append(point_i)\n",
    "            return indsabove\n",
    "        \n",
    "        \n",
    "        def leftDL(self,data,labels,indsabove):\n",
    "            # Return arrays of only left data and labels\n",
    "            leftdata = np.delete(data,indsabove,axis=0)\n",
    "            leftlabels = np.delete(labels,indsabove,axis=0)\n",
    "            return leftdata,leftlabels\n",
    "        \n",
    "        \n",
    "        def rightDL(self,data,labels,indsabove):\n",
    "            # Return arrays of only right data and labels\n",
    "            rightdata = data[indsabove]\n",
    "            rightlabels = labels[indsabove]\n",
    "            return rightdata,rightlabels\n",
    "        "
   ]
  },
  {
   "cell_type": "markdown",
   "metadata": {},
   "source": [
    "### Tests"
   ]
  },
  {
   "cell_type": "code",
   "execution_count": 4,
   "metadata": {
    "collapsed": false
   },
   "outputs": [],
   "source": [
    "classifier = DecisionTree(verbose=True)"
   ]
  },
  {
   "cell_type": "code",
   "execution_count": 5,
   "metadata": {
    "collapsed": false
   },
   "outputs": [],
   "source": [
    "data = np.array([[2,2,2,5],[1,1,1,2],[10,3,1,6],[2,2,2,5],[2,1,5,3],[2,2,2,6],[8,1,2,1]])\n",
    "labels = np.array([1,1,0,1,0,1,1],)"
   ]
  },
  {
   "cell_type": "code",
   "execution_count": 6,
   "metadata": {
    "collapsed": false
   },
   "outputs": [
    {
     "name": "stdout",
     "output_type": "stream",
     "text": [
      "[[ 2  2  2  5]\n",
      " [ 1  1  1  2]\n",
      " [10  3  1  6]\n",
      " [ 2  2  2  5]\n",
      " [ 2  1  5  3]\n",
      " [ 2  2  2  6]\n",
      " [ 8  1  2  1]] [1 1 0 1 0 1 1]\n",
      "rule: [2, 1]\n",
      "Splitting node left and right\n",
      "[[ 1  1  1  2]\n",
      " [10  3  1  6]] [1 0]\n",
      "rule: [0, 1]\n",
      "Splitting node left and right\n",
      "[[1 1 1 2]] [1]\n",
      "You made a leaf node! It has value 1 and 1 items.\n",
      "[[10  3  1  6]] [0]\n",
      "You made a leaf node! It has value 0 and 1 items.\n",
      "[[2 2 2 5]\n",
      " [2 2 2 5]\n",
      " [2 1 5 3]\n",
      " [2 2 2 6]\n",
      " [8 1 2 1]] [1 1 0 1 1]\n",
      "rule: [3, 1]\n",
      "Splitting node left and right\n",
      "[[8 1 2 1]] [1]\n",
      "You made a leaf node! It has value 1 and 1 items.\n",
      "[[2 2 2 5]\n",
      " [2 2 2 5]\n",
      " [2 1 5 3]\n",
      " [2 2 2 6]] [1 1 0 1]\n",
      "rule: [1, 1]\n",
      "Splitting node left and right\n",
      "[[2 1 5 3]] [0]\n",
      "You made a leaf node! It has value 0 and 1 items.\n",
      "[[2 2 2 5]\n",
      " [2 2 2 5]\n",
      " [2 2 2 6]] [1 1 1]\n",
      "You made a leaf node! It has value 1 and 3 items.\n"
     ]
    }
   ],
   "source": [
    "classifier.train(data,labels)"
   ]
  },
  {
   "cell_type": "code",
   "execution_count": 7,
   "metadata": {
    "collapsed": false
   },
   "outputs": [
    {
     "name": "stdout",
     "output_type": "stream",
     "text": [
      "[0 0 1]\n"
     ]
    }
   ],
   "source": [
    "print(classifier.predict(np.array([[10,3,1,5],[2,1,2,4],[2,2,2,4]])).astype(int))"
   ]
  },
  {
   "cell_type": "code",
   "execution_count": null,
   "metadata": {
    "collapsed": true
   },
   "outputs": [],
   "source": []
  }
 ],
 "metadata": {
  "kernelspec": {
   "display_name": "Python 3",
   "language": "python",
   "name": "python3"
  },
  "language_info": {
   "codemirror_mode": {
    "name": "ipython",
    "version": 3
   },
   "file_extension": ".py",
   "mimetype": "text/x-python",
   "name": "python",
   "nbconvert_exporter": "python",
   "pygments_lexer": "ipython3",
   "version": "3.6.0"
  }
 },
 "nbformat": 4,
 "nbformat_minor": 2
}
