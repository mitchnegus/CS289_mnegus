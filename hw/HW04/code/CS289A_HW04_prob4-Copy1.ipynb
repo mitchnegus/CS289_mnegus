{
 "cells": [
  {
   "cell_type": "markdown",
   "metadata": {},
   "source": [
    "Program overhead: load modules (and reload them as they are modified)"
   ]
  },
  {
   "cell_type": "code",
   "execution_count": 1,
   "metadata": {
    "collapsed": false
   },
   "outputs": [],
   "source": [
    "%load_ext autoreload"
   ]
  },
  {
   "cell_type": "code",
   "execution_count": 2,
   "metadata": {
    "collapsed": true
   },
   "outputs": [],
   "source": [
    "%autoreload 2"
   ]
  },
  {
   "cell_type": "code",
   "execution_count": 3,
   "metadata": {
    "collapsed": false
   },
   "outputs": [],
   "source": [
    "import HW04_utils as ut\n",
    "import numpy as np\n",
    "from scipy import special as spsp\n",
    "from matplotlib import pyplot as plt"
   ]
  },
  {
   "cell_type": "markdown",
   "metadata": {},
   "source": [
    "Next, we give a couple paths specifying where to find the data set on the local machine. **A user must change this to reflect the path to their data.**"
   ]
  },
  {
   "cell_type": "code",
   "execution_count": 4,
   "metadata": {
    "collapsed": true
   },
   "outputs": [],
   "source": [
    "DATA_DIR = \"/Users/mitch/Documents/Cal/2_2017_Spring/COMPSCI 289A - Intro to Machine Learning/HW04/Data/\"\n",
    "DATA_NAME = \"data.mat\""
   ]
  },
  {
   "cell_type": "markdown",
   "metadata": {},
   "source": [
    "Then, load the data using the custom utilities module:"
   ]
  },
  {
   "cell_type": "code",
   "execution_count": 5,
   "metadata": {
    "collapsed": false
   },
   "outputs": [],
   "source": [
    "descriptions = ut.loaddata(DATA_NAME,DATA_DIR,'description')\n",
    "X = ut.loaddata(DATA_NAME,DATA_DIR,'X')\n",
    "y = ut.loaddata(DATA_NAME,DATA_DIR,'y').flatten()\n",
    "\n",
    "meanX = np.tile(np.mean(X,axis=0),(len(X),1))\n",
    "minX = np.tile(np.amin(X,axis=0),(len(X),1))\n",
    "maxX = np.tile(np.amax(X,axis=0),(len(X),1))\n",
    "X = (X-meanX)/(maxX-minX)\n",
    "\n",
    "X_train = X[:5000]\n",
    "X_val = X[5000:]\n",
    "y_train = y[:5000]\n",
    "y_val = y[5000:]\n",
    "\n",
    "X = X_train\n",
    "y = y_train\n",
    "\n",
    "X_test = ut.loaddata(DATA_NAME,DATA_DIR,'X_test')"
   ]
  },
  {
   "cell_type": "markdown",
   "metadata": {},
   "source": [
    "We then use the following procedure to find the optimal $w$ using batch gradient descent:\n",
    "\n",
    "(1)&nbsp;&nbsp;&nbsp;&nbsp;&nbsp; $w \\leftarrow$ arbitrary starting point  \n",
    "(2)&nbsp;&nbsp;&nbsp;&nbsp;&nbsp; while $J(w) > 0 $  \n",
    "&nbsp;&nbsp;&nbsp;&nbsp;&nbsp;&nbsp;&nbsp;&nbsp; &nbsp;&nbsp;&nbsp;&nbsp;&nbsp;$w \\leftarrow w - \\epsilon(2 \\lambda w - X^T(y-s)) $  \n",
    "(3)&nbsp;&nbsp;&nbsp;&nbsp;&nbsp; return $w$"
   ]
  },
  {
   "cell_type": "markdown",
   "metadata": {},
   "source": [
    "Step (1)"
   ]
  },
  {
   "cell_type": "code",
   "execution_count": 6,
   "metadata": {
    "collapsed": false
   },
   "outputs": [],
   "source": [
    "w = np.zeros(len(descriptions))"
   ]
  },
  {
   "cell_type": "markdown",
   "metadata": {},
   "source": [
    "Step (2)"
   ]
  },
  {
   "cell_type": "code",
   "execution_count": 7,
   "metadata": {
    "collapsed": false
   },
   "outputs": [],
   "source": [
    "def costfnJ(w,X,y,lam):\n",
    "    s = spsp.expit(np.dot(X,w))\n",
    "    J = lam*np.linalg.norm(w)**2 - np.sum(y*np.log(s) + (np.ones_like(y)-y)*np.log(np.ones_like(s)-s))\n",
    "\n",
    "    return J\n",
    "\n",
    "\n",
    "def update_w(w,X,y,lam,eps):\n",
    "    s = spsp.expit(np.dot(X,w))\n",
    "    w_prime = w - eps*(2*lam*w-np.dot(X.T,(y-s)))\n",
    "    \n",
    "    return w_prime\n",
    "\n",
    "\n",
    "def whileloop(w,X,y,lam,eps,tol):\n",
    "    i=0\n",
    "    iters,Js = [],[]\n",
    "    J = costfnJ(w,X,y,lam)\n",
    "    lastJ = J+1  #dummy condition to pass while condition on first run\n",
    "    while J>0 and i<=1e7 and lastJ-J>tol:\n",
    "        w_prime = update_w(w,X,y,lam,eps)\n",
    "        w = w_prime\n",
    "        if i%10==0:\n",
    "            if i%500000==0:\n",
    "                print(str(i)+\":\\tJ =\",str(J))\n",
    "            iters.append(i)\n",
    "            Js.append(J)\n",
    "        lastJ = J\n",
    "        J = costfnJ(w,X,y,lam)\n",
    "        i+=1\n",
    "        \n",
    "    return w,iters,Js"
   ]
  },
  {
   "cell_type": "markdown",
   "metadata": {},
   "source": [
    "Step (3)\n",
    "\n",
    "Here we try several values of hyperparameters $\\lambda$ and $\\epsilon$ to find the optimal values. We also introduce a convergence tolerance that is used in the case that data is not linearly separable."
   ]
  },
  {
   "cell_type": "code",
   "execution_count": 8,
   "metadata": {
    "collapsed": false
   },
   "outputs": [],
   "source": [
    "lambdas = np.logspace(-3,1,5)\n",
    "epsilons = np.logspace(-5,-3,3)\n",
    "tol = 1e-6"
   ]
  },
  {
   "cell_type": "code",
   "execution_count": 9,
   "metadata": {
    "collapsed": false
   },
   "outputs": [
    {
     "name": "stdout",
     "output_type": "stream",
     "text": [
      "Lambda: 0.001 \tEpsilon: 1e-05\n",
      "0:\tJ = 3465.7359028\n",
      "500000:\tJ = 808.126427291\n",
      "1000000:\tJ = 751.586424639\n",
      "Lambda: 0.001 \tEpsilon: 0.0001\n",
      "0:\tJ = 3465.7359028\n",
      "Lambda: 0.001 \tEpsilon: 0.001\n",
      "0:\tJ = 3465.7359028\n",
      "Lambda: 0.01 \tEpsilon: 1e-05\n",
      "0:\tJ = 3465.7359028\n",
      "500000:\tJ = 831.78690699\n",
      "1000000:\tJ = 789.020958875\n",
      "Lambda: 0.01 \tEpsilon: 0.0001\n",
      "0:\tJ = 3465.7359028\n",
      "Lambda: 0.01 \tEpsilon: 0.001\n",
      "0:\tJ = 3465.7359028\n",
      "Lambda: 0.1 \tEpsilon: 1e-05\n",
      "0:\tJ = 3465.7359028\n",
      "500000:\tJ = 997.753969729\n",
      "1000000:\tJ = 994.503147677\n",
      "Lambda: 0.1 \tEpsilon: 0.0001\n",
      "0:\tJ = 3465.7359028\n",
      "Lambda: 0.1 \tEpsilon: 0.001\n",
      "0:\tJ = 3465.7359028\n",
      "Lambda: 1.0 \tEpsilon: 1e-05\n",
      "0:\tJ = 3465.7359028\n",
      "Lambda: 1.0 \tEpsilon: 0.0001\n",
      "0:\tJ = 3465.7359028\n",
      "Lambda: 1.0 \tEpsilon: 0.001\n",
      "0:\tJ = 3465.7359028\n",
      "Lambda: 10.0 \tEpsilon: 1e-05\n",
      "0:\tJ = 3465.7359028\n",
      "Lambda: 10.0 \tEpsilon: 0.0001\n",
      "0:\tJ = 3465.7359028\n",
      "Lambda: 10.0 \tEpsilon: 0.001\n",
      "0:\tJ = 3465.7359028\n"
     ]
    }
   ],
   "source": [
    "optima = {}\n",
    "# Collect loss function as f'n of iteration number for each combo\n",
    "LvIs = {}\n",
    "for lam in lambdas:\n",
    "    optima[lam]={}\n",
    "    LvIs[lam]={}\n",
    "    for eps in epsilons:\n",
    "        print(\"Lambda:\",lam,\"\\tEpsilon:\",eps)\n",
    "        w_prime,iters,Js = whileloop(w,X,y,lam,eps,tol)\n",
    "        optima[lam][eps]= w_prime\n",
    "        LvIs[lam][eps] = [iters,Js]"
   ]
  },
  {
   "cell_type": "markdown",
   "metadata": {},
   "source": [
    "Print out a list of the optimum w\\* for each combination of $\\lambda$ and $\\epsilon$. Save the accuracies in a list.\n",
    "\n",
    "\\* Note that it appears that some data above did not converge, so our tuned hyperparameters may not be ideal"
   ]
  },
  {
   "cell_type": "code",
   "execution_count": 10,
   "metadata": {
    "collapsed": false
   },
   "outputs": [
    {
     "name": "stdout",
     "output_type": "stream",
     "text": [
      "lam = 0.001\teps = 1e-05 \t\tAccuracy:  0.951\n",
      "lam = 0.001\teps = 0.0001 \t\tAccuracy:  0.955\n",
      "lam = 0.001\teps = 0.001 \t\tAccuracy:  0.957\n",
      "lam = 0.01\teps = 1e-05 \t\tAccuracy:  0.951\n",
      "lam = 0.01\teps = 0.0001 \t\tAccuracy:  0.954\n",
      "lam = 0.01\teps = 0.001 \t\tAccuracy:  0.955\n",
      "lam = 0.1\teps = 1e-05 \t\tAccuracy:  0.944\n",
      "lam = 0.1\teps = 0.0001 \t\tAccuracy:  0.944\n",
      "lam = 0.1\teps = 0.001 \t\tAccuracy:  0.944\n",
      "lam = 1.0\teps = 1e-05 \t\tAccuracy:  0.934\n",
      "lam = 1.0\teps = 0.0001 \t\tAccuracy:  0.934\n",
      "lam = 1.0\teps = 0.001 \t\tAccuracy:  0.934\n",
      "lam = 10.0\teps = 1e-05 \t\tAccuracy:  0.926\n",
      "lam = 10.0\teps = 0.0001 \t\tAccuracy:  0.926\n",
      "lam = 10.0\teps = 0.001 \t\tAccuracy:  0.926\n"
     ]
    }
   ],
   "source": [
    "Accs = np.zeros((len(lambdas)*len(epsilons),3))\n",
    "i=0\n",
    "for lam in optima:\n",
    "    for eps in optima[lam]:\n",
    "        w_star = optima[lam][eps]\n",
    "        probs = spsp.expit(np.dot(X_val,w_star))\n",
    "        tally = 0\n",
    "        total = 0\n",
    "        for j in range(len(probs)):\n",
    "            if probs[j] >= 0.5:\n",
    "                prob = 1\n",
    "            if probs[j] < 0.5:\n",
    "                prob = 0\n",
    "            if prob == y_val[j]:\n",
    "                tally += 1\n",
    "            total += 1\n",
    "        acc = tally/total\n",
    "        Accs[i] = [acc,lam,eps]\n",
    "        i+=1\n",
    "        print('lam = '+str(lam)+'\\teps =',eps,'\\t\\tAccuracy: ',acc)"
   ]
  },
  {
   "cell_type": "markdown",
   "metadata": {},
   "source": [
    "Plot the loss function vs. iteration number for the best combination of $\\lambda, \\epsilon$."
   ]
  },
  {
   "cell_type": "code",
   "execution_count": 11,
   "metadata": {
    "collapsed": false
   },
   "outputs": [
    {
     "data": {
      "image/png": "[encoded data removed]",
      "text/plain": [
       "<matplotlib.figure.Figure at 0x116d99eb8>"
      ]
     },
     "metadata": {},
     "output_type": "display_data"
    }
   ],
   "source": [
    "fig = plt.figure(figsize=(12,10))\n",
    "plt.clf()\n",
    "\n",
    "# Find the most accurate lam,eps combo\n",
    "imax = np.argmax(Accs[:,0])\n",
    "lam = Accs[imax,1]\n",
    "eps = Accs[imax,2]\n",
    "\n",
    "Iters = LvIs[lam][eps][0]\n",
    "LossFn = LvIs[lam][eps][1]\n",
    "plt.plot(Iters,LossFn)\n",
    "plt.xlabel('Iterations')\n",
    "plt.ylabel('Loss Function')\n",
    "plt.text(0.75*np.amax(Iters),0.95*np.amax(LossFn),'$\\lambda = $'+str(lam)+', $\\epsilon = $'+str(eps))\n",
    "plt.show()\n"
   ]
  },
  {
   "cell_type": "code",
   "execution_count": null,
   "metadata": {
    "collapsed": true
   },
   "outputs": [],
   "source": []
  }
 ],
 "metadata": {
  "kernelspec": {
   "display_name": "Python 3",
   "language": "python",
   "name": "python3"
  },
  "language_info": {
   "codemirror_mode": {
    "name": "ipython",
    "version": 3
   },
   "file_extension": ".py",
   "mimetype": "text/x-python",
   "name": "python",
   "nbconvert_exporter": "python",
   "pygments_lexer": "ipython3",
   "version": "3.6.0"
  }
 },
 "nbformat": 4,
 "nbformat_minor": 2
}
