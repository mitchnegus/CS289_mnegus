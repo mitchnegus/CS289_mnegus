{
 "cells": [
  {
   "cell_type": "code",
   "execution_count": 29,
   "metadata": {
    "collapsed": true
   },
   "outputs": [],
   "source": [
    "import numpy as np\n",
    "import scipy.special as spsp\n",
    "import math"
   ]
  },
  {
   "cell_type": "code",
   "execution_count": 23,
   "metadata": {
    "collapsed": true
   },
   "outputs": [],
   "source": [
    "lam = 0.07"
   ]
  },
  {
   "cell_type": "code",
   "execution_count": 24,
   "metadata": {
    "collapsed": true
   },
   "outputs": [],
   "source": [
    "X = np.array([[0,3,1],[1,3,1],[0,1,1],[1,1,1]])\n",
    "y = np.array([1,1,0,0])"
   ]
  },
  {
   "cell_type": "code",
   "execution_count": 25,
   "metadata": {
    "collapsed": true
   },
   "outputs": [],
   "source": [
    "w0 = np.array([-2,1,0])"
   ]
  },
  {
   "cell_type": "code",
   "execution_count": 26,
   "metadata": {
    "collapsed": false
   },
   "outputs": [],
   "source": [
    "def Omega(X,w):\n",
    "    Om = np.identity(len(X))\n",
    "    for i in range(len(Om)):\n",
    "        s_i = 1/(1+math.exp(-np.dot(X[i],w)))\n",
    "        Om[i,i] = s_i*(1-s_i)\n",
    "    \n",
    "    return Om\n"
   ]
  },
  {
   "cell_type": "markdown",
   "metadata": {},
   "source": [
    "For the first iteration, we can define our variables $\\Omega^{(0)}$ and $s^{(0)}$ as"
   ]
  },
  {
   "cell_type": "code",
   "execution_count": 31,
   "metadata": {
    "collapsed": false
   },
   "outputs": [],
   "source": [
    "Omega0 = Omega(X,w0)\n",
    "s0 = spsp.expit(np.dot(X,w0))"
   ]
  },
  {
   "cell_type": "markdown",
   "metadata": {},
   "source": [
    "Then, we can solve for $e^{(0)}$ in $(X^T \\Omega^{(0)} X + 2\\lambda\\mathbb{1} ) e^{(0)} = X^T(y-s^{(0)}) - 2 \\lambda w^{(0)}$"
   ]
  },
  {
   "cell_type": "code",
   "execution_count": 43,
   "metadata": {
    "collapsed": true
   },
   "outputs": [],
   "source": [
    "def solve_e(lam,X,y,OmegaN,sN,wN):\n",
    "    d = len(X[0])\n",
    "    HessianJ = np.dot(np.dot(X.T,OmegaN),X) + 2*lam*np.identity(d)\n",
    "    negGradJ = np.dot(X.T,(y-sN)) - 2*lam*wN\n",
    "    e = np.linalg.solve(HessianJ,negGradJ)\n",
    "    \n",
    "    return e\n"
   ]
  },
  {
   "cell_type": "code",
   "execution_count": 39,
   "metadata": {
    "collapsed": false
   },
   "outputs": [
    {
     "name": "stdout",
     "output_type": "stream",
     "text": [
      "[ 1.61323601  0.40431761 -2.28417115]\n"
     ]
    }
   ],
   "source": [
    "e0 = solve_e(lam,X,y,Omega0,s0,w0)\n",
    "print(e)"
   ]
  },
  {
   "cell_type": "code",
   "execution_count": 44,
   "metadata": {
    "collapsed": false
   },
   "outputs": [
    {
     "name": "stdout",
     "output_type": "stream",
     "text": [
      "[-0.38676399  1.40431761 -2.28417115]\n"
     ]
    }
   ],
   "source": [
    "w1 = w0 + e0\n",
    "print(w1)"
   ]
  },
  {
   "cell_type": "markdown",
   "metadata": {},
   "source": [
    "We can then calculate $\\Omega^{(1)}$ and $s^{(1)}$ similarly,"
   ]
  },
  {
   "cell_type": "code",
   "execution_count": 45,
   "metadata": {
    "collapsed": false
   },
   "outputs": [
    {
     "name": "stdout",
     "output_type": "stream",
     "text": [
      "[ 0.87311451  0.82375785  0.29320813  0.21983683]\n"
     ]
    }
   ],
   "source": [
    "Omega1 = Omega(X,w1)\n",
    "s1 = spsp.expit(np.dot(X,w1))\n",
    "print(s1)"
   ]
  },
  {
   "cell_type": "markdown",
   "metadata": {},
   "source": [
    "And repeat the iterative process to find $w^{(2)}$"
   ]
  },
  {
   "cell_type": "code",
   "execution_count": 46,
   "metadata": {
    "collapsed": false
   },
   "outputs": [
    {
     "name": "stdout",
     "output_type": "stream",
     "text": [
      "[-0.51222668  1.45272677 -2.16271799]\n"
     ]
    }
   ],
   "source": [
    "e1 = solve_e(lam,X,y,Omega1,s1,w1)\n",
    "w2 = w1 + e1\n",
    "print(w2)\n"
   ]
  }
 ],
 "metadata": {
  "kernelspec": {
   "display_name": "Python 3",
   "language": "python",
   "name": "python3"
  },
  "language_info": {
   "codemirror_mode": {
    "name": "ipython",
    "version": 3
   },
   "file_extension": ".py",
   "mimetype": "text/x-python",
   "name": "python",
   "nbconvert_exporter": "python",
   "pygments_lexer": "ipython3",
   "version": "3.6.0"
  }
 },
 "nbformat": 4,
 "nbformat_minor": 2
}
