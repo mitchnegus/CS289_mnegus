{
 "cells": [
  {
   "cell_type": "code",
   "execution_count": 1,
   "metadata": {
    "collapsed": true
   },
   "outputs": [],
   "source": [
    "%load_ext autoreload"
   ]
  },
  {
   "cell_type": "code",
   "execution_count": 2,
   "metadata": {
    "collapsed": true
   },
   "outputs": [],
   "source": [
    "%autoreload 2"
   ]
  },
  {
   "cell_type": "code",
   "execution_count": 12,
   "metadata": {
    "collapsed": true
   },
   "outputs": [],
   "source": [
    "from sklearn import svm\n",
    "from scipy import io as spio\n",
    "import numpy as np\n",
    "import HW01_utils as utils\n",
    "import trainfunctions as tf"
   ]
  },
  {
   "cell_type": "code",
   "execution_count": 26,
   "metadata": {
    "collapsed": false
   },
   "outputs": [],
   "source": [
    "_LOCAL_PATH = r\"C:\\Users\\Mitch\\Documents\\Cal\\2 - 2017 Spring\\COMPSCI 289A - Intro to Machine Learning\\HW01\"\n",
    "_DATA_PATH = \"Data\\hw01_data\"\n",
    "\n",
    "_DATA_DIR = _LOCAL_PATH + \"\\\\\" + _DATA_PATH\n",
    "trainpath = r\"cifar\\train.mat\""
   ]
  },
  {
   "cell_type": "code",
   "execution_count": 8,
   "metadata": {
    "collapsed": false
   },
   "outputs": [],
   "source": [
    "valsetsize = 5000\n",
    "samples = np.array([100, 200, 500, 1000, 2000, 5000])\n",
    "hyperparams = np.logspace(-8,4,num=20)"
   ]
  },
  {
   "cell_type": "code",
   "execution_count": 9,
   "metadata": {
    "collapsed": false
   },
   "outputs": [],
   "source": [
    "# Load CIFAR-10 training data\n",
    "cifardata = spio.loadmat(_DATA_DIR+'\\\\'+trainpath)\n",
    "cifar = cifardata['trainX']"
   ]
  },
  {
   "cell_type": "code",
   "execution_count": 10,
   "metadata": {
    "collapsed": false
   },
   "outputs": [],
   "source": [
    "# Shuffle data before splitting\n",
    "np.random.shuffle(cifar)"
   ]
  },
  {
   "cell_type": "code",
   "execution_count": 13,
   "metadata": {
    "collapsed": false
   },
   "outputs": [],
   "source": [
    "trainset,valset = utils.partition(valsetsize,cifar)\n",
    "trainsetarrays,trainsetlabels = utils.separatelabels(trainset)\n",
    "valsetarrays,valsetlabels = utils.separatelabels(valset)"
   ]
  },
  {
   "cell_type": "code",
   "execution_count": 14,
   "metadata": {
    "collapsed": false,
    "scrolled": true
   },
   "outputs": [
    {
     "name": "stdout",
     "output_type": "stream",
     "text": [
      "100 samples\n",
      "\tC = 1e-08 \tAccuracy: 0.111\n",
      "\tC = 4.28133239872e-08 \tAccuracy: 0.1658\n",
      "\tC = 1.83298071083e-07 \tAccuracy: 0.1834\n",
      "\tC = 7.84759970351e-07 \tAccuracy: 0.1838\n",
      "\tC = 3.35981828628e-06 \tAccuracy: 0.1826\n",
      "\tC = 1.43844988829e-05 \tAccuracy: 0.1826\n",
      "\tC = 6.15848211066e-05 \tAccuracy: 0.1826\n",
      "\tC = 0.000263665089873 \tAccuracy: 0.1826\n",
      "\tC = 0.00112883789168 \tAccuracy: 0.1826\n",
      "\tC = 0.00483293023857 \tAccuracy: 0.1826\n",
      "\tC = 0.0206913808111 \tAccuracy: 0.1826\n",
      "\tC = 0.088586679041 \tAccuracy: 0.1826\n",
      "\tC = 0.379269019073 \tAccuracy: 0.1826\n",
      "\tC = 1.62377673919 \tAccuracy: 0.1826\n",
      "\tC = 6.95192796178 \tAccuracy: 0.1826\n",
      "\tC = 29.7635144163 \tAccuracy: 0.1826\n",
      "\tC = 127.42749857 \tAccuracy: 0.1826\n",
      "\tC = 545.559478117 \tAccuracy: 0.1826\n",
      "\tC = 2335.72146909 \tAccuracy: 0.1826\n",
      "\tC = 10000.0 \tAccuracy: 0.1826\n",
      "200 samples\n",
      "\tC = 1e-08 \tAccuracy: 0.1026\n",
      "\tC = 4.28133239872e-08 \tAccuracy: 0.2272\n",
      "\tC = 1.83298071083e-07 \tAccuracy: 0.2622\n",
      "\tC = 7.84759970351e-07 \tAccuracy: 0.2466\n",
      "\tC = 3.35981828628e-06 \tAccuracy: 0.2466\n",
      "\tC = 1.43844988829e-05 \tAccuracy: 0.2466\n",
      "\tC = 6.15848211066e-05 \tAccuracy: 0.2466\n",
      "\tC = 0.000263665089873 \tAccuracy: 0.2466\n",
      "\tC = 0.00112883789168 \tAccuracy: 0.2466\n",
      "\tC = 0.00483293023857 \tAccuracy: 0.2466\n",
      "\tC = 0.0206913808111 \tAccuracy: 0.2466\n",
      "\tC = 0.088586679041 \tAccuracy: 0.2466\n",
      "\tC = 0.379269019073 \tAccuracy: 0.2466\n",
      "\tC = 1.62377673919 \tAccuracy: 0.2466\n",
      "\tC = 6.95192796178 \tAccuracy: 0.2466\n",
      "\tC = 29.7635144163 \tAccuracy: 0.2466\n",
      "\tC = 127.42749857 \tAccuracy: 0.2466\n",
      "\tC = 545.559478117 \tAccuracy: 0.2466\n",
      "\tC = 2335.72146909 \tAccuracy: 0.2466\n",
      "\tC = 10000.0 \tAccuracy: 0.2466\n",
      "500 samples\n",
      "\tC = 1e-08 \tAccuracy: 0.2202\n",
      "\tC = 4.28133239872e-08 \tAccuracy: 0.295\n",
      "\tC = 1.83298071083e-07 \tAccuracy: 0.3008\n",
      "\tC = 7.84759970351e-07 \tAccuracy: 0.2842\n",
      "\tC = 3.35981828628e-06 \tAccuracy: 0.2708\n",
      "\tC = 1.43844988829e-05 \tAccuracy: 0.2714\n",
      "\tC = 6.15848211066e-05 \tAccuracy: 0.2714\n",
      "\tC = 0.000263665089873 \tAccuracy: 0.2714\n",
      "\tC = 0.00112883789168 \tAccuracy: 0.2714\n",
      "\tC = 0.00483293023857 \tAccuracy: 0.2714\n",
      "\tC = 0.0206913808111 \tAccuracy: 0.2714\n",
      "\tC = 0.088586679041 \tAccuracy: 0.2714\n",
      "\tC = 0.379269019073 \tAccuracy: 0.2714\n",
      "\tC = 1.62377673919 \tAccuracy: 0.2714\n",
      "\tC = 6.95192796178 \tAccuracy: 0.2714\n",
      "\tC = 29.7635144163 \tAccuracy: 0.2714\n",
      "\tC = 127.42749857 \tAccuracy: 0.2714\n",
      "\tC = 545.559478117 \tAccuracy: 0.2714\n",
      "\tC = 2335.72146909 \tAccuracy: 0.2714\n",
      "\tC = 10000.0 \tAccuracy: 0.2714\n",
      "1000 samples\n",
      "\tC = 1e-08 \tAccuracy: 0.2632\n",
      "\tC = 4.28133239872e-08 \tAccuracy: 0.3164\n",
      "\tC = 1.83298071083e-07 \tAccuracy: 0.3306\n",
      "\tC = 7.84759970351e-07 \tAccuracy: 0.3148\n",
      "\tC = 3.35981828628e-06 \tAccuracy: 0.2934\n",
      "\tC = 1.43844988829e-05 \tAccuracy: 0.2934\n",
      "\tC = 6.15848211066e-05 \tAccuracy: 0.2934\n",
      "\tC = 0.000263665089873 \tAccuracy: 0.2934\n",
      "\tC = 0.00112883789168 \tAccuracy: 0.2934\n",
      "\tC = 0.00483293023857 \tAccuracy: 0.2934\n",
      "\tC = 0.0206913808111 \tAccuracy: 0.2934\n",
      "\tC = 0.088586679041 \tAccuracy: 0.2934\n",
      "\tC = 0.379269019073 \tAccuracy: 0.2934\n",
      "\tC = 1.62377673919 \tAccuracy: 0.2934\n",
      "\tC = 6.95192796178 \tAccuracy: 0.2934\n",
      "\tC = 29.7635144163 \tAccuracy: 0.2934\n",
      "\tC = 127.42749857 \tAccuracy: 0.2934\n",
      "\tC = 545.559478117 \tAccuracy: 0.2934\n",
      "\tC = 2335.72146909 \tAccuracy: 0.2934\n",
      "\tC = 10000.0 \tAccuracy: 0.2934\n",
      "2000 samples\n",
      "\tC = 1e-08 \tAccuracy: 0.3\n",
      "\tC = 4.28133239872e-08 \tAccuracy: 0.3476\n",
      "\tC = 1.83298071083e-07 \tAccuracy: 0.345\n",
      "\tC = 7.84759970351e-07 \tAccuracy: 0.321\n",
      "\tC = 3.35981828628e-06 \tAccuracy: 0.3016\n",
      "\tC = 1.43844988829e-05 \tAccuracy: 0.291\n",
      "\tC = 6.15848211066e-05 \tAccuracy: 0.2906\n",
      "\tC = 0.000263665089873 \tAccuracy: 0.2906\n",
      "\tC = 0.00112883789168 \tAccuracy: 0.2906\n",
      "\tC = 0.00483293023857 \tAccuracy: 0.2906\n",
      "\tC = 0.0206913808111 \tAccuracy: 0.2906\n",
      "\tC = 0.088586679041 \tAccuracy: 0.2906\n",
      "\tC = 0.379269019073 \tAccuracy: 0.2906\n",
      "\tC = 1.62377673919 \tAccuracy: 0.2906\n",
      "\tC = 6.95192796178 \tAccuracy: 0.2906\n",
      "\tC = 29.7635144163 \tAccuracy: 0.2906\n",
      "\tC = 127.42749857 \tAccuracy: 0.2906\n",
      "\tC = 545.559478117 \tAccuracy: 0.2906\n",
      "\tC = 2335.72146909 \tAccuracy: 0.2906\n",
      "\tC = 10000.0 \tAccuracy: 0.2906\n",
      "5000 samples\n",
      "\tC = 1e-08 \tAccuracy: 0.353\n",
      "\tC = 4.28133239872e-08 \tAccuracy: 0.3736\n",
      "\tC = 1.83298071083e-07 \tAccuracy: 0.3752\n",
      "\tC = 7.84759970351e-07 \tAccuracy: 0.3518\n",
      "\tC = 3.35981828628e-06 \tAccuracy: 0.3216\n",
      "\tC = 1.43844988829e-05 \tAccuracy: 0.3066\n",
      "\tC = 6.15848211066e-05 \tAccuracy: 0.2992\n",
      "\tC = 0.000263665089873 \tAccuracy: 0.2998\n",
      "\tC = 0.00112883789168 \tAccuracy: 0.2998\n",
      "\tC = 0.00483293023857 \tAccuracy: 0.2998\n",
      "\tC = 0.0206913808111 \tAccuracy: 0.2998\n",
      "\tC = 0.088586679041 \tAccuracy: 0.2998\n",
      "\tC = 0.379269019073 \tAccuracy: 0.2998\n",
      "\tC = 1.62377673919 \tAccuracy: 0.2998\n",
      "\tC = 6.95192796178 \tAccuracy: 0.2998\n",
      "\tC = 29.7635144163 \tAccuracy: 0.2998\n",
      "\tC = 127.42749857 \tAccuracy: 0.2998\n",
      "\tC = 545.559478117 \tAccuracy: 0.2998\n",
      "\tC = 2335.72146909 \tAccuracy: 0.2998\n",
      "\tC = 10000.0 \tAccuracy: 0.2998\n",
      "[[ 0.111   0.1658  0.1834  0.1838  0.1826  0.1826  0.1826  0.1826  0.1826\n",
      "   0.1826  0.1826  0.1826  0.1826  0.1826  0.1826  0.1826  0.1826  0.1826\n",
      "   0.1826  0.1826]\n",
      " [ 0.1026  0.2272  0.2622  0.2466  0.2466  0.2466  0.2466  0.2466  0.2466\n",
      "   0.2466  0.2466  0.2466  0.2466  0.2466  0.2466  0.2466  0.2466  0.2466\n",
      "   0.2466  0.2466]\n",
      " [ 0.2202  0.295   0.3008  0.2842  0.2708  0.2714  0.2714  0.2714  0.2714\n",
      "   0.2714  0.2714  0.2714  0.2714  0.2714  0.2714  0.2714  0.2714  0.2714\n",
      "   0.2714  0.2714]\n",
      " [ 0.2632  0.3164  0.3306  0.3148  0.2934  0.2934  0.2934  0.2934  0.2934\n",
      "   0.2934  0.2934  0.2934  0.2934  0.2934  0.2934  0.2934  0.2934  0.2934\n",
      "   0.2934  0.2934]\n",
      " [ 0.3     0.3476  0.345   0.321   0.3016  0.291   0.2906  0.2906  0.2906\n",
      "   0.2906  0.2906  0.2906  0.2906  0.2906  0.2906  0.2906  0.2906  0.2906\n",
      "   0.2906  0.2906]\n",
      " [ 0.353   0.3736  0.3752  0.3518  0.3216  0.3066  0.2992  0.2998  0.2998\n",
      "   0.2998  0.2998  0.2998  0.2998  0.2998  0.2998  0.2998  0.2998  0.2998\n",
      "   0.2998  0.2998]]\n"
     ]
    }
   ],
   "source": [
    "Accs = np.empty((len(samples),len(hyperparams)))\n",
    "i = 0 # sample index counter\n",
    "for nsamples in samples:\n",
    "    print(nsamples,'samples')\n",
    "    j = 0 # hyperparameter index counter\n",
    "    for hp in hyperparams:\n",
    "        acc = tf.TrainAndScoreNsamples(trainsetarrays[:nsamples],trainsetlabels[:nsamples],valsetarrays,valsetlabels,hp)\n",
    "        print('\\tC =',hp,'\\tAccuracy:',acc)\n",
    "        Accs[i,j] = acc\n",
    "        j+=1\n",
    "    i+=1\n",
    "print(Accs)"
   ]
  },
  {
   "cell_type": "code",
   "execution_count": 15,
   "metadata": {
    "collapsed": false
   },
   "outputs": [
    {
     "name": "stdout",
     "output_type": "stream",
     "text": [
      "The index of the maximum accuracy (0.3752) is: [5 2]\n",
      "This corresponds to a hyperparameter of C = 1.83298071083e-07 when training on 5000 samples.\n"
     ]
    }
   ],
   "source": [
    "# Find the index of the maximum value in the accuracies table\n",
    "maxindex = np.array([int(len(Accs)*np.argmax(Accs)/(len(Accs.flatten()))),np.argmax(Accs)%len(Accs[0])])\n",
    "print('The index of the maximum accuracy ('+str(Accs[maxindex[0],maxindex[1]])+') is:',maxindex)\n",
    "\n",
    "besthp = hyperparams[maxindex[1]]\n",
    "bestns = samples[maxindex[0]]\n",
    "# Determine which sample count-hyperparameter combination this corresponds to\n",
    "print('This corresponds to a hyperparameter of C = '+ str(besthp) + ' when training on ' + str(bestns) + ' samples.')\n"
   ]
  },
  {
   "cell_type": "code",
   "execution_count": 16,
   "metadata": {
    "collapsed": false
   },
   "outputs": [],
   "source": [
    "from matplotlib import pyplot as plt"
   ]
  },
  {
   "cell_type": "code",
   "execution_count": 17,
   "metadata": {
    "collapsed": true
   },
   "outputs": [],
   "source": [
    "hpC1 = 13"
   ]
  },
  {
   "cell_type": "code",
   "execution_count": 18,
   "metadata": {
    "collapsed": true
   },
   "outputs": [],
   "source": [
    "errors = np.ones_like(Accs[:,hpC1])-Accs[:,hpC1]"
   ]
  },
  {
   "cell_type": "code",
   "execution_count": 39,
   "metadata": {
    "collapsed": false
   },
   "outputs": [
    {
     "data": {
      "text/plain": [
       "<matplotlib.text.Text at 0x170daddb2e8>"
      ]
     },
     "execution_count": 39,
     "metadata": {},
     "output_type": "execute_result"
    }
   ],
   "source": [
    "fig = plt.figure()\n",
    "plt.plot(samples,errors)\n",
    "plt.title('Error on Datasets of Varying Size')\n",
    "plt.xlabel('# Training Samples')\n",
    "plt.ylabel('Error')\n",
    "plt.text(4000,0.80,'C = '+str(round(hyperparams[hpC1],4)))"
   ]
  },
  {
   "cell_type": "code",
   "execution_count": 41,
   "metadata": {
    "collapsed": false
   },
   "outputs": [
    {
     "data": {
      "text/plain": [
       "<matplotlib.figure.Figure at 0x170dac40630>"
      ]
     },
     "metadata": {},
     "output_type": "display_data"
    },
    {
     "data": {
      "image/png": "[encoded data removed]",
      "text/plain": [
       "<matplotlib.figure.Figure at 0x170da526320>"
      ]
     },
     "metadata": {},
     "output_type": "display_data"
    }
   ],
   "source": [
    "plt.show()"
   ]
  },
  {
   "cell_type": "code",
   "execution_count": 40,
   "metadata": {
    "collapsed": false
   },
   "outputs": [
    {
     "name": "stdout",
     "output_type": "stream",
     "text": [
      "C:\\Users\\Mitch\\Documents\\Cal\\2 - 2017 Spring\\COMPSCI 289A - Intro to Machine Learning\\HW01\n"
     ]
    }
   ],
   "source": [
    "plt.savefig(_LOCAL_PATH+r'\\Figures\\CIFAR10_SampleAcc.jpg')"
   ]
  },
  {
   "cell_type": "code",
   "execution_count": 43,
   "metadata": {
    "collapsed": true
   },
   "outputs": [],
   "source": [
    "# Export data to csv files for report\n",
    "np.savetxt(_LOCAL_PATH+r'\\CIFAR_Accuracies.csv',Accs,fmt='%f',delimiter=',',comments='')\n",
    "np.savetxt(_LOCAL_PATH+r'\\CIFAR_hyperparams.csv',hyperparams,fmt='%.8f',delimiter=',',comments='')"
   ]
  }
 ],
 "metadata": {
  "anaconda-cloud": {},
  "kernelspec": {
   "display_name": "Python [conda root]",
   "language": "python",
   "name": "conda-root-py"
  },
  "language_info": {
   "codemirror_mode": {
    "name": "ipython",
    "version": 3
   },
   "file_extension": ".py",
   "mimetype": "text/x-python",
   "name": "python",
   "nbconvert_exporter": "python",
   "pygments_lexer": "ipython3",
   "version": "3.5.2"
  }
 },
 "nbformat": 4,
 "nbformat_minor": 1
}
