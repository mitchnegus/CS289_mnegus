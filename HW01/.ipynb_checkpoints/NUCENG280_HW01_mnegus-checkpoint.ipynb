{
 "cells": [
  {
   "cell_type": "code",
   "execution_count": 7,
   "metadata": {
    "collapsed": true
   },
   "outputs": [],
   "source": [
    "import math"
   ]
  },
  {
   "cell_type": "code",
   "execution_count": 10,
   "metadata": {
    "collapsed": true
   },
   "outputs": [],
   "source": [
    "BG = 34.3827\n",
    "mrc2 = 1124656\n",
    "C1 = 1.17302e-9\n",
    "C2 = 1.51361e-2\n",
    "C3 = 7.51886e-2\n",
    "C4 = 4.60643e-3\n",
    "C5 = 1.35e-2\n",
    "C6 = -1.06750e-4\n",
    "C7 = 1.366e-5"
   ]
  },
  {
   "cell_type": "code",
   "execution_count": 11,
   "metadata": {
    "collapsed": true
   },
   "outputs": [],
   "source": [
    "def theta(T):\n",
    "    th = T/(1 - T*(C2 + T*(C4 + T*C6))/(1 + T*(C3 + T*(C5 + T*C7))))\n",
    "    return th"
   ]
  },
  {
   "cell_type": "code",
   "execution_count": 12,
   "metadata": {
    "collapsed": true
   },
   "outputs": [],
   "source": [
    "def ksi(T):\n",
    "    ks = (BG**2/(4*theta(T)))**(1/3)\n",
    "    return ks"
   ]
  },
  {
   "cell_type": "code",
   "execution_count": 19,
   "metadata": {
    "collapsed": false
   },
   "outputs": [],
   "source": [
    "def sigmav(T):\n",
    "    sv = C1*theta(T)*math.sqrt(ksi(T)/(mrc2*T**3))*math.exp(-3*(ksi(T)))\n",
    "    return sv"
   ]
  },
  {
   "cell_type": "code",
   "execution_count": 20,
   "metadata": {
    "collapsed": false
   },
   "outputs": [
    {
     "name": "stdout",
     "output_type": "stream",
     "text": [
      "2.7399296107880727e-16\n"
     ]
    }
   ],
   "source": [
    "print(sigmav(15))"
   ]
  },
  {
   "cell_type": "code",
   "execution_count": null,
   "metadata": {
    "collapsed": true
   },
   "outputs": [],
   "source": []
  }
 ],
 "metadata": {
  "anaconda-cloud": {},
  "kernelspec": {
   "display_name": "Python [conda root]",
   "language": "python",
   "name": "conda-root-py"
  },
  "language_info": {
   "codemirror_mode": {
    "name": "ipython",
    "version": 3
   },
   "file_extension": ".py",
   "mimetype": "text/x-python",
   "name": "python",
   "nbconvert_exporter": "python",
   "pygments_lexer": "ipython3",
   "version": "3.5.2"
  }
 },
 "nbformat": 4,
 "nbformat_minor": 1
}
