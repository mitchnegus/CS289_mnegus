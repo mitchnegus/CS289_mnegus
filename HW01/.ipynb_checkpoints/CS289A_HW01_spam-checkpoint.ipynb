{
 "cells": [
  {
   "cell_type": "code",
   "execution_count": 1,
   "metadata": {
    "collapsed": true
   },
   "outputs": [],
   "source": [
    "from sklearn import svm\n",
    "import numpy as np\n",
    "from scipy import io as spio"
   ]
  },
  {
   "cell_type": "code",
   "execution_count": 79,
   "metadata": {
    "collapsed": true
   },
   "outputs": [],
   "source": [
    "def TrainAndScoreNsamples(nsamples,trainsetarrays,trainsetlabels,valsetarrays,valsetlabels,hyperparam):\n",
    "# Train the classifier\n",
    "    trainsetlen = nsamples\n",
    "    tsa = trainsetarrays[:trainsetlen]\n",
    "    tsl = trainsetlabels[:trainsetlen]\n",
    "\n",
    "    clf = svm.SVC(C=hyperparam,kernel='linear')\n",
    "    clf.fit(tsa,tsl)\n",
    "    return clf.score(valsetarrays,valsetlabels)"
   ]
  },
  {
   "cell_type": "code",
   "execution_count": 80,
   "metadata": {
    "collapsed": false
   },
   "outputs": [],
   "source": [
    "def TrainAndPredictNsamples(trainsetarrays,trainsetlabels,testarrays,hyperparam):\n",
    "# Train the classifier\n",
    "    clf = svm.SVC(C=hyperparam,kernel='linear')\n",
    "    clf.fit(trainsetarrays,trainsetlabels)\n",
    "    return clf.predict(testarrays)"
   ]
  },
  {
   "cell_type": "code",
   "execution_count": 63,
   "metadata": {
    "collapsed": true
   },
   "outputs": [],
   "source": [
    "def loaddata_spam(shortpath,_DATA_DIR):\n",
    "# Load data\n",
    "    data_dict = spio.loadmat(_DATA_DIR+\"\\\\\"+shortpath)\n",
    "    data = np.array(data_dict['training_data'])\n",
    "    labels = np.array(data_dict['training_labels'])\n",
    "    return data,labels"
   ]
  },
  {
   "cell_type": "code",
   "execution_count": 64,
   "metadata": {
    "collapsed": true
   },
   "outputs": [],
   "source": [
    "def partition(percentage,data):\n",
    "# Separate <valsetsize> items for validation\n",
    "    trainset = data[valsetsize:]\n",
    "    valset = data[:valsetsize]\n",
    "    return trainset,valset"
   ]
  },
  {
   "cell_type": "code",
   "execution_count": 65,
   "metadata": {
    "collapsed": true
   },
   "outputs": [],
   "source": [
    "def kfoldPartition(k,data):\n",
    "    # Partition the shuffled data into k sets\n",
    "    subsetlen = int(len(data)/k)     #NOTE: This will neglect a few data points if the original data set is not divisible by k (this should be insignificant for large data samples)\n",
    "    subsets = np.empty((k,subsetlen,len(data[0])))\n",
    "    for i in range(k):\n",
    "        subsets[i] = data[i*subsetlen:(i+1)*subsetlen]\n",
    "    return subsets"
   ]
  },
  {
   "cell_type": "code",
   "execution_count": 66,
   "metadata": {
    "collapsed": true
   },
   "outputs": [],
   "source": [
    "def separatelabels(inset):\n",
    "# Separate labels from sets\n",
    "    setarrays = inset[:,:-1]\n",
    "    setlabels = inset[:,-1]\n",
    "\n",
    "    return setarrays,setlabels"
   ]
  },
  {
   "cell_type": "code",
   "execution_count": 67,
   "metadata": {
    "collapsed": true
   },
   "outputs": [],
   "source": [
    "_DATA_DIR = r\"C:\\Users\\Mitch\\Documents\\Cal\\2 - 2017 Spring\\COMPSCI 289A - Intro to Machine Learning\\HW01_Data\\hw01_data\"\n",
    "shortpath = r\"\\spam\\spam_data.mat\""
   ]
  },
  {
   "cell_type": "code",
   "execution_count": 68,
   "metadata": {
    "collapsed": false
   },
   "outputs": [],
   "source": [
    "# Load spam training data (w/ features extracted)\n",
    "spamdata,labels = loaddata_spam(shortpath,_DATA_DIR)\n",
    "\n",
    "# Append labels to the corresponding data (to prevent loss of association when shuffling)\n",
    "spam = np.c_[spamdata,labels[0]]\n",
    "\n",
    "#spam_testdata = np.array(spam_dict['test_data'])\n",
    "\n",
    "# Shuffle data before splitting\n",
    "np.random.shuffle(spam)"
   ]
  },
  {
   "cell_type": "code",
   "execution_count": 69,
   "metadata": {
    "collapsed": true
   },
   "outputs": [],
   "source": [
    "valsetpercent = 20\n",
    "valsetsize = int(len(spam)*valsetpercent/100)"
   ]
  },
  {
   "cell_type": "code",
   "execution_count": 70,
   "metadata": {
    "collapsed": false
   },
   "outputs": [],
   "source": [
    "trainset,valset = partition(valsetsize,spam)\n",
    "trainsetarrays,trainsetlabels = separatelabels(trainset)\n",
    "valsetarrays,valsetlabels = separatelabels(valset)"
   ]
  },
  {
   "cell_type": "code",
   "execution_count": 71,
   "metadata": {
    "collapsed": false
   },
   "outputs": [],
   "source": [
    "samples = [100, 200, 500, 1000, 2000, len(trainset)]\n",
    "hyperparams = np.logspace(-8,2,num=20)   #100 was chosen as highest C value here due to time constraints (only marginal improvement in accuracy was seen for C>100)"
   ]
  },
  {
   "cell_type": "code",
   "execution_count": 72,
   "metadata": {
    "collapsed": false
   },
   "outputs": [],
   "source": [
    "def kfoldCrossVal(k,data,nsamples,hyperparam):\n",
    "# Implementation of k-fold Cross-Validation\n",
    "    spamsets = kfoldPartition(k,data)\n",
    "    scores = np.zeros(k)\n",
    "    for i in range(k):\n",
    "        trainset = spamsets[np.arange(len(spamsets))!=i]\n",
    "        trainset = np.concatenate(trainset[:])\n",
    "        valset = spamsets[i]\n",
    "        scores[i] = TrainAndScoreNsamples(nsamples,trainset[:,:-1],trainset[:,-1],valset[:,:-1],valset[:,-1],hyperparam)\n",
    "    average = np.sum(scores)/len(scores)\n",
    "    return average\n"
   ]
  },
  {
   "cell_type": "code",
   "execution_count": 73,
   "metadata": {
    "collapsed": false
   },
   "outputs": [
    {
     "name": "stdout",
     "output_type": "stream",
     "text": [
      "100 samples\n",
      "\tC = 1e-08 \tAccuracy: 0.710058027079\n",
      "\tC = 3.35981828628e-08 \tAccuracy: 0.710058027079\n",
      "\tC = 1.12883789168e-07 \tAccuracy: 0.710058027079\n",
      "\tC = 3.79269019073e-07 \tAccuracy: 0.710058027079\n",
      "\tC = 1.2742749857e-06 \tAccuracy: 0.710058027079\n",
      "\tC = 4.28133239872e-06 \tAccuracy: 0.710058027079\n",
      "\tC = 1.43844988829e-05 \tAccuracy: 0.710058027079\n",
      "\tC = 4.83293023857e-05 \tAccuracy: 0.710058027079\n",
      "\tC = 0.000162377673919 \tAccuracy: 0.710058027079\n",
      "\tC = 0.000545559478117 \tAccuracy: 0.709864603482\n",
      "\tC = 0.00183298071083 \tAccuracy: 0.714700193424\n",
      "\tC = 0.00615848211066 \tAccuracy: 0.729013539652\n",
      "\tC = 0.0206913808111 \tAccuracy: 0.738104448743\n",
      "\tC = 0.0695192796178 \tAccuracy: 0.74835589942\n",
      "\tC = 0.233572146909 \tAccuracy: 0.761508704062\n",
      "\tC = 0.784759970351 \tAccuracy: 0.760348162476\n",
      "\tC = 2.63665089873 \tAccuracy: 0.74912959381\n",
      "\tC = 8.8586679041 \tAccuracy: 0.753578336557\n",
      "\tC = 29.7635144163 \tAccuracy: 0.753384912959\n",
      "\tC = 100.0 \tAccuracy: 0.751257253385\n",
      "200 samples\n",
      "\tC = 1e-08 \tAccuracy: 0.710058027079\n",
      "\tC = 3.35981828628e-08 \tAccuracy: 0.710058027079\n",
      "\tC = 1.12883789168e-07 \tAccuracy: 0.710058027079\n",
      "\tC = 3.79269019073e-07 \tAccuracy: 0.710058027079\n",
      "\tC = 1.2742749857e-06 \tAccuracy: 0.710058027079\n",
      "\tC = 4.28133239872e-06 \tAccuracy: 0.710058027079\n",
      "\tC = 1.43844988829e-05 \tAccuracy: 0.710058027079\n",
      "\tC = 4.83293023857e-05 \tAccuracy: 0.710058027079\n",
      "\tC = 0.000162377673919 \tAccuracy: 0.710058027079\n",
      "\tC = 0.000545559478117 \tAccuracy: 0.712185686654\n",
      "\tC = 0.00183298071083 \tAccuracy: 0.718762088975\n",
      "\tC = 0.00615848211066 \tAccuracy: 0.734235976789\n",
      "\tC = 0.0206913808111 \tAccuracy: 0.745454545455\n",
      "\tC = 0.0695192796178 \tAccuracy: 0.760154738878\n",
      "\tC = 0.233572146909 \tAccuracy: 0.767117988395\n",
      "\tC = 0.784759970351 \tAccuracy: 0.779690522244\n",
      "\tC = 2.63665089873 \tAccuracy: 0.783752417795\n",
      "\tC = 8.8586679041 \tAccuracy: 0.787040618956\n",
      "\tC = 29.7635144163 \tAccuracy: 0.784526112186\n",
      "\tC = 100.0 \tAccuracy: 0.787040618956\n",
      "500 samples\n",
      "\tC = 1e-08 \tAccuracy: 0.710058027079\n",
      "\tC = 3.35981828628e-08 \tAccuracy: 0.710058027079\n",
      "\tC = 1.12883789168e-07 \tAccuracy: 0.710058027079\n",
      "\tC = 3.79269019073e-07 \tAccuracy: 0.710058027079\n",
      "\tC = 1.2742749857e-06 \tAccuracy: 0.710058027079\n",
      "\tC = 4.28133239872e-06 \tAccuracy: 0.710058027079\n",
      "\tC = 1.43844988829e-05 \tAccuracy: 0.710058027079\n",
      "\tC = 4.83293023857e-05 \tAccuracy: 0.710058027079\n",
      "\tC = 0.000162377673919 \tAccuracy: 0.71083172147\n",
      "\tC = 0.000545559478117 \tAccuracy: 0.716827852998\n",
      "\tC = 0.00183298071083 \tAccuracy: 0.734042553191\n",
      "\tC = 0.00615848211066 \tAccuracy: 0.745454545455\n",
      "\tC = 0.0206913808111 \tAccuracy: 0.764023210832\n",
      "\tC = 0.0695192796178 \tAccuracy: 0.77253384913\n",
      "\tC = 0.233572146909 \tAccuracy: 0.78413926499\n",
      "\tC = 0.784759970351 \tAccuracy: 0.789555125725\n",
      "\tC = 2.63665089873 \tAccuracy: 0.796518375242\n",
      "\tC = 8.8586679041 \tAccuracy: 0.793810444874\n",
      "\tC = 29.7635144163 \tAccuracy: 0.795938104449\n",
      "\tC = 100.0 \tAccuracy: 0.797292069632\n",
      "1000 samples\n",
      "\tC = 1e-08 \tAccuracy: 0.710058027079\n",
      "\tC = 3.35981828628e-08 \tAccuracy: 0.710058027079\n",
      "\tC = 1.12883789168e-07 \tAccuracy: 0.710058027079\n",
      "\tC = 3.79269019073e-07 \tAccuracy: 0.710058027079\n",
      "\tC = 1.2742749857e-06 \tAccuracy: 0.710058027079\n",
      "\tC = 4.28133239872e-06 \tAccuracy: 0.710058027079\n",
      "\tC = 1.43844988829e-05 \tAccuracy: 0.710058027079\n",
      "\tC = 4.83293023857e-05 \tAccuracy: 0.710058027079\n",
      "\tC = 0.000162377673919 \tAccuracy: 0.712765957447\n",
      "\tC = 0.000545559478117 \tAccuracy: 0.723791102515\n",
      "\tC = 0.00183298071083 \tAccuracy: 0.739845261122\n",
      "\tC = 0.00615848211066 \tAccuracy: 0.76247582205\n",
      "\tC = 0.0206913808111 \tAccuracy: 0.772727272727\n",
      "\tC = 0.0695192796178 \tAccuracy: 0.785106382979\n",
      "\tC = 0.233572146909 \tAccuracy: 0.798646034816\n",
      "\tC = 0.784759970351 \tAccuracy: 0.803481624758\n",
      "\tC = 2.63665089873 \tAccuracy: 0.802127659574\n",
      "\tC = 8.8586679041 \tAccuracy: 0.804448742747\n",
      "\tC = 29.7635144163 \tAccuracy: 0.804255319149\n",
      "\tC = 100.0 \tAccuracy: 0.803675048356\n",
      "2000 samples\n",
      "\tC = 1e-08 \tAccuracy: 0.710058027079\n",
      "\tC = 3.35981828628e-08 \tAccuracy: 0.710058027079\n",
      "\tC = 1.12883789168e-07 \tAccuracy: 0.710058027079\n",
      "\tC = 3.79269019073e-07 \tAccuracy: 0.710058027079\n",
      "\tC = 1.2742749857e-06 \tAccuracy: 0.710058027079\n",
      "\tC = 4.28133239872e-06 \tAccuracy: 0.710058027079\n",
      "\tC = 1.43844988829e-05 \tAccuracy: 0.710058027079\n",
      "\tC = 4.83293023857e-05 \tAccuracy: 0.710444874275\n",
      "\tC = 0.000162377673919 \tAccuracy: 0.717988394584\n",
      "\tC = 0.000545559478117 \tAccuracy: 0.734235976789\n",
      "\tC = 0.00183298071083 \tAccuracy: 0.752611218569\n",
      "\tC = 0.00615848211066 \tAccuracy: 0.769245647969\n",
      "\tC = 0.0206913808111 \tAccuracy: 0.780464216634\n",
      "\tC = 0.0695192796178 \tAccuracy: 0.797098646035\n",
      "\tC = 0.233572146909 \tAccuracy: 0.800193423598\n",
      "\tC = 0.784759970351 \tAccuracy: 0.804255319149\n",
      "\tC = 2.63665089873 \tAccuracy: 0.80580270793\n",
      "\tC = 8.8586679041 \tAccuracy: 0.804448742747\n",
      "\tC = 29.7635144163 \tAccuracy: 0.80502901354\n",
      "\tC = 100.0 \tAccuracy: 0.804255319149\n",
      "4138 samples\n",
      "\tC = 1e-08 \tAccuracy: 0.710058027079\n",
      "\tC = 3.35981828628e-08 \tAccuracy: 0.710058027079\n",
      "\tC = 1.12883789168e-07 \tAccuracy: 0.710058027079\n",
      "\tC = 3.79269019073e-07 \tAccuracy: 0.710058027079\n",
      "\tC = 1.2742749857e-06 \tAccuracy: 0.710058027079\n",
      "\tC = 4.28133239872e-06 \tAccuracy: 0.710058027079\n",
      "\tC = 1.43844988829e-05 \tAccuracy: 0.710058027079\n",
      "\tC = 4.83293023857e-05 \tAccuracy: 0.711992263056\n",
      "\tC = 0.000162377673919 \tAccuracy: 0.724951644101\n",
      "\tC = 0.000545559478117 \tAccuracy: 0.742166344294\n",
      "\tC = 0.00183298071083 \tAccuracy: 0.76247582205\n",
      "\tC = 0.00615848211066 \tAccuracy: 0.774854932302\n",
      "\tC = 0.0206913808111 \tAccuracy: 0.789555125725\n",
      "\tC = 0.0695192796178 \tAccuracy: 0.79497098646\n",
      "\tC = 0.233572146909 \tAccuracy: 0.799613152805\n",
      "\tC = 0.784759970351 \tAccuracy: 0.802127659574\n",
      "\tC = 2.63665089873 \tAccuracy: 0.803094777563\n",
      "\tC = 8.8586679041 \tAccuracy: 0.803675048356\n",
      "\tC = 29.7635144163 \tAccuracy: 0.802901353965\n",
      "\tC = 100.0 \tAccuracy: 0.803094777563\n",
      "[[ 0.71005803  0.71005803  0.71005803  0.71005803  0.71005803  0.71005803\n",
      "   0.71005803  0.71005803  0.71005803  0.7098646   0.71470019  0.72901354\n",
      "   0.73810445  0.7483559   0.7615087   0.76034816  0.74912959  0.75357834\n",
      "   0.75338491  0.75125725]\n",
      " [ 0.71005803  0.71005803  0.71005803  0.71005803  0.71005803  0.71005803\n",
      "   0.71005803  0.71005803  0.71005803  0.71218569  0.71876209  0.73423598\n",
      "   0.74545455  0.76015474  0.76711799  0.77969052  0.78375242  0.78704062\n",
      "   0.78452611  0.78704062]\n",
      " [ 0.71005803  0.71005803  0.71005803  0.71005803  0.71005803  0.71005803\n",
      "   0.71005803  0.71005803  0.71083172  0.71682785  0.73404255  0.74545455\n",
      "   0.76402321  0.77253385  0.78413926  0.78955513  0.79651838  0.79381044\n",
      "   0.7959381   0.79729207]\n",
      " [ 0.71005803  0.71005803  0.71005803  0.71005803  0.71005803  0.71005803\n",
      "   0.71005803  0.71005803  0.71276596  0.7237911   0.73984526  0.76247582\n",
      "   0.77272727  0.78510638  0.79864603  0.80348162  0.80212766  0.80444874\n",
      "   0.80425532  0.80367505]\n",
      " [ 0.71005803  0.71005803  0.71005803  0.71005803  0.71005803  0.71005803\n",
      "   0.71005803  0.71044487  0.71798839  0.73423598  0.75261122  0.76924565\n",
      "   0.78046422  0.79709865  0.80019342  0.80425532  0.80580271  0.80444874\n",
      "   0.80502901  0.80425532]\n",
      " [ 0.71005803  0.71005803  0.71005803  0.71005803  0.71005803  0.71005803\n",
      "   0.71005803  0.71199226  0.72495164  0.74216634  0.76247582  0.77485493\n",
      "   0.78955513  0.79497099  0.79961315  0.80212766  0.80309478  0.80367505\n",
      "   0.80290135  0.80309478]]\n"
     ]
    }
   ],
   "source": [
    "Accs = np.empty((len(samples),len(hyperparams)))\n",
    "i = 0 # sample index counter\n",
    "for nsamples in samples:\n",
    "    print(nsamples,'samples')\n",
    "    j = 0 # hyperparameter index counter\n",
    "    for hp in hyperparams:\n",
    "        acc = kfoldCrossVal(5,spam,nsamples,hp)\n",
    "    \n",
    "        print('\\tC =',hp,'\\tAccuracy:',acc)\n",
    "        Accs[i,j] = acc\n",
    "        j+=1\n",
    "    i+=1\n",
    "print(Accs)"
   ]
  },
  {
   "cell_type": "code",
   "execution_count": 85,
   "metadata": {
    "collapsed": false
   },
   "outputs": [
    {
     "name": "stdout",
     "output_type": "stream",
     "text": [
      "The index of the maximum accuracy (0.80580270793) is: [ 4 16]\n",
      "This corresponds to a hyperparameter of C = 2.63665089873 when training on 2000 samples.\n"
     ]
    }
   ],
   "source": [
    "# Find the index of the maximum value in the accuracies table\n",
    "maxindex = np.array([int(len(Accs)*np.argmax(Accs)/(len(Accs.flatten()))),np.argmax(Accs)%len(Accs[0])])\n",
    "print('The index of the maximum accuracy ('+str(Accs[maxindex[0],maxindex[1]])+') is:',maxindex)\n",
    "\n",
    "besthp = hyperparams[maxindex[1]]\n",
    "bestns = samples[maxindex[0]]\n",
    "# Determine which sample count-hyperparameter combination this corresponds to\n",
    "print('This corresponds to a hyperparameter of C = '+ str(besthp) + ' when training on ' + str(bestns) + ' samples.')\n"
   ]
  },
  {
   "cell_type": "code",
   "execution_count": 86,
   "metadata": {
    "collapsed": false
   },
   "outputs": [],
   "source": [
    "# Load test data\n",
    "testpath = r\"spam\\spam_data.mat\"\n",
    "spam_dict = spio.loadmat(_DATA_DIR+\"\\\\\"+testpath)\n",
    "spam_test = np.array(spam_dict['test_data'])\n",
    "predictions = TrainAndPredictNsamples(spamdata,labels[0],spam_test,besthp)"
   ]
  },
  {
   "cell_type": "code",
   "execution_count": 87,
   "metadata": {
    "collapsed": true
   },
   "outputs": [],
   "source": [
    "IDs = np.arange(len(predictions))\n",
    "numpycsv = np.c_[IDs,predictions]\n",
    "np.savetxt('spam_testpredictions.csv',numpycsv,fmt='%i',delimiter=',',header='Id,Category',comments='')"
   ]
  },
  {
   "cell_type": "code",
   "execution_count": null,
   "metadata": {
    "collapsed": true
   },
   "outputs": [],
   "source": []
  }
 ],
 "metadata": {
  "anaconda-cloud": {},
  "kernelspec": {
   "display_name": "Python [conda root]",
   "language": "python",
   "name": "conda-root-py"
  },
  "language_info": {
   "codemirror_mode": {
    "name": "ipython",
    "version": 3
   },
   "file_extension": ".py",
   "mimetype": "text/x-python",
   "name": "python",
   "nbconvert_exporter": "python",
   "pygments_lexer": "ipython3",
   "version": "3.5.2"
  }
 },
 "nbformat": 4,
 "nbformat_minor": 1
}
