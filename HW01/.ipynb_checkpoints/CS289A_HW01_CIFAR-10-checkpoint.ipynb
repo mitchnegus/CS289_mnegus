{
 "cells": [
  {
   "cell_type": "code",
   "execution_count": 1,
   "metadata": {
    "collapsed": true
   },
   "outputs": [],
   "source": [
    "%load_ext autoreload"
   ]
  },
  {
   "cell_type": "code",
   "execution_count": 2,
   "metadata": {
    "collapsed": true
   },
   "outputs": [],
   "source": [
    "%autoreload 2"
   ]
  },
  {
   "cell_type": "code",
   "execution_count": 3,
   "metadata": {
    "collapsed": true
   },
   "outputs": [],
   "source": [
    "from sklearn import svm\n",
    "from scipy import io as spio\n",
    "import numpy as np\n",
    "import trainfunctions as tf"
   ]
  },
  {
   "cell_type": "code",
   "execution_count": 6,
   "metadata": {
    "collapsed": false
   },
   "outputs": [],
   "source": [
    "_DATA_DIR = r\"C:\\Users\\Mitch\\Documents\\Cal\\2 - 2017 Spring\\COMPSCI 289A - Intro to Machine Learning\\HW01_Data\\hw01_data\"\n",
    "trainpath = r\"cifar\\train.mat\""
   ]
  },
  {
   "cell_type": "code",
   "execution_count": 10,
   "metadata": {
    "collapsed": false
   },
   "outputs": [],
   "source": [
    "valsetsize = 5000\n",
    "samples = np.array([100, 200, 500, 1000, 2000, 5000])\n",
    "hyperparams = np.logspace(-8,4,num=20)"
   ]
  },
  {
   "cell_type": "code",
   "execution_count": 8,
   "metadata": {
    "collapsed": false
   },
   "outputs": [],
   "source": [
    "# Load CIFAR-10 training data\n",
    "cifardata = spio.loadmat(_DATA_DIR+'\\\\'+trainpath)\n",
    "cifar = cifardata['trainX']"
   ]
  },
  {
   "cell_type": "code",
   "execution_count": 9,
   "metadata": {
    "collapsed": false
   },
   "outputs": [],
   "source": [
    "# Shuffle data before splitting\n",
    "np.random.shuffle(cifar)"
   ]
  },
  {
   "cell_type": "code",
   "execution_count": 12,
   "metadata": {
    "collapsed": false
   },
   "outputs": [],
   "source": [
    "trainset,valset = utils.partition(valsetsize,cifar)\n",
    "trainsetarrays,trainsetlabels = utils.separatelabels(trainset)\n",
    "valsetarrays,valsetlabels = utils.separatelabels(valset)"
   ]
  },
  {
   "cell_type": "code",
   "execution_count": 13,
   "metadata": {
    "collapsed": false,
    "scrolled": true
   },
   "outputs": [
    {
     "name": "stdout",
     "output_type": "stream",
     "text": [
      "100 samples\n",
      "\tC = 1e-08 \tAccuracy: 0.1484\n",
      "\tC = 4.28133239872e-08 \tAccuracy: 0.167\n",
      "\tC = 1.83298071083e-07 \tAccuracy: 0.2142\n",
      "\tC = 7.84759970351e-07 \tAccuracy: 0.2164\n",
      "\tC = 3.35981828628e-06 \tAccuracy: 0.2154\n",
      "\tC = 1.43844988829e-05 \tAccuracy: 0.2154\n",
      "\tC = 6.15848211066e-05 \tAccuracy: 0.2154\n",
      "\tC = 0.000263665089873 \tAccuracy: 0.2154\n",
      "\tC = 0.00112883789168 \tAccuracy: 0.2154\n",
      "\tC = 0.00483293023857 \tAccuracy: 0.2154\n",
      "\tC = 0.0206913808111 \tAccuracy: 0.2154\n",
      "\tC = 0.088586679041 \tAccuracy: 0.2154\n",
      "\tC = 0.379269019073 \tAccuracy: 0.2154\n",
      "\tC = 1.62377673919 \tAccuracy: 0.2154\n",
      "\tC = 6.95192796178 \tAccuracy: 0.2154\n",
      "\tC = 29.7635144163 \tAccuracy: 0.2154\n",
      "\tC = 127.42749857 \tAccuracy: 0.2154\n",
      "\tC = 545.559478117 \tAccuracy: 0.2154\n",
      "\tC = 2335.72146909 \tAccuracy: 0.2154\n",
      "\tC = 10000.0 \tAccuracy: 0.2154\n",
      "200 samples\n",
      "\tC = 1e-08 \tAccuracy: 0.1714\n",
      "\tC = 4.28133239872e-08 \tAccuracy: 0.2208\n",
      "\tC = 1.83298071083e-07 \tAccuracy: 0.2554\n",
      "\tC = 7.84759970351e-07 \tAccuracy: 0.2402\n",
      "\tC = 3.35981828628e-06 \tAccuracy: 0.2408\n",
      "\tC = 1.43844988829e-05 \tAccuracy: 0.2408\n",
      "\tC = 6.15848211066e-05 \tAccuracy: 0.2408\n",
      "\tC = 0.000263665089873 \tAccuracy: 0.2408\n",
      "\tC = 0.00112883789168 \tAccuracy: 0.2408\n",
      "\tC = 0.00483293023857 \tAccuracy: 0.2408\n",
      "\tC = 0.0206913808111 \tAccuracy: 0.2408\n",
      "\tC = 0.088586679041 \tAccuracy: 0.2408\n",
      "\tC = 0.379269019073 \tAccuracy: 0.2408\n",
      "\tC = 1.62377673919 \tAccuracy: 0.2408\n",
      "\tC = 6.95192796178 \tAccuracy: 0.2408\n",
      "\tC = 29.7635144163 \tAccuracy: 0.2408\n",
      "\tC = 127.42749857 \tAccuracy: 0.2408\n",
      "\tC = 545.559478117 \tAccuracy: 0.2408\n",
      "\tC = 2335.72146909 \tAccuracy: 0.2408\n",
      "\tC = 10000.0 \tAccuracy: 0.2408\n",
      "500 samples\n",
      "\tC = 1e-08 \tAccuracy: 0.2128\n",
      "\tC = 4.28133239872e-08 \tAccuracy: 0.2812\n",
      "\tC = 1.83298071083e-07 \tAccuracy: 0.3002\n",
      "\tC = 7.84759970351e-07 \tAccuracy: 0.2752\n",
      "\tC = 3.35981828628e-06 \tAccuracy: 0.2718\n",
      "\tC = 1.43844988829e-05 \tAccuracy: 0.2714\n",
      "\tC = 6.15848211066e-05 \tAccuracy: 0.2714\n",
      "\tC = 0.000263665089873 \tAccuracy: 0.2714\n",
      "\tC = 0.00112883789168 \tAccuracy: 0.2714\n",
      "\tC = 0.00483293023857 \tAccuracy: 0.2714\n",
      "\tC = 0.0206913808111 \tAccuracy: 0.2714\n",
      "\tC = 0.088586679041 \tAccuracy: 0.2714\n",
      "\tC = 0.379269019073 \tAccuracy: 0.2714\n",
      "\tC = 1.62377673919 \tAccuracy: 0.2714\n",
      "\tC = 6.95192796178 \tAccuracy: 0.2714\n",
      "\tC = 29.7635144163 \tAccuracy: 0.2714\n",
      "\tC = 127.42749857 \tAccuracy: 0.2714\n",
      "\tC = 545.559478117 \tAccuracy: 0.2714\n",
      "\tC = 2335.72146909 \tAccuracy: 0.2714\n",
      "\tC = 10000.0 \tAccuracy: 0.2714\n",
      "1000 samples\n",
      "\tC = 1e-08 \tAccuracy: 0.241\n",
      "\tC = 4.28133239872e-08 \tAccuracy: 0.313\n",
      "\tC = 1.83298071083e-07 \tAccuracy: 0.3192\n",
      "\tC = 7.84759970351e-07 \tAccuracy: 0.3026\n",
      "\tC = 3.35981828628e-06 \tAccuracy: 0.2886\n",
      "\tC = 1.43844988829e-05 \tAccuracy: 0.2864\n",
      "\tC = 6.15848211066e-05 \tAccuracy: 0.2864\n",
      "\tC = 0.000263665089873 \tAccuracy: 0.2864\n",
      "\tC = 0.00112883789168 \tAccuracy: 0.2864\n",
      "\tC = 0.00483293023857 \tAccuracy: 0.2864\n",
      "\tC = 0.0206913808111 \tAccuracy: 0.2864\n",
      "\tC = 0.088586679041 \tAccuracy: 0.2864\n",
      "\tC = 0.379269019073 \tAccuracy: 0.2864\n",
      "\tC = 1.62377673919 \tAccuracy: 0.2864\n",
      "\tC = 6.95192796178 \tAccuracy: 0.2864\n",
      "\tC = 29.7635144163 \tAccuracy: 0.2864\n",
      "\tC = 127.42749857 \tAccuracy: 0.2864\n",
      "\tC = 545.559478117 \tAccuracy: 0.2864\n",
      "\tC = 2335.72146909 \tAccuracy: 0.2864\n",
      "\tC = 10000.0 \tAccuracy: 0.2864\n",
      "2000 samples\n",
      "\tC = 1e-08 \tAccuracy: 0.3084\n",
      "\tC = 4.28133239872e-08 \tAccuracy: 0.338\n",
      "\tC = 1.83298071083e-07 \tAccuracy: 0.352\n",
      "\tC = 7.84759970351e-07 \tAccuracy: 0.3246\n",
      "\tC = 3.35981828628e-06 \tAccuracy: 0.2996\n",
      "\tC = 1.43844988829e-05 \tAccuracy: 0.296\n",
      "\tC = 6.15848211066e-05 \tAccuracy: 0.2952\n",
      "\tC = 0.000263665089873 \tAccuracy: 0.2952\n",
      "\tC = 0.00112883789168 \tAccuracy: 0.2952\n",
      "\tC = 0.00483293023857 \tAccuracy: 0.2952\n",
      "\tC = 0.0206913808111 \tAccuracy: 0.2952\n",
      "\tC = 0.088586679041 \tAccuracy: 0.2952\n",
      "\tC = 0.379269019073 \tAccuracy: 0.2952\n",
      "\tC = 1.62377673919 \tAccuracy: 0.2952\n",
      "\tC = 6.95192796178 \tAccuracy: 0.2952\n",
      "\tC = 29.7635144163 \tAccuracy: 0.2952\n",
      "\tC = 127.42749857 \tAccuracy: 0.2952\n",
      "\tC = 545.559478117 \tAccuracy: 0.2952\n",
      "\tC = 2335.72146909 \tAccuracy: 0.2952\n",
      "\tC = 10000.0 \tAccuracy: 0.2952\n",
      "5000 samples\n",
      "\tC = 1e-08 \tAccuracy: 0.3476\n",
      "\tC = 4.28133239872e-08 \tAccuracy: 0.375\n",
      "\tC = 1.83298071083e-07 \tAccuracy: 0.3664\n",
      "\tC = 7.84759970351e-07 \tAccuracy: 0.3502\n",
      "\tC = 3.35981828628e-06 \tAccuracy: 0.3234\n",
      "\tC = 1.43844988829e-05 \tAccuracy: 0.2986\n",
      "\tC = 6.15848211066e-05 \tAccuracy: 0.2966\n",
      "\tC = 0.000263665089873 \tAccuracy: 0.2964\n",
      "\tC = 0.00112883789168 \tAccuracy: 0.2964\n",
      "\tC = 0.00483293023857 \tAccuracy: 0.2964\n",
      "\tC = 0.0206913808111 \tAccuracy: 0.2964\n",
      "\tC = 0.088586679041 \tAccuracy: 0.2964\n",
      "\tC = 0.379269019073 \tAccuracy: 0.2964\n",
      "\tC = 1.62377673919 \tAccuracy: 0.2964\n",
      "\tC = 6.95192796178 \tAccuracy: 0.2964\n",
      "\tC = 29.7635144163 \tAccuracy: 0.2964\n",
      "\tC = 127.42749857 \tAccuracy: 0.2964\n",
      "\tC = 545.559478117 \tAccuracy: 0.2964\n",
      "\tC = 2335.72146909 \tAccuracy: 0.2964\n",
      "\tC = 10000.0 \tAccuracy: 0.2964\n",
      "[[ 0.1484  0.167   0.2142  0.2164  0.2154  0.2154  0.2154  0.2154  0.2154\n",
      "   0.2154  0.2154  0.2154  0.2154  0.2154  0.2154  0.2154  0.2154  0.2154\n",
      "   0.2154  0.2154]\n",
      " [ 0.1714  0.2208  0.2554  0.2402  0.2408  0.2408  0.2408  0.2408  0.2408\n",
      "   0.2408  0.2408  0.2408  0.2408  0.2408  0.2408  0.2408  0.2408  0.2408\n",
      "   0.2408  0.2408]\n",
      " [ 0.2128  0.2812  0.3002  0.2752  0.2718  0.2714  0.2714  0.2714  0.2714\n",
      "   0.2714  0.2714  0.2714  0.2714  0.2714  0.2714  0.2714  0.2714  0.2714\n",
      "   0.2714  0.2714]\n",
      " [ 0.241   0.313   0.3192  0.3026  0.2886  0.2864  0.2864  0.2864  0.2864\n",
      "   0.2864  0.2864  0.2864  0.2864  0.2864  0.2864  0.2864  0.2864  0.2864\n",
      "   0.2864  0.2864]\n",
      " [ 0.3084  0.338   0.352   0.3246  0.2996  0.296   0.2952  0.2952  0.2952\n",
      "   0.2952  0.2952  0.2952  0.2952  0.2952  0.2952  0.2952  0.2952  0.2952\n",
      "   0.2952  0.2952]\n",
      " [ 0.3476  0.375   0.3664  0.3502  0.3234  0.2986  0.2966  0.2964  0.2964\n",
      "   0.2964  0.2964  0.2964  0.2964  0.2964  0.2964  0.2964  0.2964  0.2964\n",
      "   0.2964  0.2964]]\n"
     ]
    }
   ],
   "source": [
    "Accs = np.empty((len(samples),len(hyperparams)))\n",
    "i = 0 # sample index counter\n",
    "for nsamples in samples:\n",
    "    print(nsamples,'samples')\n",
    "    j = 0 # hyperparameter index counter\n",
    "    for hp in hyperparams:\n",
    "        acc = TrainAndScoreNsamples(nsamples,trainsetarrays,trainsetlabels,valsetarrays,valsetlabels,hp)\n",
    "        print('\\tC =',hp,'\\tAccuracy:',acc)\n",
    "        Accs[i,j] = acc\n",
    "        j+=1\n",
    "    i+=1\n",
    "print(Accs)"
   ]
  },
  {
   "cell_type": "code",
   "execution_count": 14,
   "metadata": {
    "collapsed": false
   },
   "outputs": [
    {
     "name": "stdout",
     "output_type": "stream",
     "text": [
      "The index of the maximum accuracy (0.375) is: [5 1]\n",
      "This corresponds to a hyperparameter of C = 4.28133239872e-08 when training on 5000 samples.\n"
     ]
    }
   ],
   "source": [
    "# Find the index of the maximum value in the accuracies table\n",
    "maxindex = np.array([int(len(Accs)*np.argmax(Accs)/(len(Accs.flatten()))),np.argmax(Accs)%len(Accs[0])])\n",
    "print('The index of the maximum accuracy ('+str(Accs[maxindex[0],maxindex[1]])+') is:',maxindex)\n",
    "\n",
    "besthp = hyperparams[maxindex[1]]\n",
    "bestns = samples[maxindex[0]]\n",
    "# Determine which sample count-hyperparameter combination this corresponds to\n",
    "print('This corresponds to a hyperparameter of C = '+ str(besthp) + ' when training on ' + str(bestns) + ' samples.')\n"
   ]
  },
  {
   "cell_type": "code",
   "execution_count": null,
   "metadata": {
    "collapsed": false
   },
   "outputs": [],
   "source": []
  },
  {
   "cell_type": "code",
   "execution_count": null,
   "metadata": {
    "collapsed": true
   },
   "outputs": [],
   "source": []
  }
 ],
 "metadata": {
  "anaconda-cloud": {},
  "kernelspec": {
   "display_name": "Python [conda root]",
   "language": "python",
   "name": "conda-root-py"
  },
  "language_info": {
   "codemirror_mode": {
    "name": "ipython",
    "version": 3
   },
   "file_extension": ".py",
   "mimetype": "text/x-python",
   "name": "python",
   "nbconvert_exporter": "python",
   "pygments_lexer": "ipython3",
   "version": "3.5.2"
  }
 },
 "nbformat": 4,
 "nbformat_minor": 1
}
