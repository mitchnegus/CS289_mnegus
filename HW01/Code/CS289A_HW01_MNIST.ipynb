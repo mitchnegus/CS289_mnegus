{
 "cells": [
  {
   "cell_type": "code",
   "execution_count": 16,
   "metadata": {
    "collapsed": false
   },
   "outputs": [
    {
     "name": "stdout",
     "output_type": "stream",
     "text": [
      "The autoreload extension is already loaded. To reload it, use:\n",
      "  %reload_ext autoreload\n"
     ]
    }
   ],
   "source": [
    "%load_ext autoreload"
   ]
  },
  {
   "cell_type": "code",
   "execution_count": 17,
   "metadata": {
    "collapsed": true
   },
   "outputs": [],
   "source": [
    "%autoreload 2"
   ]
  },
  {
   "cell_type": "code",
   "execution_count": 18,
   "metadata": {
    "collapsed": true
   },
   "outputs": [],
   "source": [
    "import numpy as np\n",
    "import HW01_utils as utils\n",
    "import trainfunctions as tf"
   ]
  },
  {
   "cell_type": "code",
   "execution_count": 46,
   "metadata": {
    "collapsed": true
   },
   "outputs": [],
   "source": [
    "_LOCAL_PATH = r\"C:\\Users\\Mitch\\Documents\\Cal\\2 - 2017 Spring\\COMPSCI 289A - Intro to Machine Learning\\HW01\"\n",
    "_DATA_PATH = \"Data\\hw01_data\"\n",
    "\n",
    "_DATA_DIR = _LOCAL_PATH + \"\\\\\" + _DATA_PATH\n",
    "trainpath = r\"mnist\\train.mat\""
   ]
  },
  {
   "cell_type": "code",
   "execution_count": 20,
   "metadata": {
    "collapsed": true
   },
   "outputs": [],
   "source": [
    "valsetsize = 10000\n",
    "samples = np.array([100, 200, 500, 1000, 2000, 5000, 10000])\n",
    "hyperparams = np.logspace(-8,4,num=20)"
   ]
  },
  {
   "cell_type": "code",
   "execution_count": 21,
   "metadata": {
    "collapsed": false
   },
   "outputs": [],
   "source": [
    "# Load MNIST training data\n",
    "mnist = utils.loaddata(trainpath,_DATA_DIR,'trainX')\n",
    "\n",
    "# Shuffle data before splitting\n",
    "np.random.shuffle(mnist)"
   ]
  },
  {
   "cell_type": "code",
   "execution_count": 22,
   "metadata": {
    "collapsed": false
   },
   "outputs": [],
   "source": [
    "trainset,valset = utils.partition(valsetsize,mnist)\n",
    "trainsetarrays,trainsetlabels = utils.separatelabels(trainset)\n",
    "valsetarrays,valsetlabels = utils.separatelabels(valset)"
   ]
  },
  {
   "cell_type": "code",
   "execution_count": 23,
   "metadata": {
    "collapsed": false,
    "scrolled": true
   },
   "outputs": [
    {
     "name": "stdout",
     "output_type": "stream",
     "text": [
      "100 samples\n",
      "\tC = 1e-08 \tAccuracy: 0.1119\n",
      "\tC = 4.28133239872e-08 \tAccuracy: 0.2301\n",
      "\tC = 1.83298071083e-07 \tAccuracy: 0.6438\n",
      "\tC = 7.84759970351e-07 \tAccuracy: 0.7169\n",
      "\tC = 3.35981828628e-06 \tAccuracy: 0.7133\n",
      "\tC = 1.43844988829e-05 \tAccuracy: 0.7133\n",
      "\tC = 6.15848211066e-05 \tAccuracy: 0.7133\n",
      "\tC = 0.000263665089873 \tAccuracy: 0.7133\n",
      "\tC = 0.00112883789168 \tAccuracy: 0.7133\n",
      "\tC = 0.00483293023857 \tAccuracy: 0.7133\n",
      "\tC = 0.0206913808111 \tAccuracy: 0.7133\n",
      "\tC = 0.088586679041 \tAccuracy: 0.7133\n",
      "\tC = 0.379269019073 \tAccuracy: 0.7133\n",
      "\tC = 1.62377673919 \tAccuracy: 0.7133\n",
      "\tC = 6.95192796178 \tAccuracy: 0.7133\n",
      "\tC = 29.7635144163 \tAccuracy: 0.7133\n",
      "\tC = 127.42749857 \tAccuracy: 0.7133\n",
      "\tC = 545.559478117 \tAccuracy: 0.7133\n",
      "\tC = 2335.72146909 \tAccuracy: 0.7133\n",
      "\tC = 10000.0 \tAccuracy: 0.7133\n",
      "200 samples\n",
      "\tC = 1e-08 \tAccuracy: 0.0963\n",
      "\tC = 4.28133239872e-08 \tAccuracy: 0.425\n",
      "\tC = 1.83298071083e-07 \tAccuracy: 0.7747\n",
      "\tC = 7.84759970351e-07 \tAccuracy: 0.8005\n",
      "\tC = 3.35981828628e-06 \tAccuracy: 0.7947\n",
      "\tC = 1.43844988829e-05 \tAccuracy: 0.7947\n",
      "\tC = 6.15848211066e-05 \tAccuracy: 0.7947\n",
      "\tC = 0.000263665089873 \tAccuracy: 0.7947\n",
      "\tC = 0.00112883789168 \tAccuracy: 0.7947\n",
      "\tC = 0.00483293023857 \tAccuracy: 0.7947\n",
      "\tC = 0.0206913808111 \tAccuracy: 0.7947\n",
      "\tC = 0.088586679041 \tAccuracy: 0.7947\n",
      "\tC = 0.379269019073 \tAccuracy: 0.7947\n",
      "\tC = 1.62377673919 \tAccuracy: 0.7947\n",
      "\tC = 6.95192796178 \tAccuracy: 0.7947\n",
      "\tC = 29.7635144163 \tAccuracy: 0.7947\n",
      "\tC = 127.42749857 \tAccuracy: 0.7947\n",
      "\tC = 545.559478117 \tAccuracy: 0.7947\n",
      "\tC = 2335.72146909 \tAccuracy: 0.7947\n",
      "\tC = 10000.0 \tAccuracy: 0.7947\n",
      "500 samples\n",
      "\tC = 1e-08 \tAccuracy: 0.3171\n",
      "\tC = 4.28133239872e-08 \tAccuracy: 0.7527\n",
      "\tC = 1.83298071083e-07 \tAccuracy: 0.865\n",
      "\tC = 7.84759970351e-07 \tAccuracy: 0.8635\n",
      "\tC = 3.35981828628e-06 \tAccuracy: 0.8552\n",
      "\tC = 1.43844988829e-05 \tAccuracy: 0.8548\n",
      "\tC = 6.15848211066e-05 \tAccuracy: 0.8548\n",
      "\tC = 0.000263665089873 \tAccuracy: 0.8548\n",
      "\tC = 0.00112883789168 \tAccuracy: 0.8548\n",
      "\tC = 0.00483293023857 \tAccuracy: 0.8548\n",
      "\tC = 0.0206913808111 \tAccuracy: 0.8548\n",
      "\tC = 0.088586679041 \tAccuracy: 0.8548\n",
      "\tC = 0.379269019073 \tAccuracy: 0.8548\n",
      "\tC = 1.62377673919 \tAccuracy: 0.8548\n",
      "\tC = 6.95192796178 \tAccuracy: 0.8548\n",
      "\tC = 29.7635144163 \tAccuracy: 0.8548\n",
      "\tC = 127.42749857 \tAccuracy: 0.8548\n",
      "\tC = 545.559478117 \tAccuracy: 0.8548\n",
      "\tC = 2335.72146909 \tAccuracy: 0.8548\n",
      "\tC = 10000.0 \tAccuracy: 0.8548\n",
      "1000 samples\n",
      "\tC = 1e-08 \tAccuracy: 0.5782\n",
      "\tC = 4.28133239872e-08 \tAccuracy: 0.85\n",
      "\tC = 1.83298071083e-07 \tAccuracy: 0.8867\n",
      "\tC = 7.84759970351e-07 \tAccuracy: 0.8909\n",
      "\tC = 3.35981828628e-06 \tAccuracy: 0.8815\n",
      "\tC = 1.43844988829e-05 \tAccuracy: 0.881\n",
      "\tC = 6.15848211066e-05 \tAccuracy: 0.881\n",
      "\tC = 0.000263665089873 \tAccuracy: 0.881\n",
      "\tC = 0.00112883789168 \tAccuracy: 0.881\n",
      "\tC = 0.00483293023857 \tAccuracy: 0.881\n",
      "\tC = 0.0206913808111 \tAccuracy: 0.881\n",
      "\tC = 0.088586679041 \tAccuracy: 0.881\n",
      "\tC = 0.379269019073 \tAccuracy: 0.881\n",
      "\tC = 1.62377673919 \tAccuracy: 0.881\n",
      "\tC = 6.95192796178 \tAccuracy: 0.881\n",
      "\tC = 29.7635144163 \tAccuracy: 0.881\n",
      "\tC = 127.42749857 \tAccuracy: 0.881\n",
      "\tC = 545.559478117 \tAccuracy: 0.881\n",
      "\tC = 2335.72146909 \tAccuracy: 0.881\n",
      "\tC = 10000.0 \tAccuracy: 0.881\n",
      "2000 samples\n",
      "\tC = 1e-08 \tAccuracy: 0.7981\n",
      "\tC = 4.28133239872e-08 \tAccuracy: 0.8824\n",
      "\tC = 1.83298071083e-07 \tAccuracy: 0.9043\n",
      "\tC = 7.84759970351e-07 \tAccuracy: 0.9086\n",
      "\tC = 3.35981828628e-06 \tAccuracy: 0.895\n",
      "\tC = 1.43844988829e-05 \tAccuracy: 0.8926\n",
      "\tC = 6.15848211066e-05 \tAccuracy: 0.8926\n",
      "\tC = 0.000263665089873 \tAccuracy: 0.8926\n",
      "\tC = 0.00112883789168 \tAccuracy: 0.8926\n",
      "\tC = 0.00483293023857 \tAccuracy: 0.8926\n",
      "\tC = 0.0206913808111 \tAccuracy: 0.8926\n",
      "\tC = 0.088586679041 \tAccuracy: 0.8926\n",
      "\tC = 0.379269019073 \tAccuracy: 0.8926\n",
      "\tC = 1.62377673919 \tAccuracy: 0.8926\n",
      "\tC = 6.95192796178 \tAccuracy: 0.8926\n",
      "\tC = 29.7635144163 \tAccuracy: 0.8926\n",
      "\tC = 127.42749857 \tAccuracy: 0.8926\n",
      "\tC = 545.559478117 \tAccuracy: 0.8926\n",
      "\tC = 2335.72146909 \tAccuracy: 0.8926\n",
      "\tC = 10000.0 \tAccuracy: 0.8926\n",
      "5000 samples\n",
      "\tC = 1e-08 \tAccuracy: 0.8721\n",
      "\tC = 4.28133239872e-08 \tAccuracy: 0.9038\n",
      "\tC = 1.83298071083e-07 \tAccuracy: 0.9183\n",
      "\tC = 7.84759970351e-07 \tAccuracy: 0.9202\n",
      "\tC = 3.35981828628e-06 \tAccuracy: 0.9135\n",
      "\tC = 1.43844988829e-05 \tAccuracy: 0.9041\n",
      "\tC = 6.15848211066e-05 \tAccuracy: 0.903\n",
      "\tC = 0.000263665089873 \tAccuracy: 0.903\n",
      "\tC = 0.00112883789168 \tAccuracy: 0.903\n",
      "\tC = 0.00483293023857 \tAccuracy: 0.903\n",
      "\tC = 0.0206913808111 \tAccuracy: 0.903\n",
      "\tC = 0.088586679041 \tAccuracy: 0.903\n",
      "\tC = 0.379269019073 \tAccuracy: 0.903\n",
      "\tC = 1.62377673919 \tAccuracy: 0.903\n",
      "\tC = 6.95192796178 \tAccuracy: 0.903\n",
      "\tC = 29.7635144163 \tAccuracy: 0.903\n",
      "\tC = 127.42749857 \tAccuracy: 0.903\n",
      "\tC = 545.559478117 \tAccuracy: 0.903\n",
      "\tC = 2335.72146909 \tAccuracy: 0.903\n",
      "\tC = 10000.0 \tAccuracy: 0.903\n",
      "10000 samples\n",
      "\tC = 1e-08 \tAccuracy: 0.8935\n",
      "\tC = 4.28133239872e-08 \tAccuracy: 0.9147\n",
      "\tC = 1.83298071083e-07 \tAccuracy: 0.9255\n",
      "\tC = 7.84759970351e-07 \tAccuracy: 0.9298\n",
      "\tC = 3.35981828628e-06 \tAccuracy: 0.9229\n",
      "\tC = 1.43844988829e-05 \tAccuracy: 0.9118\n",
      "\tC = 6.15848211066e-05 \tAccuracy: 0.9071\n",
      "\tC = 0.000263665089873 \tAccuracy: 0.906\n",
      "\tC = 0.00112883789168 \tAccuracy: 0.906\n",
      "\tC = 0.00483293023857 \tAccuracy: 0.906\n",
      "\tC = 0.0206913808111 \tAccuracy: 0.906\n",
      "\tC = 0.088586679041 \tAccuracy: 0.906\n",
      "\tC = 0.379269019073 \tAccuracy: 0.906\n",
      "\tC = 1.62377673919 \tAccuracy: 0.906\n",
      "\tC = 6.95192796178 \tAccuracy: 0.906\n",
      "\tC = 29.7635144163 \tAccuracy: 0.906\n",
      "\tC = 127.42749857 \tAccuracy: 0.906\n",
      "\tC = 545.559478117 \tAccuracy: 0.906\n",
      "\tC = 2335.72146909 \tAccuracy: 0.906\n",
      "\tC = 10000.0 \tAccuracy: 0.906\n",
      "[[ 0.1119  0.2301  0.6438  0.7169  0.7133  0.7133  0.7133  0.7133  0.7133\n",
      "   0.7133  0.7133  0.7133  0.7133  0.7133  0.7133  0.7133  0.7133  0.7133\n",
      "   0.7133  0.7133]\n",
      " [ 0.0963  0.425   0.7747  0.8005  0.7947  0.7947  0.7947  0.7947  0.7947\n",
      "   0.7947  0.7947  0.7947  0.7947  0.7947  0.7947  0.7947  0.7947  0.7947\n",
      "   0.7947  0.7947]\n",
      " [ 0.3171  0.7527  0.865   0.8635  0.8552  0.8548  0.8548  0.8548  0.8548\n",
      "   0.8548  0.8548  0.8548  0.8548  0.8548  0.8548  0.8548  0.8548  0.8548\n",
      "   0.8548  0.8548]\n",
      " [ 0.5782  0.85    0.8867  0.8909  0.8815  0.881   0.881   0.881   0.881\n",
      "   0.881   0.881   0.881   0.881   0.881   0.881   0.881   0.881   0.881\n",
      "   0.881   0.881 ]\n",
      " [ 0.7981  0.8824  0.9043  0.9086  0.895   0.8926  0.8926  0.8926  0.8926\n",
      "   0.8926  0.8926  0.8926  0.8926  0.8926  0.8926  0.8926  0.8926  0.8926\n",
      "   0.8926  0.8926]\n",
      " [ 0.8721  0.9038  0.9183  0.9202  0.9135  0.9041  0.903   0.903   0.903\n",
      "   0.903   0.903   0.903   0.903   0.903   0.903   0.903   0.903   0.903\n",
      "   0.903   0.903 ]\n",
      " [ 0.8935  0.9147  0.9255  0.9298  0.9229  0.9118  0.9071  0.906   0.906\n",
      "   0.906   0.906   0.906   0.906   0.906   0.906   0.906   0.906   0.906\n",
      "   0.906   0.906 ]]\n"
     ]
    }
   ],
   "source": [
    "Accs = np.empty((len(samples),len(hyperparams)))\n",
    "i = 0 # sample index counter\n",
    "for nsamples in samples:\n",
    "    print(nsamples,'samples')\n",
    "    j = 0 # hyperparameter index counter\n",
    "    for hp in hyperparams:\n",
    "        acc = tf.TrainAndScoreNsamples(trainsetarrays[:nsamples],trainsetlabels[:nsamples],valsetarrays,valsetlabels,hp)\n",
    "        print('\\tC =',hp,'\\tAccuracy:',acc)\n",
    "        Accs[i,j] = acc\n",
    "        j+=1\n",
    "    i+=1\n",
    "print(Accs)\n",
    "\n"
   ]
  },
  {
   "cell_type": "code",
   "execution_count": 28,
   "metadata": {
    "collapsed": false
   },
   "outputs": [
    {
     "name": "stdout",
     "output_type": "stream",
     "text": [
      "The index of the maximum accuracy (0.9298) is: [6 3]\n",
      "This corresponds to a hyperparameter of C = 7.84759970351e-07 when training on 10000 samples.\n"
     ]
    }
   ],
   "source": [
    "# Find the index of the maximum value in the accuracies table\n",
    "maxindex = np.array([int(len(Accs)*np.argmax(Accs)/(len(Accs.flatten()))),np.argmax(Accs)%len(Accs[0])])\n",
    "print('The index of the maximum accuracy ('+str(Accs[maxindex[0],maxindex[1]])+') is:',maxindex)\n",
    "\n",
    "besthp = hyperparams[maxindex[1]]\n",
    "bestns = samples[maxindex[0]]\n",
    "# Determine which sample count-hyperparameter combination this corresponds to\n",
    "print('This corresponds to a hyperparameter of C = '+ str(besthp) + ' when training on ' + str(bestns) + ' samples.')\n"
   ]
  },
  {
   "cell_type": "code",
   "execution_count": 29,
   "metadata": {
    "collapsed": true
   },
   "outputs": [],
   "source": [
    "besthp = 7.84759970351e-07\n",
    "bestns = 10000"
   ]
  },
  {
   "cell_type": "code",
   "execution_count": 30,
   "metadata": {
    "collapsed": false
   },
   "outputs": [],
   "source": [
    "# Load test data\n",
    "testpath = r\"mnist\\test.mat\"\n",
    "mnist_test = utils.loaddata(testpath,_DATA_DIR,'testX')\n",
    "predictions = tf.TrainAndPredictNsamples(trainsetarrays[:bestns],trainsetlabels[:bestns],mnist_test,besthp)"
   ]
  },
  {
   "cell_type": "code",
   "execution_count": 27,
   "metadata": {
    "collapsed": false
   },
   "outputs": [],
   "source": [
    "IDs = np.arange(len(predictions))\n",
    "numpycsv = np.c_[IDs,predictions]\n",
    "np.savetxt(_LOCAL_PATH+r'\\MNIST_testpredictions.csv',numpycsv,fmt='%i',delimiter=',',header='Id,Category',comments='')"
   ]
  },
  {
   "cell_type": "code",
   "execution_count": 31,
   "metadata": {
    "collapsed": true
   },
   "outputs": [],
   "source": [
    "from matplotlib import pyplot as plt"
   ]
  },
  {
   "cell_type": "code",
   "execution_count": 32,
   "metadata": {
    "collapsed": true
   },
   "outputs": [],
   "source": [
    "hpC1 = 13"
   ]
  },
  {
   "cell_type": "code",
   "execution_count": 33,
   "metadata": {
    "collapsed": true
   },
   "outputs": [],
   "source": [
    "errors = np.ones_like(Accs[:,hpC1])-Accs[:,hpC1]"
   ]
  },
  {
   "cell_type": "code",
   "execution_count": 42,
   "metadata": {
    "collapsed": false
   },
   "outputs": [
    {
     "data": {
      "text/plain": [
       "<matplotlib.text.Text at 0x23b99f887f0>"
      ]
     },
     "execution_count": 42,
     "metadata": {},
     "output_type": "execute_result"
    }
   ],
   "source": [
    "fig = plt.figure()\n",
    "plt.plot(samples,errors)\n",
    "plt.title('Error on Datasets of Varying Size')\n",
    "plt.xlabel('# Training Samples')\n",
    "plt.ylabel('Error')\n",
    "plt.text(8000,0.275,'C = '+str(round(hyperparams[hpC1],4)))"
   ]
  },
  {
   "cell_type": "code",
   "execution_count": 43,
   "metadata": {
    "collapsed": false
   },
   "outputs": [
    {
     "data": {
      "image/png": "[encoded data removed]",
      "text/plain": [
       "<matplotlib.figure.Figure at 0x23b998314e0>"
      ]
     },
     "metadata": {},
     "output_type": "display_data"
    }
   ],
   "source": [
    "plt.show()"
   ]
  },
  {
   "cell_type": "code",
   "execution_count": 47,
   "metadata": {
    "collapsed": false
   },
   "outputs": [],
   "source": [
    "fig.savefig(_LOCAL_PATH+r'\\Figures\\MNIST_SampleAcc.jpg')"
   ]
  },
  {
   "cell_type": "code",
   "execution_count": null,
   "metadata": {
    "collapsed": true
   },
   "outputs": [],
   "source": [
    "# Export data to csv files for report\n",
    "np.savetxt(_LOCAL_PATH+r'\\MNIST_Accuracies.csv',Accs,fmt='%f',delimiter=',',comments='')\n",
    "np.savetxt(_LOCAL_PATH+r'\\MNIST_hyperparams.csv',hyperparams,fmt='%.8f',delimiter=',',comments='')"
   ]
  }
 ],
 "metadata": {
  "anaconda-cloud": {},
  "kernelspec": {
   "display_name": "Python 3",
   "language": "python",
   "name": "python3"
  },
  "language_info": {
   "codemirror_mode": {
    "name": "ipython",
    "version": 3
   },
   "file_extension": ".py",
   "mimetype": "text/x-python",
   "name": "python",
   "nbconvert_exporter": "python",
   "pygments_lexer": "ipython3",
   "version": "3.6.0"
  }
 },
 "nbformat": 4,
 "nbformat_minor": 1
}
