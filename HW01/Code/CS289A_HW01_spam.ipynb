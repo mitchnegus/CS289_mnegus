{
 "cells": [
  {
   "cell_type": "code",
   "execution_count": 1,
   "metadata": {
    "collapsed": true
   },
   "outputs": [],
   "source": [
    "%load_ext autoreload"
   ]
  },
  {
   "cell_type": "code",
   "execution_count": 2,
   "metadata": {
    "collapsed": true
   },
   "outputs": [],
   "source": [
    "%autoreload 2"
   ]
  },
  {
   "cell_type": "code",
   "execution_count": 3,
   "metadata": {
    "collapsed": true
   },
   "outputs": [],
   "source": [
    "from scipy import io as spio\n",
    "import numpy as np\n",
    "import HW01_utils as utils\n",
    "import trainfunctions as tf"
   ]
  },
  {
   "cell_type": "code",
   "execution_count": 10,
   "metadata": {
    "collapsed": true
   },
   "outputs": [],
   "source": [
    "def loaddata_spam(shortpath,_DATA_DIR):\n",
    "# Load data\n",
    "    data_dict = spio.loadmat(_DATA_DIR+\"\\\\\"+shortpath)\n",
    "    data = np.array(data_dict['training_data'])\n",
    "    labels = np.array(data_dict['training_labels'])\n",
    "    return data,labels"
   ]
  },
  {
   "cell_type": "code",
   "execution_count": 5,
   "metadata": {
    "collapsed": true
   },
   "outputs": [],
   "source": [
    "def kfoldPartition(k,data):\n",
    "    # Partition the shuffled data into k sets\n",
    "    subsetlen = int(len(data)/k)     #NOTE: This will neglect a few data points if the original data set is not divisible by k (this should be insignificant for large data samples)\n",
    "    subsets = np.empty((k,subsetlen,len(data[0])))\n",
    "    for i in range(k):\n",
    "        subsets[i] = data[i*subsetlen:(i+1)*subsetlen]\n",
    "    return subsets"
   ]
  },
  {
   "cell_type": "code",
   "execution_count": 76,
   "metadata": {
    "collapsed": false
   },
   "outputs": [],
   "source": [
    "_LOCAL_PATH = r\"C:\\Users\\Mitch\\Documents\\Cal\\2 - 2017 Spring\\COMPSCI 289A - Intro to Machine Learning\\HW01\"\n",
    "_DATA_PATH = \"Data\\hw01_data\"\n",
    "\n",
    "_DATA_DIR = _LOCAL_PATH + \"\\\\\" + _DATA_PATH\n",
    "datafilepath = r\"spam\\spam_data.mat\""
   ]
  },
  {
   "cell_type": "code",
   "execution_count": 11,
   "metadata": {
    "collapsed": false
   },
   "outputs": [],
   "source": [
    "# Load spam training data (w/ features extracted)\n",
    "spamdata,labels = loaddata_spam(datafilepath,_DATA_DIR)\n",
    "\n",
    "# Append labels to the corresponding data (to prevent loss of association when shuffling)\n",
    "spam = np.c_[spamdata,labels[0]]\n",
    "\n",
    "#spam_testdata = np.array(spam_dict['test_data'])\n",
    "\n",
    "# Shuffle data before splitting\n",
    "np.random.shuffle(spam)"
   ]
  },
  {
   "cell_type": "code",
   "execution_count": 12,
   "metadata": {
    "collapsed": true
   },
   "outputs": [],
   "source": [
    "valsetpercent = 20\n",
    "valsetsize = int(len(spam)*valsetpercent/100)"
   ]
  },
  {
   "cell_type": "code",
   "execution_count": 13,
   "metadata": {
    "collapsed": false
   },
   "outputs": [],
   "source": [
    "trainset,valset = utils.partition(valsetsize,spam)\n",
    "trainsetarrays,trainsetlabels = utils.separatelabels(trainset)\n",
    "valsetarrays,valsetlabels = utils.separatelabels(valset)"
   ]
  },
  {
   "cell_type": "code",
   "execution_count": 14,
   "metadata": {
    "collapsed": false
   },
   "outputs": [],
   "source": [
    "samples = [100, 200, 500, 1000, 2000, len(trainset)]\n",
    "hyperparams = np.logspace(-8,2,num=20)   #100 was chosen as highest C value here due to time constraints (only marginal improvement in accuracy was seen for C>100)"
   ]
  },
  {
   "cell_type": "code",
   "execution_count": 15,
   "metadata": {
    "collapsed": false
   },
   "outputs": [],
   "source": [
    "def kfoldCrossVal(k,data,nsamples,hyperparam):\n",
    "# Implementation of k-fold Cross-Validation\n",
    "    spamsets = kfoldPartition(k,data)\n",
    "    scores = np.zeros(k)\n",
    "    for i in range(k):\n",
    "        trainset = spamsets[np.arange(len(spamsets))!=i]\n",
    "        trainset = np.concatenate(trainset[:])\n",
    "        valset = spamsets[i]\n",
    "        scores[i] = tf.TrainAndScoreNsamples(trainset[:nsamples,:-1],trainset[:nsamples,-1],valset[:,:-1],valset[:,-1],hyperparam)\n",
    "    average = np.sum(scores)/len(scores)\n",
    "    return average\n"
   ]
  },
  {
   "cell_type": "code",
   "execution_count": 84,
   "metadata": {
    "collapsed": false
   },
   "outputs": [
    {
     "name": "stdout",
     "output_type": "stream",
     "text": [
      "100 samples\n",
      "\tC = 1 \tAccuracy: 0.772727272727\n",
      "200 samples\n",
      "\tC = 1 \tAccuracy: 0.788201160542\n",
      "500 samples\n",
      "\tC = 1 \tAccuracy: 0.785299806576\n",
      "1000 samples\n",
      "\tC = 1 \tAccuracy: 0.784332688588\n",
      "2000 samples\n",
      "\tC = 1 \tAccuracy: 0.802707930368\n",
      "4138 samples\n",
      "\tC = 1 \tAccuracy: 0.797872340426\n",
      "[ 0.77272727  0.78820116  0.78529981  0.78433269  0.80270793  0.79787234]\n"
     ]
    }
   ],
   "source": [
    "AccsNoK = np.empty((len(samples)))\n",
    "i = 0 # sample index counter\n",
    "for nsamples in samples:\n",
    "    print(nsamples,'samples')\n",
    "    hp=1\n",
    "    acc = tf.TrainAndScoreNsamples(trainsetarrays[:nsamples],trainsetlabels[:nsamples],valsetarrays,valsetlabels,hp)\n",
    "    print('\\tC =',hp,'\\tAccuracy:',acc)\n",
    "    AccsNoK[i] = acc\n",
    "    i+=1\n",
    "print(AccsNoK)"
   ]
  },
  {
   "cell_type": "code",
   "execution_count": 93,
   "metadata": {
    "collapsed": false
   },
   "outputs": [
    {
     "name": "stdout",
     "output_type": "stream",
     "text": [
      "100 samples\n",
      "\tC = 1e-08 \tAccuracy: 0.710058027079\n",
      "\tC = 3.35981828628e-08 \tAccuracy: 0.710058027079\n",
      "\tC = 1.12883789168e-07 \tAccuracy: 0.710058027079\n",
      "\tC = 3.79269019073e-07 \tAccuracy: 0.710058027079\n",
      "\tC = 1.2742749857e-06 \tAccuracy: 0.710058027079\n",
      "\tC = 4.28133239872e-06 \tAccuracy: 0.710058027079\n",
      "\tC = 1.43844988829e-05 \tAccuracy: 0.710058027079\n",
      "\tC = 4.83293023857e-05 \tAccuracy: 0.709864603482\n",
      "\tC = 0.000162377673919 \tAccuracy: 0.710444874275\n",
      "\tC = 0.000545559478117 \tAccuracy: 0.710638297872\n",
      "\tC = 0.00183298071083 \tAccuracy: 0.711605415861\n",
      "\tC = 0.00615848211066 \tAccuracy: 0.716827852998\n",
      "\tC = 0.0206913808111 \tAccuracy: 0.728433268859\n",
      "\tC = 0.0695192796178 \tAccuracy: 0.742359767892\n",
      "\tC = 0.233572146909 \tAccuracy: 0.754932301741\n",
      "\tC = 0.784759970351 \tAccuracy: 0.770406189555\n",
      "\tC = 2.63665089873 \tAccuracy: 0.777756286267\n",
      "\tC = 8.8586679041 \tAccuracy: 0.786073500967\n",
      "\tC = 29.7635144163 \tAccuracy: 0.775628626692\n",
      "\tC = 100.0 \tAccuracy: 0.781044487427\n",
      "200 samples\n",
      "\tC = 1e-08 \tAccuracy: 0.710058027079\n",
      "\tC = 3.35981828628e-08 \tAccuracy: 0.710058027079\n",
      "\tC = 1.12883789168e-07 \tAccuracy: 0.710058027079\n",
      "\tC = 3.79269019073e-07 \tAccuracy: 0.710058027079\n",
      "\tC = 1.2742749857e-06 \tAccuracy: 0.710058027079\n",
      "\tC = 4.28133239872e-06 \tAccuracy: 0.710058027079\n",
      "\tC = 1.43844988829e-05 \tAccuracy: 0.710058027079\n",
      "\tC = 4.83293023857e-05 \tAccuracy: 0.710058027079\n",
      "\tC = 0.000162377673919 \tAccuracy: 0.710251450677\n",
      "\tC = 0.000545559478117 \tAccuracy: 0.711025145068\n",
      "\tC = 0.00183298071083 \tAccuracy: 0.716441005803\n",
      "\tC = 0.00615848211066 \tAccuracy: 0.730174081238\n",
      "\tC = 0.0206913808111 \tAccuracy: 0.745261121857\n",
      "\tC = 0.0695192796178 \tAccuracy: 0.758800773694\n",
      "\tC = 0.233572146909 \tAccuracy: 0.767891682785\n",
      "\tC = 0.784759970351 \tAccuracy: 0.782591876209\n",
      "\tC = 2.63665089873 \tAccuracy: 0.789555125725\n",
      "\tC = 8.8586679041 \tAccuracy: 0.798065764023\n",
      "\tC = 29.7635144163 \tAccuracy: 0.792456479691\n",
      "\tC = 100.0 \tAccuracy: 0.786847195358\n",
      "500 samples\n",
      "\tC = 1e-08 \tAccuracy: 0.710058027079\n",
      "\tC = 3.35981828628e-08 \tAccuracy: 0.710058027079\n",
      "\tC = 1.12883789168e-07 \tAccuracy: 0.710058027079\n",
      "\tC = 3.79269019073e-07 \tAccuracy: 0.710058027079\n",
      "\tC = 1.2742749857e-06 \tAccuracy: 0.710058027079\n",
      "\tC = 4.28133239872e-06 \tAccuracy: 0.710058027079\n",
      "\tC = 1.43844988829e-05 \tAccuracy: 0.710058027079\n",
      "\tC = 4.83293023857e-05 \tAccuracy: 0.710058027079\n",
      "\tC = 0.000162377673919 \tAccuracy: 0.710058027079\n",
      "\tC = 0.000545559478117 \tAccuracy: 0.713926499033\n",
      "\tC = 0.00183298071083 \tAccuracy: 0.731141199226\n",
      "\tC = 0.00615848211066 \tAccuracy: 0.745261121857\n",
      "\tC = 0.0206913808111 \tAccuracy: 0.763636363636\n",
      "\tC = 0.0695192796178 \tAccuracy: 0.771760154739\n",
      "\tC = 0.233572146909 \tAccuracy: 0.783172147002\n",
      "\tC = 0.784759970351 \tAccuracy: 0.791876208897\n",
      "\tC = 2.63665089873 \tAccuracy: 0.793423597679\n",
      "\tC = 8.8586679041 \tAccuracy: 0.793036750484\n",
      "\tC = 29.7635144163 \tAccuracy: 0.792456479691\n",
      "\tC = 100.0 \tAccuracy: 0.792456479691\n",
      "1000 samples\n",
      "\tC = 1e-08 \tAccuracy: 0.710058027079\n",
      "\tC = 3.35981828628e-08 \tAccuracy: 0.710058027079\n",
      "\tC = 1.12883789168e-07 \tAccuracy: 0.710058027079\n",
      "\tC = 3.79269019073e-07 \tAccuracy: 0.710058027079\n",
      "\tC = 1.2742749857e-06 \tAccuracy: 0.710058027079\n",
      "\tC = 4.28133239872e-06 \tAccuracy: 0.710058027079\n",
      "\tC = 1.43844988829e-05 \tAccuracy: 0.710058027079\n",
      "\tC = 4.83293023857e-05 \tAccuracy: 0.710058027079\n",
      "\tC = 0.000162377673919 \tAccuracy: 0.711411992263\n",
      "\tC = 0.000545559478117 \tAccuracy: 0.725725338491\n",
      "\tC = 0.00183298071083 \tAccuracy: 0.741199226306\n",
      "\tC = 0.00615848211066 \tAccuracy: 0.761895551257\n",
      "\tC = 0.0206913808111 \tAccuracy: 0.770599613153\n",
      "\tC = 0.0695192796178 \tAccuracy: 0.78413926499\n",
      "\tC = 0.233572146909 \tAccuracy: 0.790135396518\n",
      "\tC = 0.784759970351 \tAccuracy: 0.792843326886\n",
      "\tC = 2.63665089873 \tAccuracy: 0.797098646035\n",
      "\tC = 8.8586679041 \tAccuracy: 0.798646034816\n",
      "\tC = 29.7635144163 \tAccuracy: 0.799419729207\n",
      "\tC = 100.0 \tAccuracy: 0.798452611219\n",
      "2000 samples\n",
      "\tC = 1e-08 \tAccuracy: 0.710058027079\n",
      "\tC = 3.35981828628e-08 \tAccuracy: 0.710058027079\n",
      "\tC = 1.12883789168e-07 \tAccuracy: 0.710058027079\n",
      "\tC = 3.79269019073e-07 \tAccuracy: 0.710058027079\n",
      "\tC = 1.2742749857e-06 \tAccuracy: 0.710058027079\n",
      "\tC = 4.28133239872e-06 \tAccuracy: 0.710058027079\n",
      "\tC = 1.43844988829e-05 \tAccuracy: 0.710058027079\n",
      "\tC = 4.83293023857e-05 \tAccuracy: 0.710058027079\n",
      "\tC = 0.000162377673919 \tAccuracy: 0.717214700193\n",
      "\tC = 0.000545559478117 \tAccuracy: 0.734429400387\n",
      "\tC = 0.00183298071083 \tAccuracy: 0.750096711799\n",
      "\tC = 0.00615848211066 \tAccuracy: 0.768278529981\n",
      "\tC = 0.0206913808111 \tAccuracy: 0.779303675048\n",
      "\tC = 0.0695192796178 \tAccuracy: 0.793617021277\n",
      "\tC = 0.233572146909 \tAccuracy: 0.8\n",
      "\tC = 0.784759970351 \tAccuracy: 0.80251450677\n",
      "\tC = 2.63665089873 \tAccuracy: 0.804835589942\n",
      "\tC = 8.8586679041 \tAccuracy: 0.80502901354\n",
      "\tC = 29.7635144163 \tAccuracy: 0.807350096712\n",
      "\tC = 100.0 \tAccuracy: 0.807543520309\n",
      "4138 samples\n",
      "\tC = 1e-08 \tAccuracy: 0.710058027079\n",
      "\tC = 3.35981828628e-08 \tAccuracy: 0.710058027079\n",
      "\tC = 1.12883789168e-07 \tAccuracy: 0.710058027079\n",
      "\tC = 3.79269019073e-07 \tAccuracy: 0.710058027079\n",
      "\tC = 1.2742749857e-06 \tAccuracy: 0.710058027079\n",
      "\tC = 4.28133239872e-06 \tAccuracy: 0.710058027079\n",
      "\tC = 1.43844988829e-05 \tAccuracy: 0.710058027079\n",
      "\tC = 4.83293023857e-05 \tAccuracy: 0.712185686654\n",
      "\tC = 0.000162377673919 \tAccuracy: 0.725338491296\n",
      "\tC = 0.000545559478117 \tAccuracy: 0.74332688588\n",
      "\tC = 0.00183298071083 \tAccuracy: 0.763056092843\n",
      "\tC = 0.00615848211066 \tAccuracy: 0.774854932302\n",
      "\tC = 0.0206913808111 \tAccuracy: 0.789361702128\n",
      "\tC = 0.0695192796178 \tAccuracy: 0.79497098646\n",
      "\tC = 0.233572146909 \tAccuracy: 0.799419729207\n",
      "\tC = 0.784759970351 \tAccuracy: 0.801353965184\n",
      "\tC = 2.63665089873 \tAccuracy: 0.802127659574\n",
      "\tC = 8.8586679041 \tAccuracy: 0.802901353965\n",
      "\tC = 29.7635144163 \tAccuracy: 0.802707930368\n",
      "\tC = 100.0 \tAccuracy: 0.80251450677\n",
      "[[ 0.71005803  0.71005803  0.71005803  0.71005803  0.71005803  0.71005803\n",
      "   0.71005803  0.7098646   0.71044487  0.7106383   0.71160542  0.71682785\n",
      "   0.72843327  0.74235977  0.7549323   0.77040619  0.77775629  0.7860735\n",
      "   0.77562863  0.78104449]\n",
      " [ 0.71005803  0.71005803  0.71005803  0.71005803  0.71005803  0.71005803\n",
      "   0.71005803  0.71005803  0.71025145  0.71102515  0.71644101  0.73017408\n",
      "   0.74526112  0.75880077  0.76789168  0.78259188  0.78955513  0.79806576\n",
      "   0.79245648  0.7868472 ]\n",
      " [ 0.71005803  0.71005803  0.71005803  0.71005803  0.71005803  0.71005803\n",
      "   0.71005803  0.71005803  0.71005803  0.7139265   0.7311412   0.74526112\n",
      "   0.76363636  0.77176015  0.78317215  0.79187621  0.7934236   0.79303675\n",
      "   0.79245648  0.79245648]\n",
      " [ 0.71005803  0.71005803  0.71005803  0.71005803  0.71005803  0.71005803\n",
      "   0.71005803  0.71005803  0.71141199  0.72572534  0.74119923  0.76189555\n",
      "   0.77059961  0.78413926  0.7901354   0.79284333  0.79709865  0.79864603\n",
      "   0.79941973  0.79845261]\n",
      " [ 0.71005803  0.71005803  0.71005803  0.71005803  0.71005803  0.71005803\n",
      "   0.71005803  0.71005803  0.7172147   0.7344294   0.75009671  0.76827853\n",
      "   0.77930368  0.79361702  0.8         0.80251451  0.80483559  0.80502901\n",
      "   0.8073501   0.80754352]\n",
      " [ 0.71005803  0.71005803  0.71005803  0.71005803  0.71005803  0.71005803\n",
      "   0.71005803  0.71218569  0.72533849  0.74332689  0.76305609  0.77485493\n",
      "   0.7893617   0.79497099  0.79941973  0.80135397  0.80212766  0.80290135\n",
      "   0.80270793  0.80251451]]\n"
     ]
    }
   ],
   "source": [
    "Accs = np.empty((len(samples),len(hyperparams)))\n",
    "i = 0 # sample index counter\n",
    "for nsamples in samples:\n",
    "    print(nsamples,'samples')\n",
    "    j = 0 # hyperparameter index counter\n",
    "    for hp in hyperparams:\n",
    "        acc = kfoldCrossVal(5,spam,nsamples,hp)\n",
    "    \n",
    "        print('\\tC =',hp,'\\tAccuracy:',acc)\n",
    "        Accs[i,j] = acc\n",
    "        j+=1\n",
    "    i+=1\n",
    "print(Accs)"
   ]
  },
  {
   "cell_type": "code",
   "execution_count": 17,
   "metadata": {
    "collapsed": false
   },
   "outputs": [
    {
     "name": "stdout",
     "output_type": "stream",
     "text": [
      "The index of the maximum accuracy (0.807543520309) is: [ 4 19]\n",
      "This corresponds to a hyperparameter of C = 100.0 when training on 2000 samples.\n"
     ]
    }
   ],
   "source": [
    "# Find the index of the maximum value in the accuracies table\n",
    "maxindex = np.array([int(len(Accs)*np.argmax(Accs)/(len(Accs.flatten()))),np.argmax(Accs)%len(Accs[0])])\n",
    "print('The index of the maximum accuracy ('+str(Accs[maxindex[0],maxindex[1]])+') is:',maxindex)\n",
    "\n",
    "besthp = hyperparams[maxindex[1]]\n",
    "bestns = samples[maxindex[0]]\n",
    "# Determine which sample count-hyperparameter combination this corresponds to\n",
    "print('This corresponds to a hyperparameter of C = '+ str(besthp) + ' when training on ' + str(bestns) + ' samples.')\n"
   ]
  },
  {
   "cell_type": "code",
   "execution_count": 86,
   "metadata": {
    "collapsed": false
   },
   "outputs": [],
   "source": [
    "# Load test data\n",
    "datafilepath = r\"spam\\spam_data.mat\"\n",
    "spam_dict = spio.loadmat(_DATA_DIR+\"\\\\\"+datafilepath)\n",
    "spam_test = np.array(spam_dict['test_data'])\n",
    "predictions = tf.TrainAndPredictNsamples(spamdata,labels[0],spam_test,besthp)"
   ]
  },
  {
   "cell_type": "code",
   "execution_count": 87,
   "metadata": {
    "collapsed": true
   },
   "outputs": [],
   "source": [
    "IDs = np.arange(len(predictions))\n",
    "numpycsv = np.c_[IDs,predictions]\n",
    "np.savetxt(_LOCAL_PATH+r'\\spam_testpredictions.csv',numpycsv,fmt='%i',delimiter=',',header='Id,Category',comments='')"
   ]
  },
  {
   "cell_type": "code",
   "execution_count": 80,
   "metadata": {
    "collapsed": true
   },
   "outputs": [],
   "source": [
    "from matplotlib import pyplot as plt"
   ]
  },
  {
   "cell_type": "code",
   "execution_count": 50,
   "metadata": {
    "collapsed": true
   },
   "outputs": [],
   "source": [
    "hpC1 = 15"
   ]
  },
  {
   "cell_type": "code",
   "execution_count": 86,
   "metadata": {
    "collapsed": true
   },
   "outputs": [],
   "source": [
    "errors = np.ones_like(AccsNoK)-AccsNoK"
   ]
  },
  {
   "cell_type": "code",
   "execution_count": 87,
   "metadata": {
    "collapsed": false
   },
   "outputs": [
    {
     "data": {
      "text/plain": [
       "<matplotlib.text.Text at 0x1a6a6ae5b38>"
      ]
     },
     "execution_count": 87,
     "metadata": {},
     "output_type": "execute_result"
    }
   ],
   "source": [
    "fig = plt.figure()\n",
    "plt.plot(samples,errors)\n",
    "plt.title('Error on Datasets of Varying Size')\n",
    "plt.xlabel('# Training Samples')\n",
    "plt.ylabel('Error')\n",
    "plt.text(3500,0.225,'C = 1')"
   ]
  },
  {
   "cell_type": "code",
   "execution_count": 88,
   "metadata": {
    "collapsed": false,
    "scrolled": true
   },
   "outputs": [
    {
     "data": {
      "image/png": "[encoded data removed]",
      "text/plain": [
       "<matplotlib.figure.Figure at 0x1a6a6b4a630>"
      ]
     },
     "metadata": {},
     "output_type": "display_data"
    },
    {
     "data": {
      "image/png": "[encoded data removed]",
      "text/plain": [
       "<matplotlib.figure.Figure at 0x1a6a6e9ae10>"
      ]
     },
     "metadata": {},
     "output_type": "display_data"
    }
   ],
   "source": [
    "plt.show()"
   ]
  },
  {
   "cell_type": "code",
   "execution_count": 89,
   "metadata": {
    "collapsed": false
   },
   "outputs": [],
   "source": [
    "fig.savefig(_LOCAL_PATH+r\"\\Figures\\spam_SampleAcc.jpg\")"
   ]
  },
  {
   "cell_type": "code",
   "execution_count": 91,
   "metadata": {
    "collapsed": true
   },
   "outputs": [],
   "source": [
    "np.savetxt(_LOCAL_PATH+r'\\spam_Accuracies.csv',Accs,fmt='%f',delimiter=',',comments='')\n",
    "np.savetxt(_LOCAL_PATH+r'\\spam_hyperparams.csv',hyperparams,fmt='%.8f',delimiter=',',comments='')"
   ]
  },
  {
   "cell_type": "code",
   "execution_count": 94,
   "metadata": {
    "collapsed": false
   },
   "outputs": [
    {
     "name": "stdout",
     "output_type": "stream",
     "text": [
      "[[ 0.71005803  0.71005803  0.71005803  0.71005803  0.71005803  0.71005803\n",
      "   0.71005803  0.7098646   0.71044487  0.7106383   0.71160542  0.71682785\n",
      "   0.72843327  0.74235977  0.7549323   0.77040619  0.77775629  0.7860735\n",
      "   0.77562863  0.78104449]\n",
      " [ 0.71005803  0.71005803  0.71005803  0.71005803  0.71005803  0.71005803\n",
      "   0.71005803  0.71005803  0.71025145  0.71102515  0.71644101  0.73017408\n",
      "   0.74526112  0.75880077  0.76789168  0.78259188  0.78955513  0.79806576\n",
      "   0.79245648  0.7868472 ]\n",
      " [ 0.71005803  0.71005803  0.71005803  0.71005803  0.71005803  0.71005803\n",
      "   0.71005803  0.71005803  0.71005803  0.7139265   0.7311412   0.74526112\n",
      "   0.76363636  0.77176015  0.78317215  0.79187621  0.7934236   0.79303675\n",
      "   0.79245648  0.79245648]\n",
      " [ 0.71005803  0.71005803  0.71005803  0.71005803  0.71005803  0.71005803\n",
      "   0.71005803  0.71005803  0.71141199  0.72572534  0.74119923  0.76189555\n",
      "   0.77059961  0.78413926  0.7901354   0.79284333  0.79709865  0.79864603\n",
      "   0.79941973  0.79845261]\n",
      " [ 0.71005803  0.71005803  0.71005803  0.71005803  0.71005803  0.71005803\n",
      "   0.71005803  0.71005803  0.7172147   0.7344294   0.75009671  0.76827853\n",
      "   0.77930368  0.79361702  0.8         0.80251451  0.80483559  0.80502901\n",
      "   0.8073501   0.80754352]\n",
      " [ 0.71005803  0.71005803  0.71005803  0.71005803  0.71005803  0.71005803\n",
      "   0.71005803  0.71218569  0.72533849  0.74332689  0.76305609  0.77485493\n",
      "   0.7893617   0.79497099  0.79941973  0.80135397  0.80212766  0.80290135\n",
      "   0.80270793  0.80251451]]\n"
     ]
    }
   ],
   "source": [
    "print(Accs)"
   ]
  },
  {
   "cell_type": "code",
   "execution_count": 95,
   "metadata": {
    "collapsed": true
   },
   "outputs": [],
   "source": [
    "# Export data to csv files for report\n",
    "np.savetxt(_LOCAL_PATH+r'\\spam_Accuracies.csv',Accs,fmt='%f',delimiter=',',comments='')\n",
    "np.savetxt(_LOCAL_PATH+r'\\spam_hyperparams.csv',hyperparams,fmt='%.8f',delimiter=',',comments='')"
   ]
  },
  {
   "cell_type": "code",
   "execution_count": null,
   "metadata": {
    "collapsed": true
   },
   "outputs": [],
   "source": []
  }
 ],
 "metadata": {
  "anaconda-cloud": {},
  "kernelspec": {
   "display_name": "Python [conda root]",
   "language": "python",
   "name": "conda-root-py"
  }
 },
 "nbformat": 4,
 "nbformat_minor": 1
}
