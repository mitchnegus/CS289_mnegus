{
 "cells": [
  {
   "cell_type": "markdown",
   "metadata": {},
   "source": [
    "Decision Tree Constructor\n",
    "--------------------------\n",
    "This notebook works through the construction of the DecisionTree and node classes created to solve problem 1. (It will eventually be imported into its own python module)"
   ]
  },
  {
   "cell_type": "code",
   "execution_count": 3,
   "metadata": {
    "collapsed": true
   },
   "outputs": [],
   "source": [
    "import numpy as np"
   ]
  },
  {
   "cell_type": "code",
   "execution_count": 24,
   "metadata": {
    "collapsed": false
   },
   "outputs": [],
   "source": [
    "class DecisionTree:\n",
    "    \"\"\"Build and store a decision tree, based on supplied training data. \n",
    "       Use this tree to predict classifications.\"\"\"\n",
    "\n",
    "    def __init__(self,treedepth=5,params=None):\n",
    "        self.depth = treedepth\n",
    "        self.tree = self.train(data,labels,treedepth)\n",
    "        \n",
    "    def entropy(self,C,D,c,d):\n",
    "        \"\"\"Calculate entropy based on classifications above and below the splitrule\"\"\"\n",
    "        if C != 0:\n",
    "            Cfactor = -(C/(C+D))*np.log2(C/(C+D))\n",
    "        else:\n",
    "            Cfactor = 0\n",
    "        if D != 0:\n",
    "            Dfactor = -(D/(C+D))*np.log2(D/(C+D))\n",
    "        else:\n",
    "            Dfactor = 0\n",
    "        if c != 0:\n",
    "            cfactor = -(c/(c+d))*np.log2(c/(c+d))\n",
    "        else:\n",
    "            cfactor = 0\n",
    "        if d != 0:\n",
    "            dfactor = -(d/(c+d))*np.log2(d/(c+d))\n",
    "        else:\n",
    "            dfactor = 0\n",
    "        H_left = Cfactor + Dfactor\n",
    "        H_right = cfactor + dfactor\n",
    "        H = ((C+D)*H_left + (c+d)*H_right)/(C+D+c+d)\n",
    "        \n",
    "        return H\n",
    "    \n",
    "    \n",
    "    def segment(self,data,labels):\n",
    "        totals = np.bincount(labels)\n",
    "        \n",
    "        # Quick safety check\n",
    "        if len(labels) != len(data):\n",
    "            print('ERROR: There must be the same number of labels as datapoints.')\n",
    "        \n",
    "        # Calculate the initial entropy, used to find info gain\n",
    "        C,D = 0,0                      # C = in class left of split; D = not in class left of split\n",
    "        c,d = totals[1],totals[0]      # c = in class right of split; d = not in class right of split\n",
    "        H_i = self.entropy(C,D,c,d) # the initial entropy, before any splitting\n",
    "        \n",
    "        # Initialize objects to store optimal split rules for iterative comparison\n",
    "        maxinfogain = 0\n",
    "        splitrule = []   \n",
    "        \n",
    "        for feature_i in range(len(data)):\n",
    "            # Order the data for determining ideal splits\n",
    "            lbldat = np.concatenate(([data[:,feature_i]],[labels]),axis=0)\n",
    "            fv = np.sort(lbldat.T,axis=0)\n",
    "            lastfeature = np.array(['',''])\n",
    "            \n",
    "            C,D = 0,0                      # Reset the counters\n",
    "            c,d = totals[1],totals[0]\n",
    "            \n",
    "            for point_i in range(len(fv)-1):\n",
    "                \n",
    "                # Update C,D,c,d to minmize runtime of entrop calc (keep at O(1) time)\n",
    "                if fv[point_i,1] == 1:\n",
    "                    C += 1\n",
    "                    c -= 1\n",
    "                elif fv[point_i,1] == 0:\n",
    "                    D += 1\n",
    "                    d -= 1\n",
    "                else:\n",
    "                    print(\"ERROR: Classifications can only be 0 or 1.\")\n",
    "                \n",
    "                # Skip splitting values that are not separable\n",
    "                if fv[point_i,0] == fv[point_i+1,0]:\n",
    "                    continue\n",
    "                else:\n",
    "                    H_f = self.entropy(C,D,c,d)\n",
    "                    infogain = H_i-H_f\n",
    "                    if infogain > maxinfogain:\n",
    "                        maxinfogain = infogain\n",
    "                        splitrule = [feature_i,fv[point_i,0]]\n",
    "        return splitrule\n",
    "            \n",
    "    def train(self,data,labels,depthlim):\n",
    "        # Grow decision tree\n",
    "        splitrule = self.segment(data,labels)\n",
    "        node = self.Node(data,labels,splitrule)\n",
    "        if node.nodetype == 'LeafNode':\n",
    "            return node\n",
    "        else:\n",
    "            node.left = self.train(node.leftdata,node.leftlabels,depthlim)\n",
    "            node.right = self.train(node.rightdata,node.rightlabels,depthlim)\n",
    "            #restrict occurences based on depthlim\n",
    "            \n",
    "#    def predict(self,data):\n",
    "        \n",
    "#        return predictions\n",
    "    \n",
    "    \n",
    "    class Node:\n",
    "        \"\"\"Store a decision tree node, coupled in series to construct tree;\n",
    "        includes a left branch, right branch, and splitrule\"\"\"\n",
    "    \n",
    "        def __init__(self,data,labels,splitrule):\n",
    "            # Determine if this is a leaf node\n",
    "            if splitrule:\n",
    "                self.rule = splitrule\n",
    "                self.left = None        # To be defined on next call to DecisionTree.train(.)\n",
    "                self.leftdata = None #< splitrule\n",
    "                self.leftlabels = None\n",
    "                self.right = None             # To be defined on next call to DecisionTree.train(.)\n",
    "                self.rightdata = None # > splitrule\n",
    "                self.rightlabels = None\n",
    "            elif not splitrule:\n",
    "                self.nodetype = 'LeafNode'\n",
    "            #   self.label = <majority voting>\n",
    "            \n",
    "        # def GrowTree(self,)\n",
    "            \n",
    "        "
   ]
  },
  {
   "cell_type": "code",
   "execution_count": 25,
   "metadata": {
    "collapsed": false
   },
   "outputs": [],
   "source": [
    "classifier = DecisionTree()"
   ]
  },
  {
   "cell_type": "code",
   "execution_count": 26,
   "metadata": {
    "collapsed": false
   },
   "outputs": [],
   "source": [
    "data = np.array([[2,2,2,5],[1,1,1,2],[2,1,5,3],[8,1,2,1]])\n",
    "labels = np.array([1,1,0,1])"
   ]
  },
  {
   "cell_type": "code",
   "execution_count": 27,
   "metadata": {
    "collapsed": false
   },
   "outputs": [
    {
     "ename": "TypeError",
     "evalue": "__init__() missing 1 required positional argument: 'splitrule'",
     "output_type": "error",
     "traceback": [
      "\u001b[0;31m---------------------------------------------------------------------------\u001b[0m",
      "\u001b[0;31mTypeError\u001b[0m                                 Traceback (most recent call last)",
      "\u001b[0;32m<ipython-input-27-2dbc16a7aab6>\u001b[0m in \u001b[0;36m<module>\u001b[0;34m()\u001b[0m\n\u001b[0;32m----> 1\u001b[0;31m \u001b[0mprint\u001b[0m\u001b[0;34m(\u001b[0m\u001b[0mclassifier\u001b[0m\u001b[0;34m.\u001b[0m\u001b[0mNode\u001b[0m\u001b[0;34m(\u001b[0m\u001b[0mdata\u001b[0m\u001b[0;34m,\u001b[0m\u001b[0mlabels\u001b[0m\u001b[0;34m)\u001b[0m\u001b[0;34m.\u001b[0m\u001b[0mrule\u001b[0m\u001b[0;34m)\u001b[0m\u001b[0;34m\u001b[0m\u001b[0m\n\u001b[0m",
      "\u001b[0;31mTypeError\u001b[0m: __init__() missing 1 required positional argument: 'splitrule'"
     ]
    }
   ],
   "source": [
    "print(classifier.Node(data,labels).rule)"
   ]
  },
  {
   "cell_type": "code",
   "execution_count": null,
   "metadata": {
    "collapsed": true
   },
   "outputs": [],
   "source": []
  }
 ],
 "metadata": {
  "kernelspec": {
   "display_name": "Python 3",
   "language": "python",
   "name": "python3"
  },
  "language_info": {
   "codemirror_mode": {
    "name": "ipython",
    "version": 3
   },
   "file_extension": ".py",
   "mimetype": "text/x-python",
   "name": "python",
   "nbconvert_exporter": "python",
   "pygments_lexer": "ipython3",
   "version": "3.6.0"
  }
 },
 "nbformat": 4,
 "nbformat_minor": 2
}
