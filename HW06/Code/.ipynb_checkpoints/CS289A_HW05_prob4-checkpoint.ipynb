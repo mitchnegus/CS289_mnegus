{
 "cells": [
  {
   "cell_type": "markdown",
   "metadata": {},
   "source": [
    "# HW05 - Problem 4\n",
    "\n",
    "Performance evaluation. For each of the 3 datasets, train a decision tree and random forest and report your training and validation accuracies. You should be reporting 12 numbers (3 datasets × 2 classifiers × 2 data splits).\n"
   ]
  },
  {
   "cell_type": "markdown",
   "metadata": {},
   "source": [
    "Program overhead:"
   ]
  },
  {
   "cell_type": "code",
   "execution_count": 2,
   "metadata": {
    "collapsed": false
   },
   "outputs": [],
   "source": [
    "%load_ext autoreload"
   ]
  },
  {
   "cell_type": "code",
   "execution_count": 3,
   "metadata": {
    "collapsed": true
   },
   "outputs": [],
   "source": [
    "%autoreload 2"
   ]
  },
  {
   "cell_type": "code",
   "execution_count": 4,
   "metadata": {
    "collapsed": false
   },
   "outputs": [],
   "source": [
    "import numpy as np\n",
    "import decisiontree as dt\n",
    "import randomforest as rf\n",
    "import HW05_utils as ut\n",
    "from matplotlib import pyplot as plt"
   ]
  },
  {
   "cell_type": "markdown",
   "metadata": {},
   "source": [
    "Set the base directory for this homework"
   ]
  },
  {
   "cell_type": "code",
   "execution_count": 5,
   "metadata": {
    "collapsed": true
   },
   "outputs": [],
   "source": [
    "BASE_DIR = \"/Users/mitch/Documents/Cal/2_2017_Spring/COMPSCI 289A - Intro to Machine Learning/HW05/\""
   ]
  },
  {
   "cell_type": "markdown",
   "metadata": {},
   "source": [
    "Establish a size for the validation set as a fraction of the total training set"
   ]
  },
  {
   "cell_type": "code",
   "execution_count": 6,
   "metadata": {
    "collapsed": true
   },
   "outputs": [],
   "source": [
    "valfrac = 0.1"
   ]
  },
  {
   "cell_type": "markdown",
   "metadata": {},
   "source": [
    "## SPAM\n",
    "-----------\n",
    "Calculate decision tree and random forest training/validation accuracies for the spam dataset."
   ]
  },
  {
   "cell_type": "markdown",
   "metadata": {},
   "source": [
    "Begin by importing data, shuffling, and separating into training and validation sets."
   ]
  },
  {
   "cell_type": "code",
   "execution_count": 7,
   "metadata": {
    "collapsed": false
   },
   "outputs": [],
   "source": [
    "# Import\n",
    "SPAM_PATH = \"Data/hw5_spam_dist/spam_data.mat\"\n",
    "\n",
    "spam_data = ut.load_data(SPAM_PATH,BASE_DIR,'training_data')\n",
    "spam_labels = ut.load_data(SPAM_PATH,BASE_DIR,'training_labels').T\n",
    "spam_test = ut.load_data(SPAM_PATH,BASE_DIR,'test_data')"
   ]
  },
  {
   "cell_type": "code",
   "execution_count": 8,
   "metadata": {
    "collapsed": false
   },
   "outputs": [],
   "source": [
    "# Shuffle\n",
    "spamdata, spamlabels = ut.shuffle_data(spam_data,spam_labels)"
   ]
  },
  {
   "cell_type": "code",
   "execution_count": 9,
   "metadata": {
    "collapsed": false
   },
   "outputs": [],
   "source": [
    "# Separate\n",
    "spamtraindata,spamvaldata = ut.val_partition(spamdata,valfrac)\n",
    "spamtrainlabels,spamvallabels = ut.val_partition(spamlabels,valfrac)"
   ]
  },
  {
   "cell_type": "markdown",
   "metadata": {
    "collapsed": false
   },
   "source": [
    "### Spam Decision Tree\n",
    "\n",
    "Create and train a decision tree classifier using the spam data and labels."
   ]
  },
  {
   "cell_type": "code",
   "execution_count": 15,
   "metadata": {
    "collapsed": false
   },
   "outputs": [],
   "source": [
    "spam_DTclassifier = dt.DecisionTree(treedepth=100)"
   ]
  },
  {
   "cell_type": "code",
   "execution_count": 16,
   "metadata": {
    "collapsed": false
   },
   "outputs": [],
   "source": [
    "spam_DTclassifier.train(spamtraindata,spamtrainlabels)"
   ]
  },
  {
   "cell_type": "markdown",
   "metadata": {},
   "source": [
    "Calculate the validation accuracy using the trained decision tree"
   ]
  },
  {
   "cell_type": "code",
   "execution_count": 17,
   "metadata": {
    "collapsed": false
   },
   "outputs": [],
   "source": [
    "spamDTpredictions = spam_DTclassifier.predict(spamvaldata)"
   ]
  },
  {
   "cell_type": "code",
   "execution_count": 18,
   "metadata": {
    "collapsed": false
   },
   "outputs": [
    {
     "name": "stdout",
     "output_type": "stream",
     "text": [
      "Validation Accuracy = 78.143%\n"
     ]
    }
   ],
   "source": [
    "spamDTvalAcc = ut.val_accuracy(spamDTpredictions,spamvallabels) \n",
    "print('Validation Accuracy = %.3f%%'%(100*spamDTvalAcc))"
   ]
  },
  {
   "cell_type": "markdown",
   "metadata": {},
   "source": [
    "Use this procedure to determine the optimal value for the tree depth hyperparameter."
   ]
  },
  {
   "cell_type": "code",
   "execution_count": 18,
   "metadata": {
    "collapsed": true
   },
   "outputs": [],
   "source": [
    "def get_depth_acc(testtype,traindata,trainlabels,valdata,vallabels,treedepth,ntrees=None,mfeatures=None):\n",
    "    \n",
    "    # Pick the type of classifier\n",
    "    if testtype == 'DT':\n",
    "        classifier = dt.DecisionTree(treedepth)\n",
    "    elif testtype == 'RF':\n",
    "        classifier = rf.RandomForest(treedepth,ntrees,mfeatures)\n",
    "        \n",
    "    classifier.train(traindata,trainlabels)\n",
    "    predictions = classifier.predict(valdata)\n",
    "    valAcc = ut.val_accuracy(predictions,vallabels)\n",
    "    \n",
    "    return valAcc"
   ]
  },
  {
   "cell_type": "code",
   "execution_count": 19,
   "metadata": {
    "collapsed": false
   },
   "outputs": [],
   "source": [
    "def testdepths(testtype,traindata,trainlabels,valdata,vallabels,maxdepth,depthstep,ntrees=None,mfeatures=None):    \n",
    "   \n",
    "    depthAccs = np.empty((int(np.ceil(maxdepth/depthstep)),2))\n",
    "    for depth in range(1,maxdepth+1,depthstep):\n",
    "        if depth%5==0:\n",
    "            print('Tested up to depth '+str(depth)+'...')\n",
    "        Acc = get_depth_acc(testtype,traindata,trainlabels,valdata,vallabels,depth,ntrees,mfeatures)\n",
    "        depthAccs[int(np.ceil(depth/depthstep))-1] = np.array([depth,Acc])\n",
    "       \n",
    "    return depthAccs"
   ]
  },
  {
   "cell_type": "code",
   "execution_count": 20,
   "metadata": {
    "collapsed": false
   },
   "outputs": [],
   "source": [
    "def plotdepthAccs(depthAccs,title):\n",
    "    fig = plt.figure()\n",
    "    plt.plot(depthAccs[:,0],depthAccs[:,1])\n",
    "    plt.title(title)\n",
    "    plt.xlabel('Validation Accuracy')\n",
    "    plt.ylabel('Tree Depth')\n",
    "    plt.ylim(0,1)\n",
    "    plt.show()\n",
    "    am = np.argmax(depthAccs[:,1])\n",
    "    print('Max accuracy of %.2f%% for depth of %i' %(100*depthAccs[am,1],depthAccs[am,0]))\n",
    "    "
   ]
  },
  {
   "cell_type": "code",
   "execution_count": 29,
   "metadata": {
    "collapsed": false
   },
   "outputs": [],
   "source": [
    "maxdepth=100\n",
    "depthstep=3"
   ]
  },
  {
   "cell_type": "code",
   "execution_count": 30,
   "metadata": {
    "collapsed": false
   },
   "outputs": [],
   "source": [
    "spamDT_Accs=testdepths('DT',spamtraindata,spamtrainlabels,spamvaldata,spamvallabels,maxdepth,depthstep)"
   ]
  },
  {
   "cell_type": "code",
   "execution_count": 31,
   "metadata": {
    "collapsed": false
   },
   "outputs": [
    {
     "data": {
      "image/png": "[encoded data removed]",
      "text/plain": [
       "<matplotlib.figure.Figure at 0x10c0715f8>"
      ]
     },
     "metadata": {},
     "output_type": "display_data"
    },
    {
     "name": "stdout",
     "output_type": "stream",
     "text": [
      "Max accuracy of 78.14% for depth of 28\n"
     ]
    }
   ],
   "source": [
    "plotdepthAccs(spamDT_Accs,'Validation Accuracy of Decision Trees on Spam')"
   ]
  },
  {
   "cell_type": "markdown",
   "metadata": {},
   "source": [
    "Make decision tree predictions for the best depth according to test data, and save to a csv file for upload to Kaggle (0-indexing)."
   ]
  },
  {
   "cell_type": "code",
   "execution_count": 21,
   "metadata": {
    "collapsed": false
   },
   "outputs": [],
   "source": [
    "def save_optimal(Accs,data,labels,testset,indexing=0):\n",
    "    # Retrain the classifier on the best depth\n",
    "    bestdepth = int(Accs[np.argmax(Accs[:,1]),0])\n",
    "    classifier = dt.DecisionTree(treedepth=bestdepth)\n",
    "    classifier.train(data,labels)\n",
    "\n",
    "    # Use this optimal classifier on the test data\n",
    "    predictions = classifier.predict(testset)\n",
    "    if indexing == 0:\n",
    "        ids = np.arange(len(predictions))\n",
    "    elif indexing == 1:\n",
    "        ids = np.arange(1,len(predicitions)+1)\n",
    "    predictions_csv = np.concatenate(([ids],[predictions]),axis=0).T\n",
    "    \n",
    "    return predictions_csv"
   ]
  },
  {
   "cell_type": "code",
   "execution_count": 33,
   "metadata": {
    "collapsed": false
   },
   "outputs": [],
   "source": [
    "#spamDTpredictions_csv = save_optimal(spamDT_Accs,spamdata,spamlabels,spam_test,indexing=0)\n",
    "#np.savetxt(BASE_DIR+'spam_DT_testpredictions.csv',spamDTpredictions_csv,fmt='%i',delimiter=',',header='Id,Category',comments='')"
   ]
  },
  {
   "cell_type": "markdown",
   "metadata": {
    "collapsed": false
   },
   "source": [
    "### Spam Random Forest \n",
    "\n",
    "Create and train a random forest classifier using the spam data and labels."
   ]
  },
  {
   "cell_type": "code",
   "execution_count": 14,
   "metadata": {
    "collapsed": false
   },
   "outputs": [],
   "source": [
    "spam_RFclassifier = rf.RandomForest(treedepth=8,ntrees=100)"
   ]
  },
  {
   "cell_type": "code",
   "execution_count": 15,
   "metadata": {
    "collapsed": false
   },
   "outputs": [],
   "source": [
    "spam_RFclassifier.train(spamtraindata,spamtrainlabels)"
   ]
  },
  {
   "cell_type": "markdown",
   "metadata": {},
   "source": [
    "Calculate the validation accuracy using the trained decision tree."
   ]
  },
  {
   "cell_type": "code",
   "execution_count": 16,
   "metadata": {
    "collapsed": false
   },
   "outputs": [],
   "source": [
    "spampredictions = spam_RFclassifier.predict(spamvaldata)"
   ]
  },
  {
   "cell_type": "code",
   "execution_count": 17,
   "metadata": {
    "collapsed": false
   },
   "outputs": [
    {
     "name": "stdout",
     "output_type": "stream",
     "text": [
      "Validation Accuracy = 75.992%\n"
     ]
    }
   ],
   "source": [
    "spamvalAcc = ut.val_accuracy(spampredictions,spamvallabels)    \n",
    "print('Validation Accuracy = %.3f%%'%(100*spamvalAcc))"
   ]
  },
  {
   "cell_type": "markdown",
   "metadata": {},
   "source": [
    "Use this procedure to determine the optimal value for the tree depth hyperparameter. (Re-use the function looping over depths in spam)"
   ]
  },
  {
   "cell_type": "code",
   "execution_count": 21,
   "metadata": {
    "collapsed": true
   },
   "outputs": [],
   "source": [
    "maxdepth = 25\n",
    "depthstep = 2"
   ]
  },
  {
   "cell_type": "code",
   "execution_count": 22,
   "metadata": {
    "collapsed": false,
    "scrolled": false
   },
   "outputs": [
    {
     "name": "stdout",
     "output_type": "stream",
     "text": [
      "Tested up to depth 5\n",
      "Tested up to depth 15\n",
      "Tested up to depth 25\n"
     ]
    }
   ],
   "source": [
    "spamRF_Accs=testdepths('RF',spamtraindata,spamtrainlabels,spamvaldata,spamvallabels,maxdepth,depthstep,ntrees=100)"
   ]
  },
  {
   "cell_type": "code",
   "execution_count": 23,
   "metadata": {
    "collapsed": false
   },
   "outputs": [
    {
     "data": {
      "image/png": "[encoded data removed]",
      "text/plain": [
       "<matplotlib.figure.Figure at 0x109232ba8>"
      ]
     },
     "metadata": {},
     "output_type": "display_data"
    },
    {
     "name": "stdout",
     "output_type": "stream",
     "text": [
      "Max accuracy of 81.18% for depth of 23\n"
     ]
    }
   ],
   "source": [
    "plotdepthAccs(spamRF_Accs,'Validation Accuracy of Random Forests on spam data')"
   ]
  },
  {
   "cell_type": "markdown",
   "metadata": {},
   "source": [
    "Make random forest predictions for the best depth according to test data, and save to a csv file for upload to Kaggle (0-indexing)."
   ]
  },
  {
   "cell_type": "code",
   "execution_count": 24,
   "metadata": {
    "collapsed": true
   },
   "outputs": [],
   "source": [
    "#spamRFpredictions_csv = save_optimal(spamRF_Accs,spamdata,spamlabels,spam_test,indexing=0)\n",
    "#np.savetxt(BASE_DIR+'spam_RF_testpredictions.csv',spamRFpredictions_csv,fmt='%i',delimiter=',',header='Id,Category',comments='')"
   ]
  },
  {
   "cell_type": "markdown",
   "metadata": {},
   "source": [
    "## Census\n",
    "---------------------------\n",
    "Calculate decision tree and random forest training/validation accuracies for the census dataset."
   ]
  },
  {
   "cell_type": "markdown",
   "metadata": {},
   "source": [
    "Begin by importing (preprocessed) data, shuffling, and separating into training and validation sets."
   ]
  },
  {
   "cell_type": "code",
   "execution_count": 22,
   "metadata": {
    "collapsed": false
   },
   "outputs": [],
   "source": [
    "# Import\n",
    "CENSDAT_PATH = \"Data/census_traindata_vec.csv\"\n",
    "CENSLBL_PATH = \"Data/census_traindata_lbl.csv\"\n",
    "CENSTST_PATH = \"Data/census_testdata_vec.csv\"\n",
    "\n",
    "census_data = np.genfromtxt(BASE_DIR+CENSDAT_PATH,delimiter=',')\n",
    "census_labels = np.genfromtxt(BASE_DIR+CENSLBL_PATH,delimiter=',')\n",
    "census_test = np.genfromtxt(BASE_DIR+CENSTST_PATH,delimiter=',')"
   ]
  },
  {
   "cell_type": "code",
   "execution_count": 23,
   "metadata": {
    "collapsed": false
   },
   "outputs": [],
   "source": [
    "# Shuffle\n",
    "census_labels = np.reshape(census_labels,(len(census_labels),1))\n",
    "censusdata, censuslabels = ut.shuffle_data(census_data,census_labels)"
   ]
  },
  {
   "cell_type": "code",
   "execution_count": 24,
   "metadata": {
    "collapsed": false
   },
   "outputs": [],
   "source": [
    "# Separate\n",
    "censustraindata,censusvaldata = ut.val_partition(censusdata,valfrac)\n",
    "censustrainlabels,censusvallabels = ut.val_partition(censuslabels,valfrac)"
   ]
  },
  {
   "cell_type": "markdown",
   "metadata": {
    "collapsed": false
   },
   "source": [
    "### Census Decision Tree\n",
    "\n",
    "Create and train a decision tree classifier using the census data and labels"
   ]
  },
  {
   "cell_type": "code",
   "execution_count": 28,
   "metadata": {
    "collapsed": false
   },
   "outputs": [],
   "source": [
    "census_DTclassifier = dt.DecisionTree(treedepth=7)"
   ]
  },
  {
   "cell_type": "code",
   "execution_count": 29,
   "metadata": {
    "collapsed": false
   },
   "outputs": [],
   "source": [
    "census_DTclassifier.train(censustraindata,censustrainlabels)"
   ]
  },
  {
   "cell_type": "markdown",
   "metadata": {},
   "source": [
    "Calculate the validation accuracy using the trained decision tree"
   ]
  },
  {
   "cell_type": "code",
   "execution_count": 30,
   "metadata": {
    "collapsed": false
   },
   "outputs": [],
   "source": [
    "censuspredictions = census_DTclassifier.predict(censusvaldata)"
   ]
  },
  {
   "cell_type": "code",
   "execution_count": 31,
   "metadata": {
    "collapsed": false
   },
   "outputs": [
    {
     "name": "stdout",
     "output_type": "stream",
     "text": [
      "Validation Accuracy = 81.601%\n"
     ]
    }
   ],
   "source": [
    "censusvalAcc = ut.val_accuracy(censuspredictions,censusvallabels)\n",
    "print('Validation Accuracy = %.3f%%'%(100*censusvalAcc))"
   ]
  },
  {
   "cell_type": "markdown",
   "metadata": {},
   "source": [
    "Use this procedure to determine the optimal value for the tree depth hyperparameter. (Re-use the functions for finding the optimal depth in spam)"
   ]
  },
  {
   "cell_type": "code",
   "execution_count": 32,
   "metadata": {
    "collapsed": true
   },
   "outputs": [],
   "source": [
    "maxdepth = 30\n",
    "depthstep = 1"
   ]
  },
  {
   "cell_type": "code",
   "execution_count": 33,
   "metadata": {
    "collapsed": false
   },
   "outputs": [
    {
     "name": "stdout",
     "output_type": "stream",
     "text": [
      "Tested up to depth 5\n",
      "Tested up to depth 10\n",
      "Tested up to depth 15\n",
      "Tested up to depth 20\n",
      "Tested up to depth 25\n",
      "Tested up to depth 30\n"
     ]
    }
   ],
   "source": [
    "censusDT_Accs=testdepths('DT',censustraindata,censustrainlabels,censusvaldata,censusvallabels,maxdepth,depthstep)"
   ]
  },
  {
   "cell_type": "code",
   "execution_count": 34,
   "metadata": {
    "collapsed": false
   },
   "outputs": [
    {
     "data": {
      "image/png": "[encoded data removed]",
      "text/plain": [
       "<matplotlib.figure.Figure at 0x20f236be0>"
      ]
     },
     "metadata": {},
     "output_type": "display_data"
    },
    {
     "name": "stdout",
     "output_type": "stream",
     "text": [
      "Max accuracy of 81.69% for depth of 8\n"
     ]
    }
   ],
   "source": [
    "plotdepthAccs(censusDT_Accs,'Validation Accuracy of Decision Trees on census data')"
   ]
  },
  {
   "cell_type": "markdown",
   "metadata": {},
   "source": [
    "Make predictions for the test data, and save to a csv file for upload to Kaggle (1-indexing)."
   ]
  },
  {
   "cell_type": "code",
   "execution_count": 35,
   "metadata": {
    "collapsed": true
   },
   "outputs": [],
   "source": [
    "#censusDTpredictions_csv = save_optimal(censusDT_Accs,censusdata,censuslabels,census_test,indexing=0)\n",
    "#np.savetxt(BASE_DIR+'census_DT_testpredictions.csv',censusDTpredictions_csv,fmt='%i',delimiter=',',header='Id,Category',comments='')"
   ]
  },
  {
   "cell_type": "markdown",
   "metadata": {
    "collapsed": false
   },
   "source": [
    "### Census Random Forest \n",
    "\n",
    "Create and train a random forest classifier using the census data and labels."
   ]
  },
  {
   "cell_type": "code",
   "execution_count": 25,
   "metadata": {
    "collapsed": false
   },
   "outputs": [],
   "source": [
    "census_RFclassifier = rf.RandomForest(treedepth=8,ntrees=100)"
   ]
  },
  {
   "cell_type": "code",
   "execution_count": 26,
   "metadata": {
    "collapsed": false
   },
   "outputs": [],
   "source": [
    "census_RFclassifier.train(censustraindata,censustrainlabels)"
   ]
  },
  {
   "cell_type": "markdown",
   "metadata": {},
   "source": [
    "Calculate the validation accuracy using the trained decision tree."
   ]
  },
  {
   "cell_type": "code",
   "execution_count": 27,
   "metadata": {
    "collapsed": false
   },
   "outputs": [],
   "source": [
    "censuspredictions = census_RFclassifier.predict(censusvaldata)"
   ]
  },
  {
   "cell_type": "code",
   "execution_count": 28,
   "metadata": {
    "collapsed": false
   },
   "outputs": [
    {
     "name": "stdout",
     "output_type": "stream",
     "text": [
      "Validation Accuracy = 82.182%\n"
     ]
    }
   ],
   "source": [
    "censusvalAcc = ut.val_accuracy(censuspredictions,censusvallabels)    \n",
    "print('Validation Accuracy = %.3f%%'%(100*censusvalAcc))"
   ]
  },
  {
   "cell_type": "markdown",
   "metadata": {},
   "source": [
    "Use this procedure to determine the optimal value for the tree depth hyperparameter. (Re-use the function looping over depths in spam)"
   ]
  },
  {
   "cell_type": "code",
   "execution_count": 29,
   "metadata": {
    "collapsed": true
   },
   "outputs": [],
   "source": [
    "maxdepth = 25\n",
    "depthstep = 2"
   ]
  },
  {
   "cell_type": "code",
   "execution_count": 30,
   "metadata": {
    "collapsed": false,
    "scrolled": false
   },
   "outputs": [
    {
     "name": "stdout",
     "output_type": "stream",
     "text": [
      "Tested up to depth 5...\n",
      "Tested up to depth 15...\n",
      "Tested up to depth 25...\n"
     ]
    }
   ],
   "source": [
    "censusRF_Accs=testdepths('RF',censustraindata,censustrainlabels,censusvaldata,censusvallabels,maxdepth,depthstep,ntrees=100)"
   ]
  },
  {
   "cell_type": "code",
   "execution_count": 31,
   "metadata": {
    "collapsed": false
   },
   "outputs": [
    {
     "data": {
      "image/png": "[encoded data removed]",
      "text/plain": [
       "<matplotlib.figure.Figure at 0x59ea4ef28>"
      ]
     },
     "metadata": {},
     "output_type": "display_data"
    },
    {
     "name": "stdout",
     "output_type": "stream",
     "text": [
      "Max accuracy of 83.77% for depth of 25\n"
     ]
    }
   ],
   "source": [
    "plotdepthAccs(censusRF_Accs,'Validation Accuracy of Random Forests on census data')"
   ]
  },
  {
   "cell_type": "code",
   "execution_count": 32,
   "metadata": {
    "collapsed": true
   },
   "outputs": [],
   "source": [
    "#censusRFpredictions_csv = save_optimal(censusRF_Accs,censusdata,censuslabels,census_test,indexing=0)\n",
    "#np.savetxt(BASE_DIR+'census_RF_testpredictions.csv',censusRFpredictions_csv,fmt='%i',delimiter=',',header='Id,Category',comments='')"
   ]
  },
  {
   "cell_type": "markdown",
   "metadata": {},
   "source": [
    "## Titanic\n",
    "---------------------------\n",
    "Calculate decision tree and random forest training/validation accuracies for the Titanic dataset."
   ]
  },
  {
   "cell_type": "markdown",
   "metadata": {},
   "source": [
    "Begin by importing (preprocessed) data, shuffling, and separating into training and validation sets."
   ]
  },
  {
   "cell_type": "code",
   "execution_count": 33,
   "metadata": {
    "collapsed": false
   },
   "outputs": [],
   "source": [
    "# Import\n",
    "TITADAT_PATH = \"Data/titanic_traindata_vec.csv\"\n",
    "TITALBL_PATH = \"Data/titanic_traindata_lbl.csv\"\n",
    "TITATST_PATH = \"Data/titanic_testdata_vec.csv\"\n",
    "\n",
    "titanic_data = np.genfromtxt(BASE_DIR+TITADAT_PATH,delimiter=',')\n",
    "titanic_labels = np.genfromtxt(BASE_DIR+TITALBL_PATH,delimiter=',')\n",
    "titanic_test = np.genfromtxt(BASE_DIR+TITATST_PATH,delimiter=',')"
   ]
  },
  {
   "cell_type": "code",
   "execution_count": 34,
   "metadata": {
    "collapsed": false
   },
   "outputs": [],
   "source": [
    "# Shuffle\n",
    "titanic_labels = np.reshape(titanic_labels,(len(titanic_labels),1))\n",
    "titanicdata, titaniclabels = ut.shuffle_data(titanic_data,titanic_labels)"
   ]
  },
  {
   "cell_type": "code",
   "execution_count": 35,
   "metadata": {
    "collapsed": false
   },
   "outputs": [],
   "source": [
    "# Separate\n",
    "titanictraindata,titanicvaldata = ut.val_partition(titanicdata,valfrac)\n",
    "titanictrainlabels,titanicvallabels = ut.val_partition(titaniclabels,valfrac)"
   ]
  },
  {
   "cell_type": "markdown",
   "metadata": {
    "collapsed": false
   },
   "source": [
    "### Titanic Decision Tree \n",
    "\n",
    "Create and train a decision tree classifier using the Titanic data and labels."
   ]
  },
  {
   "cell_type": "code",
   "execution_count": 36,
   "metadata": {
    "collapsed": false
   },
   "outputs": [],
   "source": [
    "titanic_DTclassifier = dt.DecisionTree(treedepth=8)"
   ]
  },
  {
   "cell_type": "code",
   "execution_count": 37,
   "metadata": {
    "collapsed": false
   },
   "outputs": [],
   "source": [
    "titanic_DTclassifier.train(titanictraindata,titanictrainlabels)"
   ]
  },
  {
   "cell_type": "markdown",
   "metadata": {},
   "source": [
    "Calculate the validation accuracy using the trained decision tree"
   ]
  },
  {
   "cell_type": "code",
   "execution_count": 38,
   "metadata": {
    "collapsed": false
   },
   "outputs": [],
   "source": [
    "titanicpredictions = titanic_DTclassifier.predict(titanicvaldata)"
   ]
  },
  {
   "cell_type": "code",
   "execution_count": 39,
   "metadata": {
    "collapsed": false
   },
   "outputs": [
    {
     "name": "stdout",
     "output_type": "stream",
     "text": [
      "Validation Accuracy = 71.000%\n"
     ]
    }
   ],
   "source": [
    "titanicvalAcc = ut.val_accuracy(titanicpredictions,titanicvallabels)    \n",
    "print('Validation Accuracy = %.3f%%'%(100*titanicvalAcc))"
   ]
  },
  {
   "cell_type": "markdown",
   "metadata": {},
   "source": [
    "Use this procedure to determine the optimal value for the tree depth hyperparameter. (Re-use the function looping over depths in spam)"
   ]
  },
  {
   "cell_type": "code",
   "execution_count": 40,
   "metadata": {
    "collapsed": true
   },
   "outputs": [],
   "source": [
    "maxdepth = 30\n",
    "depthstep = 1"
   ]
  },
  {
   "cell_type": "code",
   "execution_count": 41,
   "metadata": {
    "collapsed": false
   },
   "outputs": [
    {
     "name": "stdout",
     "output_type": "stream",
     "text": [
      "Tested up to depth 5...\n",
      "Tested up to depth 10...\n",
      "Tested up to depth 15...\n",
      "Tested up to depth 20...\n",
      "Tested up to depth 25...\n",
      "Tested up to depth 30...\n"
     ]
    }
   ],
   "source": [
    "titanicDT_Accs=testdepths('DT',titanictraindata,titanictrainlabels,titanicvaldata,titanicvallabels,maxdepth,depthstep)"
   ]
  },
  {
   "cell_type": "code",
   "execution_count": 42,
   "metadata": {
    "collapsed": false
   },
   "outputs": [
    {
     "data": {
      "image/png": "[encoded data removed]",
      "text/plain": [
       "<matplotlib.figure.Figure at 0xe30ac8cf8>"
      ]
     },
     "metadata": {},
     "output_type": "display_data"
    },
    {
     "name": "stdout",
     "output_type": "stream",
     "text": [
      "Max accuracy of 76.00% for depth of 6\n"
     ]
    }
   ],
   "source": [
    "plotdepthAccs(titanicDT_Accs,'Validation Accuracy of Decision Trees on Titanic data')"
   ]
  },
  {
   "cell_type": "code",
   "execution_count": 43,
   "metadata": {
    "collapsed": false
   },
   "outputs": [],
   "source": [
    "#titanicDTpredictions_csv = save_optimal(titanicRF_Accs,titanicdata,titaniclabels,titanic_test,indexing=0)\n",
    "#np.savetxt(BASE_DIR+'titanic_DT_testpredictions.csv',titanicDTpredictions_csv,fmt='%i',delimiter=',',header='Id,Category',comments='')"
   ]
  },
  {
   "cell_type": "markdown",
   "metadata": {
    "collapsed": false
   },
   "source": [
    "### Titanic Random Forest \n",
    "\n",
    "Create and train a random forest classifier using the Titanic data and labels."
   ]
  },
  {
   "cell_type": "code",
   "execution_count": 44,
   "metadata": {
    "collapsed": false
   },
   "outputs": [],
   "source": [
    "titanic_RFclassifier = rf.RandomForest(treedepth=8,ntrees=100)"
   ]
  },
  {
   "cell_type": "code",
   "execution_count": 45,
   "metadata": {
    "collapsed": false
   },
   "outputs": [],
   "source": [
    "titanic_RFclassifier.train(titanictraindata,titanictrainlabels)"
   ]
  },
  {
   "cell_type": "markdown",
   "metadata": {},
   "source": [
    "Calculate the validation accuracy using the trained decision tree."
   ]
  },
  {
   "cell_type": "code",
   "execution_count": 46,
   "metadata": {
    "collapsed": false
   },
   "outputs": [],
   "source": [
    "titanicpredictions = titanic_RFclassifier.predict(titanicvaldata)"
   ]
  },
  {
   "cell_type": "code",
   "execution_count": 47,
   "metadata": {
    "collapsed": false
   },
   "outputs": [
    {
     "name": "stdout",
     "output_type": "stream",
     "text": [
      "Validation Accuracy = 77.000%\n"
     ]
    }
   ],
   "source": [
    "titanicvalAcc = ut.val_accuracy(titanicpredictions,titanicvallabels)    \n",
    "print('Validation Accuracy = %.3f%%'%(100*titanicvalAcc))"
   ]
  },
  {
   "cell_type": "markdown",
   "metadata": {},
   "source": [
    "Use this procedure to determine the optimal value for the tree depth hyperparameter. (Re-use the function looping over depths in spam)"
   ]
  },
  {
   "cell_type": "code",
   "execution_count": 48,
   "metadata": {
    "collapsed": true
   },
   "outputs": [],
   "source": [
    "maxdepth = 25\n",
    "depthstep = 2"
   ]
  },
  {
   "cell_type": "code",
   "execution_count": 49,
   "metadata": {
    "collapsed": false,
    "scrolled": false
   },
   "outputs": [
    {
     "name": "stdout",
     "output_type": "stream",
     "text": [
      "Tested up to depth 5...\n",
      "Tested up to depth 15...\n",
      "Tested up to depth 25...\n"
     ]
    }
   ],
   "source": [
    "titanicRF_Accs=testdepths('RF',titanictraindata,titanictrainlabels,titanicvaldata,titanicvallabels,maxdepth,depthstep,ntrees=100)"
   ]
  },
  {
   "cell_type": "code",
   "execution_count": 50,
   "metadata": {
    "collapsed": false
   },
   "outputs": [
    {
     "data": {
      "image/png": "[encoded data removed]",
      "text/plain": [
       "<matplotlib.figure.Figure at 0x59d195518>"
      ]
     },
     "metadata": {},
     "output_type": "display_data"
    },
    {
     "name": "stdout",
     "output_type": "stream",
     "text": [
      "Max accuracy of 79.00% for depth of 13\n"
     ]
    }
   ],
   "source": [
    "plotdepthAccs(titanicRF_Accs,'Validation Accuracy of Random Forests on Titanic data')"
   ]
  },
  {
   "cell_type": "code",
   "execution_count": 51,
   "metadata": {
    "collapsed": false
   },
   "outputs": [],
   "source": [
    "#titanicRFpredictions_csv = save_optimal(titanicRF_Accs,titanicdata,titaniclabels,titanic_test,indexing=0)\n",
    "#np.savetxt(BASE_DIR+'titanic_RF_testpredictions.csv',titanicRFpredictions_csv,fmt='%i',delimiter=',',header='Id,Category',comments='')"
   ]
  }
 ],
 "metadata": {
  "kernelspec": {
   "display_name": "Python 3",
   "language": "python",
   "name": "python3"
  },
  "language_info": {
   "codemirror_mode": {
    "name": "ipython",
    "version": 3
   },
   "file_extension": ".py",
   "mimetype": "text/x-python",
   "name": "python",
   "nbconvert_exporter": "python",
   "pygments_lexer": "ipython3",
   "version": "3.6.0"
  }
 },
 "nbformat": 4,
 "nbformat_minor": 2
}
