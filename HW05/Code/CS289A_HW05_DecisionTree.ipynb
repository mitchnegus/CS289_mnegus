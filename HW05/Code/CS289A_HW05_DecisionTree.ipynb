{
 "cells": [
  {
   "cell_type": "markdown",
   "metadata": {},
   "source": [
    "Decision Tree Constructor\n",
    "--------------------------\n",
    "This notebook works through the construction of the DecisionTree and node classes created to solve problem 1. (It will eventually be imported into its own python module)"
   ]
  },
  {
   "cell_type": "code",
   "execution_count": 1,
   "metadata": {
    "collapsed": true
   },
   "outputs": [],
   "source": [
    "import numpy as np"
   ]
  },
  {
   "cell_type": "code",
   "execution_count": 34,
   "metadata": {
    "collapsed": false
   },
   "outputs": [],
   "source": [
    "class DecisionTree:\n",
    "    \"\"\"Build and store a decision tree, based on supplied training data. \n",
    "       Use this tree to predict classifications.\"\"\"\n",
    "\n",
    "    def __init__(self,treedepth=5,params=None):\n",
    "        self.depth = treedepth\n",
    "        self.tree = None\n",
    "        \n",
    "    def entropy(self,C,D,c,d):\n",
    "        \"\"\"Calculate entropy based on classifications above and below the splitrule\"\"\"\n",
    "        if C != 0:\n",
    "            Cfactor = -(C/(C+D))*np.log2(C/(C+D))\n",
    "        else:\n",
    "            Cfactor = 0\n",
    "        if D != 0:\n",
    "            Dfactor = -(D/(C+D))*np.log2(D/(C+D))\n",
    "        else:\n",
    "            Dfactor = 0\n",
    "        if c != 0:\n",
    "            cfactor = -(c/(c+d))*np.log2(c/(c+d))\n",
    "        else:\n",
    "            cfactor = 0\n",
    "        if d != 0:\n",
    "            dfactor = -(d/(c+d))*np.log2(d/(c+d))\n",
    "        else:\n",
    "            dfactor = 0\n",
    "        H_left = Cfactor + Dfactor\n",
    "        H_right = cfactor + dfactor\n",
    "        H = ((C+D)*H_left + (c+d)*H_right)/(C+D+c+d)\n",
    "        \n",
    "        return H\n",
    "    \n",
    "    \n",
    "    def segment(self,data,labels):\n",
    "        totals = np.bincount(labels)\n",
    "        if len(totals)==1:\n",
    "            np.append(totals,[0])\n",
    "        print(totals)\n",
    "        # Quick safety check\n",
    "        print(data,labels)\n",
    "        if len(labels) != len(data):\n",
    "            print('ERROR: There must be the same number of labels as datapoints.')\n",
    "        \n",
    "        # Calculate the initial entropy, used to find info gain\n",
    "        C,D = 0,0                      # C = in class left of split; D = not in class left of split\n",
    "        c,d = totals[1],totals[0]      # c = in class right of split; d = not in class right of split\n",
    "        H_i = self.entropy(C,D,c,d) # the initial entropy, before any splitting\n",
    "        \n",
    "        # Initialize objects to store optimal split rules for iterative comparison\n",
    "        maxinfogain = 0\n",
    "        splitrule = []   \n",
    "        \n",
    "        for feature_i in range(len(data)):\n",
    "            # Order the data for determining ideal splits\n",
    "            lbldat = np.concatenate(([data[:,feature_i]],[labels]),axis=0)\n",
    "            fv = np.sort(lbldat.T,axis=0)\n",
    "            lastfeature = np.array(['',''])\n",
    "            \n",
    "            C,D = 0,0                      # Reset the counters\n",
    "            c,d = totals[1],totals[0]\n",
    "            \n",
    "            for point_i in range(len(fv)-1):\n",
    "                \n",
    "                # Update C,D,c,d to minmize runtime of entrop calc (keep at O(1) time)\n",
    "                if fv[point_i,1] == 1:\n",
    "                    C += 1\n",
    "                    c -= 1\n",
    "                elif fv[point_i,1] == 0:\n",
    "                    D += 1\n",
    "                    d -= 1\n",
    "                else:\n",
    "                    print(\"ERROR: Classifications can only be 0 or 1.\")\n",
    "                \n",
    "                # Skip splitting values that are not separable\n",
    "                if fv[point_i,0] == fv[point_i+1,0]:\n",
    "                    continue\n",
    "                else:\n",
    "                    H_f = self.entropy(C,D,c,d)\n",
    "                    infogain = H_i-H_f\n",
    "                    if infogain > maxinfogain:\n",
    "                        maxinfogain = infogain\n",
    "                        splitrule = [feature_i,fv[point_i,0]]\n",
    "        return splitrule\n",
    "            \n",
    "    def train(self,data,labels):\n",
    "        # Grow decision tree\n",
    "        depthlim = self.depth\n",
    "        splitrule = self.segment(data,labels)\n",
    "        node = self.Node(data,labels,splitrule)\n",
    "        if node.nodetype == 'LeafNode':\n",
    "            print('You made a leaf node!')\n",
    "            self.tree = node\n",
    "        elif node.nodetype == 'SplitNode':\n",
    "            print('Splitting node left and right')\n",
    "            node.left = self.train(node.leftdata,node.leftlabels)\n",
    "            node.right = self.train(node.rightdata,node.rightlabels)\n",
    "            #restrict occurences based on depthlim\n",
    "        else:\n",
    "            print('ERROR: The node type could not be identified!')\n",
    "          \n",
    "    #def predict(self,data):\n",
    "        \n",
    "        #return predictions\n",
    "    \n",
    "    \n",
    "    class Node:\n",
    "        \"\"\"Store a decision tree node, coupled in series to construct tree;\n",
    "        includes a left branch, right branch, and splitrule\"\"\"\n",
    "    \n",
    "        def __init__(self,data,labels,splitrule):\n",
    "            # Determine if this is a leaf node\n",
    "            if splitrule:\n",
    "                indsabove = self.datainds_above_split(data,splitrule)\n",
    "                \n",
    "                self.rule = splitrule\n",
    "                self.left = None        # To be defined on next call to DecisionTree.train(.)\n",
    "                self.leftdata,self.leftlabels = self.leftDL(data,labels,indsabove)\n",
    "                self.right = None       # To be defined on next call to DecisionTree.train(.)\n",
    "                self.rightdata,self.rightlabels = self.rightDL(data,labels,indsabove)\n",
    "                \n",
    "                self.nodetype = 'SplitNode'\n",
    "            elif not splitrule:\n",
    "                self.nodetype = 'LeafNode'\n",
    "            #   self.label = <majority voting>\n",
    "        \n",
    "        def datainds_above_split(self,data,splitrule):\n",
    "            # Collect indices of points with values of the splitting feature greater than the split rule\n",
    "            indsabove = []\n",
    "            fv = data[:,splitrule[0]]\n",
    "            for point_i in range(len(fv)):\n",
    "                if fv[point_i] > splitrule[1]:\n",
    "                    indsabove.append(point_i)\n",
    "            return indsabove\n",
    "        \n",
    "        def leftDL(self,data,labels,indsabove):\n",
    "            # Return arrays of only left data and labels\n",
    "            leftdata = np.delete(data,indsabove,axis=0)\n",
    "            leftlabels = np.delete(labels,indsabove,axis=0)\n",
    "            return leftdata,leftlabels\n",
    "        \n",
    "        def rightDL(self,data,labels,indsabove):\n",
    "            # Return arrays of only right data and labels\n",
    "            rightdata = data[indsabove]\n",
    "            rightlabels = labels[indsabove]\n",
    "            return rightdata,rightlabels\n",
    "        "
   ]
  },
  {
   "cell_type": "code",
   "execution_count": 35,
   "metadata": {
    "collapsed": false
   },
   "outputs": [],
   "source": [
    "classifier = DecisionTree()"
   ]
  },
  {
   "cell_type": "code",
   "execution_count": 36,
   "metadata": {
    "collapsed": false
   },
   "outputs": [],
   "source": [
    "data = np.array([[2,2,2,5],[1,1,1,2],[2,1,5,3],[8,1,2,1]])\n",
    "labels = np.array([1,1,0,1])"
   ]
  },
  {
   "cell_type": "code",
   "execution_count": 37,
   "metadata": {
    "collapsed": false
   },
   "outputs": [
    {
     "name": "stdout",
     "output_type": "stream",
     "text": [
      "[1 3]\n",
      "[[2 2 2 5]\n",
      " [1 1 1 2]\n",
      " [2 1 5 3]\n",
      " [8 1 2 1]] [1 1 0 1]\n",
      "Splitting node left and right\n",
      "[0 1]\n",
      "[[1 1 1 2]] [1]\n",
      "You made a leaf node!\n",
      "[1 2]\n",
      "[[2 2 2 5]\n",
      " [2 1 5 3]\n",
      " [8 1 2 1]] [1 0 1]\n",
      "Splitting node left and right\n",
      "[1 1]\n",
      "[[2 2 2 5]\n",
      " [2 1 5 3]] [1 0]\n",
      "Splitting node left and right\n",
      "[1]\n",
      "[[2 1 5 3]] [0]\n"
     ]
    },
    {
     "ename": "IndexError",
     "evalue": "index 1 is out of bounds for axis 0 with size 1",
     "output_type": "error",
     "traceback": [
      "\u001b[0;31m---------------------------------------------------------------------------\u001b[0m",
      "\u001b[0;31mIndexError\u001b[0m                                Traceback (most recent call last)",
      "\u001b[0;32m<ipython-input-37-4c1a4b35eb41>\u001b[0m in \u001b[0;36m<module>\u001b[0;34m()\u001b[0m\n\u001b[0;32m----> 1\u001b[0;31m \u001b[0mclassifier\u001b[0m\u001b[0;34m.\u001b[0m\u001b[0mtrain\u001b[0m\u001b[0;34m(\u001b[0m\u001b[0mdata\u001b[0m\u001b[0;34m,\u001b[0m\u001b[0mlabels\u001b[0m\u001b[0;34m)\u001b[0m\u001b[0;34m\u001b[0m\u001b[0m\n\u001b[0m",
      "\u001b[0;32m<ipython-input-34-4301e1d46ac8>\u001b[0m in \u001b[0;36mtrain\u001b[0;34m(self, data, labels)\u001b[0m\n\u001b[1;32m     94\u001b[0m             \u001b[0mprint\u001b[0m\u001b[0;34m(\u001b[0m\u001b[0;34m'Splitting node left and right'\u001b[0m\u001b[0;34m)\u001b[0m\u001b[0;34m\u001b[0m\u001b[0m\n\u001b[1;32m     95\u001b[0m             \u001b[0mnode\u001b[0m\u001b[0;34m.\u001b[0m\u001b[0mleft\u001b[0m \u001b[0;34m=\u001b[0m \u001b[0mself\u001b[0m\u001b[0;34m.\u001b[0m\u001b[0mtrain\u001b[0m\u001b[0;34m(\u001b[0m\u001b[0mnode\u001b[0m\u001b[0;34m.\u001b[0m\u001b[0mleftdata\u001b[0m\u001b[0;34m,\u001b[0m\u001b[0mnode\u001b[0m\u001b[0;34m.\u001b[0m\u001b[0mleftlabels\u001b[0m\u001b[0;34m)\u001b[0m\u001b[0;34m\u001b[0m\u001b[0m\n\u001b[0;32m---> 96\u001b[0;31m             \u001b[0mnode\u001b[0m\u001b[0;34m.\u001b[0m\u001b[0mright\u001b[0m \u001b[0;34m=\u001b[0m \u001b[0mself\u001b[0m\u001b[0;34m.\u001b[0m\u001b[0mtrain\u001b[0m\u001b[0;34m(\u001b[0m\u001b[0mnode\u001b[0m\u001b[0;34m.\u001b[0m\u001b[0mrightdata\u001b[0m\u001b[0;34m,\u001b[0m\u001b[0mnode\u001b[0m\u001b[0;34m.\u001b[0m\u001b[0mrightlabels\u001b[0m\u001b[0;34m)\u001b[0m\u001b[0;34m\u001b[0m\u001b[0m\n\u001b[0m\u001b[1;32m     97\u001b[0m             \u001b[0;31m#restrict occurences based on depthlim\u001b[0m\u001b[0;34m\u001b[0m\u001b[0;34m\u001b[0m\u001b[0m\n\u001b[1;32m     98\u001b[0m         \u001b[0;32melse\u001b[0m\u001b[0;34m:\u001b[0m\u001b[0;34m\u001b[0m\u001b[0m\n",
      "\u001b[0;32m<ipython-input-34-4301e1d46ac8>\u001b[0m in \u001b[0;36mtrain\u001b[0;34m(self, data, labels)\u001b[0m\n\u001b[1;32m     93\u001b[0m         \u001b[0;32melif\u001b[0m \u001b[0mnode\u001b[0m\u001b[0;34m.\u001b[0m\u001b[0mnodetype\u001b[0m \u001b[0;34m==\u001b[0m \u001b[0;34m'SplitNode'\u001b[0m\u001b[0;34m:\u001b[0m\u001b[0;34m\u001b[0m\u001b[0m\n\u001b[1;32m     94\u001b[0m             \u001b[0mprint\u001b[0m\u001b[0;34m(\u001b[0m\u001b[0;34m'Splitting node left and right'\u001b[0m\u001b[0;34m)\u001b[0m\u001b[0;34m\u001b[0m\u001b[0m\n\u001b[0;32m---> 95\u001b[0;31m             \u001b[0mnode\u001b[0m\u001b[0;34m.\u001b[0m\u001b[0mleft\u001b[0m \u001b[0;34m=\u001b[0m \u001b[0mself\u001b[0m\u001b[0;34m.\u001b[0m\u001b[0mtrain\u001b[0m\u001b[0;34m(\u001b[0m\u001b[0mnode\u001b[0m\u001b[0;34m.\u001b[0m\u001b[0mleftdata\u001b[0m\u001b[0;34m,\u001b[0m\u001b[0mnode\u001b[0m\u001b[0;34m.\u001b[0m\u001b[0mleftlabels\u001b[0m\u001b[0;34m)\u001b[0m\u001b[0;34m\u001b[0m\u001b[0m\n\u001b[0m\u001b[1;32m     96\u001b[0m             \u001b[0mnode\u001b[0m\u001b[0;34m.\u001b[0m\u001b[0mright\u001b[0m \u001b[0;34m=\u001b[0m \u001b[0mself\u001b[0m\u001b[0;34m.\u001b[0m\u001b[0mtrain\u001b[0m\u001b[0;34m(\u001b[0m\u001b[0mnode\u001b[0m\u001b[0;34m.\u001b[0m\u001b[0mrightdata\u001b[0m\u001b[0;34m,\u001b[0m\u001b[0mnode\u001b[0m\u001b[0;34m.\u001b[0m\u001b[0mrightlabels\u001b[0m\u001b[0;34m)\u001b[0m\u001b[0;34m\u001b[0m\u001b[0m\n\u001b[1;32m     97\u001b[0m             \u001b[0;31m#restrict occurences based on depthlim\u001b[0m\u001b[0;34m\u001b[0m\u001b[0;34m\u001b[0m\u001b[0m\n",
      "\u001b[0;32m<ipython-input-34-4301e1d46ac8>\u001b[0m in \u001b[0;36mtrain\u001b[0;34m(self, data, labels)\u001b[0m\n\u001b[1;32m     93\u001b[0m         \u001b[0;32melif\u001b[0m \u001b[0mnode\u001b[0m\u001b[0;34m.\u001b[0m\u001b[0mnodetype\u001b[0m \u001b[0;34m==\u001b[0m \u001b[0;34m'SplitNode'\u001b[0m\u001b[0;34m:\u001b[0m\u001b[0;34m\u001b[0m\u001b[0m\n\u001b[1;32m     94\u001b[0m             \u001b[0mprint\u001b[0m\u001b[0;34m(\u001b[0m\u001b[0;34m'Splitting node left and right'\u001b[0m\u001b[0;34m)\u001b[0m\u001b[0;34m\u001b[0m\u001b[0m\n\u001b[0;32m---> 95\u001b[0;31m             \u001b[0mnode\u001b[0m\u001b[0;34m.\u001b[0m\u001b[0mleft\u001b[0m \u001b[0;34m=\u001b[0m \u001b[0mself\u001b[0m\u001b[0;34m.\u001b[0m\u001b[0mtrain\u001b[0m\u001b[0;34m(\u001b[0m\u001b[0mnode\u001b[0m\u001b[0;34m.\u001b[0m\u001b[0mleftdata\u001b[0m\u001b[0;34m,\u001b[0m\u001b[0mnode\u001b[0m\u001b[0;34m.\u001b[0m\u001b[0mleftlabels\u001b[0m\u001b[0;34m)\u001b[0m\u001b[0;34m\u001b[0m\u001b[0m\n\u001b[0m\u001b[1;32m     96\u001b[0m             \u001b[0mnode\u001b[0m\u001b[0;34m.\u001b[0m\u001b[0mright\u001b[0m \u001b[0;34m=\u001b[0m \u001b[0mself\u001b[0m\u001b[0;34m.\u001b[0m\u001b[0mtrain\u001b[0m\u001b[0;34m(\u001b[0m\u001b[0mnode\u001b[0m\u001b[0;34m.\u001b[0m\u001b[0mrightdata\u001b[0m\u001b[0;34m,\u001b[0m\u001b[0mnode\u001b[0m\u001b[0;34m.\u001b[0m\u001b[0mrightlabels\u001b[0m\u001b[0;34m)\u001b[0m\u001b[0;34m\u001b[0m\u001b[0m\n\u001b[1;32m     97\u001b[0m             \u001b[0;31m#restrict occurences based on depthlim\u001b[0m\u001b[0;34m\u001b[0m\u001b[0;34m\u001b[0m\u001b[0m\n",
      "\u001b[0;32m<ipython-input-34-4301e1d46ac8>\u001b[0m in \u001b[0;36mtrain\u001b[0;34m(self, data, labels)\u001b[0m\n\u001b[1;32m     86\u001b[0m         \u001b[0;31m# Grow decision tree\u001b[0m\u001b[0;34m\u001b[0m\u001b[0;34m\u001b[0m\u001b[0m\n\u001b[1;32m     87\u001b[0m         \u001b[0mdepthlim\u001b[0m \u001b[0;34m=\u001b[0m \u001b[0mself\u001b[0m\u001b[0;34m.\u001b[0m\u001b[0mdepth\u001b[0m\u001b[0;34m\u001b[0m\u001b[0m\n\u001b[0;32m---> 88\u001b[0;31m         \u001b[0msplitrule\u001b[0m \u001b[0;34m=\u001b[0m \u001b[0mself\u001b[0m\u001b[0;34m.\u001b[0m\u001b[0msegment\u001b[0m\u001b[0;34m(\u001b[0m\u001b[0mdata\u001b[0m\u001b[0;34m,\u001b[0m\u001b[0mlabels\u001b[0m\u001b[0;34m)\u001b[0m\u001b[0;34m\u001b[0m\u001b[0m\n\u001b[0m\u001b[1;32m     89\u001b[0m         \u001b[0mnode\u001b[0m \u001b[0;34m=\u001b[0m \u001b[0mself\u001b[0m\u001b[0;34m.\u001b[0m\u001b[0mNode\u001b[0m\u001b[0;34m(\u001b[0m\u001b[0mdata\u001b[0m\u001b[0;34m,\u001b[0m\u001b[0mlabels\u001b[0m\u001b[0;34m,\u001b[0m\u001b[0msplitrule\u001b[0m\u001b[0;34m)\u001b[0m\u001b[0;34m\u001b[0m\u001b[0m\n\u001b[1;32m     90\u001b[0m         \u001b[0;32mif\u001b[0m \u001b[0mnode\u001b[0m\u001b[0;34m.\u001b[0m\u001b[0mnodetype\u001b[0m \u001b[0;34m==\u001b[0m \u001b[0;34m'LeafNode'\u001b[0m\u001b[0;34m:\u001b[0m\u001b[0;34m\u001b[0m\u001b[0m\n",
      "\u001b[0;32m<ipython-input-34-4301e1d46ac8>\u001b[0m in \u001b[0;36msegment\u001b[0;34m(self, data, labels)\u001b[0m\n\u001b[1;32m     44\u001b[0m         \u001b[0;31m# Calculate the initial entropy, used to find info gain\u001b[0m\u001b[0;34m\u001b[0m\u001b[0;34m\u001b[0m\u001b[0m\n\u001b[1;32m     45\u001b[0m         \u001b[0mC\u001b[0m\u001b[0;34m,\u001b[0m\u001b[0mD\u001b[0m \u001b[0;34m=\u001b[0m \u001b[0;36m0\u001b[0m\u001b[0;34m,\u001b[0m\u001b[0;36m0\u001b[0m                      \u001b[0;31m# C = in class left of split; D = not in class left of split\u001b[0m\u001b[0;34m\u001b[0m\u001b[0m\n\u001b[0;32m---> 46\u001b[0;31m         \u001b[0mc\u001b[0m\u001b[0;34m,\u001b[0m\u001b[0md\u001b[0m \u001b[0;34m=\u001b[0m \u001b[0mtotals\u001b[0m\u001b[0;34m[\u001b[0m\u001b[0;36m1\u001b[0m\u001b[0;34m]\u001b[0m\u001b[0;34m,\u001b[0m\u001b[0mtotals\u001b[0m\u001b[0;34m[\u001b[0m\u001b[0;36m0\u001b[0m\u001b[0;34m]\u001b[0m      \u001b[0;31m# c = in class right of split; d = not in class right of split\u001b[0m\u001b[0;34m\u001b[0m\u001b[0m\n\u001b[0m\u001b[1;32m     47\u001b[0m         \u001b[0mH_i\u001b[0m \u001b[0;34m=\u001b[0m \u001b[0mself\u001b[0m\u001b[0;34m.\u001b[0m\u001b[0mentropy\u001b[0m\u001b[0;34m(\u001b[0m\u001b[0mC\u001b[0m\u001b[0;34m,\u001b[0m\u001b[0mD\u001b[0m\u001b[0;34m,\u001b[0m\u001b[0mc\u001b[0m\u001b[0;34m,\u001b[0m\u001b[0md\u001b[0m\u001b[0;34m)\u001b[0m \u001b[0;31m# the initial entropy, before any splitting\u001b[0m\u001b[0;34m\u001b[0m\u001b[0m\n\u001b[1;32m     48\u001b[0m \u001b[0;34m\u001b[0m\u001b[0m\n",
      "\u001b[0;31mIndexError\u001b[0m: index 1 is out of bounds for axis 0 with size 1"
     ]
    }
   ],
   "source": [
    "classifier.train(data,labels)"
   ]
  },
  {
   "cell_type": "code",
   "execution_count": 38,
   "metadata": {
    "collapsed": false
   },
   "outputs": [
    {
     "name": "stdout",
     "output_type": "stream",
     "text": [
      "[1 2]\n",
      "[1 2 0]\n"
     ]
    }
   ],
   "source": [
    "x=np.array([1,2])\n",
    "print(x)\n",
    "print(np.append(x,[0]))"
   ]
  },
  {
   "cell_type": "code",
   "execution_count": null,
   "metadata": {
    "collapsed": true
   },
   "outputs": [],
   "source": []
  }
 ],
 "metadata": {
  "kernelspec": {
   "display_name": "Python 3",
   "language": "python",
   "name": "python3"
  },
  "language_info": {
   "codemirror_mode": {
    "name": "ipython",
    "version": 3
   },
   "file_extension": ".py",
   "mimetype": "text/x-python",
   "name": "python",
   "nbconvert_exporter": "python",
   "pygments_lexer": "ipython3",
   "version": "3.6.0"
  }
 },
 "nbformat": 4,
 "nbformat_minor": 2
}
