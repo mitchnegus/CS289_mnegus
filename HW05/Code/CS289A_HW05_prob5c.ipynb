{
 "cells": [
  {
   "cell_type": "markdown",
   "metadata": {},
   "source": [
    "# HW05 - Problem 5c\n",
    "\n",
    "Performance evaluation. For each of the 3 datasets, train a decision tree and random forest and report your training and validation accuracies. You should be reporting 12 numbers (3 datasets × 2 classifiers × 2 data splits).\n"
   ]
  },
  {
   "cell_type": "markdown",
   "metadata": {},
   "source": [
    "Program overhead:"
   ]
  },
  {
   "cell_type": "code",
   "execution_count": 3,
   "metadata": {
    "collapsed": false
   },
   "outputs": [],
   "source": [
    "%load_ext autoreload"
   ]
  },
  {
   "cell_type": "code",
   "execution_count": 4,
   "metadata": {
    "collapsed": true
   },
   "outputs": [],
   "source": [
    "%autoreload 2"
   ]
  },
  {
   "cell_type": "code",
   "execution_count": 5,
   "metadata": {
    "collapsed": false
   },
   "outputs": [],
   "source": [
    "import numpy as np\n",
    "import decisiontree as dt\n",
    "import randomforest as rf\n",
    "import HW05_utils as ut\n",
    "from matplotlib import pyplot as plt"
   ]
  },
  {
   "cell_type": "markdown",
   "metadata": {},
   "source": [
    "Set the base directory for this homework"
   ]
  },
  {
   "cell_type": "code",
   "execution_count": 6,
   "metadata": {
    "collapsed": true
   },
   "outputs": [],
   "source": [
    "BASE_DIR = \"/Users/mitch/Documents/Cal/2_2017_Spring/COMPSCI 289A - Intro to Machine Learning/HW05/\""
   ]
  },
  {
   "cell_type": "markdown",
   "metadata": {},
   "source": [
    "Establish a size for the validation set as a fraction of the total training set"
   ]
  },
  {
   "cell_type": "code",
   "execution_count": 7,
   "metadata": {
    "collapsed": true
   },
   "outputs": [],
   "source": [
    "valfrac = 0.1"
   ]
  },
  {
   "cell_type": "markdown",
   "metadata": {},
   "source": [
    "## SPAM\n",
    "-----------\n",
    "Calculate decision tree and random forest training/validation accuracies for the spam dataset."
   ]
  },
  {
   "cell_type": "markdown",
   "metadata": {},
   "source": [
    "Begin by importing data, shuffling, and separating into training and validation sets."
   ]
  },
  {
   "cell_type": "code",
   "execution_count": 10,
   "metadata": {
    "collapsed": false
   },
   "outputs": [],
   "source": [
    "# Import\n",
    "SPAM_PATH = \"Data/hw5_spam_dist/spam_data.mat\"\n",
    "\n",
    "spam_data = ut.load_data(SPAM_PATH,BASE_DIR,'training_data')\n",
    "spam_labels = ut.load_data(SPAM_PATH,BASE_DIR,'training_labels').T\n",
    "spam_test = ut.load_data(SPAM_PATH,BASE_DIR,'test_data')"
   ]
  },
  {
   "cell_type": "code",
   "execution_count": 11,
   "metadata": {
    "collapsed": false
   },
   "outputs": [],
   "source": [
    "# Shuffle\n",
    "spamdata, spamlabels = ut.shuffle_data(spam_data,spam_labels)"
   ]
  },
  {
   "cell_type": "code",
   "execution_count": 12,
   "metadata": {
    "collapsed": false
   },
   "outputs": [],
   "source": [
    "# Separate\n",
    "spamtraindata,spamvaldata = ut.val_partition(spamdata,valfrac)\n",
    "spamtrainlabels,spamvallabels = ut.val_partition(spamlabels,valfrac)"
   ]
  },
  {
   "cell_type": "markdown",
   "metadata": {
    "collapsed": false
   },
   "source": [
    "### Spam Random Forest \n",
    "\n",
    "Create and train a random forest classifier using the spam data and labels."
   ]
  },
  {
   "cell_type": "code",
   "execution_count": 14,
   "metadata": {
    "collapsed": false
   },
   "outputs": [],
   "source": [
    "spam_RFclassifier = rf.RandomForest(treedepth=23,ntrees=100)"
   ]
  },
  {
   "cell_type": "code",
   "execution_count": 15,
   "metadata": {
    "collapsed": false
   },
   "outputs": [],
   "source": [
    "spam_RFclassifier.train(spamtraindata,spamtrainlabels)"
   ]
  },
  {
   "cell_type": "markdown",
   "metadata": {},
   "source": [
    "Calculate the validation accuracy using the trained decision tree."
   ]
  },
  {
   "cell_type": "code",
   "execution_count": 16,
   "metadata": {
    "collapsed": false
   },
   "outputs": [],
   "source": [
    "spampredictions = spam_RFclassifier.predict(spamvaldata)"
   ]
  },
  {
   "cell_type": "code",
   "execution_count": 17,
   "metadata": {
    "collapsed": false
   },
   "outputs": [
    {
     "name": "stdout",
     "output_type": "stream",
     "text": [
      "Validation Accuracy = 75.992%\n"
     ]
    }
   ],
   "source": [
    "spamvalAcc = ut.val_accuracy(spampredictions,spamvallabels)    \n",
    "print('Validation Accuracy = %.3f%%'%(100*spamvalAcc))"
   ]
  },
  {
   "cell_type": "markdown",
   "metadata": {},
   "source": [
    "Use this procedure to determine the optimal value for the tree depth hyperparameter. (Re-use the function looping over depths in spam)"
   ]
  },
  {
   "cell_type": "code",
   "execution_count": 21,
   "metadata": {
    "collapsed": true
   },
   "outputs": [],
   "source": [
    "maxdepth = 25\n",
    "depthstep = 2"
   ]
  },
  {
   "cell_type": "code",
   "execution_count": 15,
   "metadata": {
    "collapsed": false
   },
   "outputs": [],
   "source": [
    "spam_RFclassifier.train(spamtraindata,spamtrainlabels)"
   ]
  },
  {
   "cell_type": "markdown",
   "metadata": {},
   "source": [
    "Calculate the validation accuracy using the trained decision tree."
   ]
  },
  {
   "cell_type": "code",
   "execution_count": 16,
   "metadata": {
    "collapsed": false
   },
   "outputs": [],
   "source": [
    "spampredictions = spam_RFclassifier.predict(spamvaldata)"
   ]
  },
  {
   "cell_type": "code",
   "execution_count": 17,
   "metadata": {
    "collapsed": false
   },
   "outputs": [
    {
     "name": "stdout",
     "output_type": "stream",
     "text": [
      "Validation Accuracy = 75.992%\n"
     ]
    }
   ],
   "source": [
    "spamvalAcc = ut.val_accuracy(spampredictions,spamvallabels)    \n",
    "print('Validation Accuracy = %.3f%%'%(100*spamvalAcc))"
   ]
  },
  {
   "cell_type": "markdown",
   "metadata": {},
   "source": [
    "Use this procedure to determine the optimal value for the tree depth hyperparameter. (Re-use the function looping over depths in spam)"
   ]
  },
  {
   "cell_type": "code",
   "execution_count": 21,
   "metadata": {
    "collapsed": true
   },
   "outputs": [],
   "source": [
    "maxdepth = 25\n",
    "depthstep = 2"
   ]
  },
  {
   "cell_type": "code",
   "execution_count": 22,
   "metadata": {
    "collapsed": false,
    "scrolled": false
   },
   "outputs": [
    {
     "name": "stdout",
     "output_type": "stream",
     "text": [
      "Tested up to depth 5\n",
      "Tested up to depth 15\n",
      "Tested up to depth 25\n"
     ]
    }
   ],
   "source": [
    "spamRF_Accs=testdepths('RF',spamtraindata,spamtrainlabels,spamvaldata,spamvallabels,maxdepth,depthstep,ntrees=100)"
   ]
  },
  {
   "cell_type": "code",
   "execution_count": 23,
   "metadata": {
    "collapsed": false
   },
   "outputs": [
    {
     "data": {
      "image/png": "[encoded data removed]",
      "text/plain": [
       "<matplotlib.figure.Figure at 0x109232ba8>"
      ]
     },
     "metadata": {},
     "output_type": "display_data"
    },
    {
     "name": "stdout",
     "output_type": "stream",
     "text": [
      "Max accuracy of 81.18% for depth of 23\n"
     ]
    }
   ],
   "source": [
    "plotdepthAccs(spamRF_Accs,'Validation Accuracy of Random Forests on spam data')"
   ]
  },
  {
   "cell_type": "markdown",
   "metadata": {},
   "source": [
    "Make random forest predictions for the best depth according to test data, and save to a csv file for upload to Kaggle (0-indexing)."
   ]
  },
  {
   "cell_type": "code",
   "execution_count": 114,
   "metadata": {
    "collapsed": false
   },
   "outputs": [],
   "source": [
    "spamRFoutfilename ='../spamRF_accuracies.txt'\n",
    "bestspamRF = train_optimal('RF',np.array([[23,1],[0,0]]),spamdata,spamlabels,spamRFoutfilename)\n",
    "#bestspamRF = train_optimal(spamRF_Accs,spamdata,spamlabels,spamoutfilename)\n",
    "write_Accs(bestspamRF,\n",
    "           [spamtraindata,spamvaldata],\n",
    "           [spamtrainlabels,spamvallabels],\n",
    "           ['Training','Validation'],\n",
    "           spamRFoutfilename,\n",
    "          )"
   ]
  },
  {
   "cell_type": "code",
   "execution_count": 24,
   "metadata": {
    "collapsed": true
   },
   "outputs": [],
   "source": [
    "#spamRFpredictions_csv = save_optimal(spamRF_Accs,spamdata,spamlabels,spam_test,indexing=0)\n",
    "#np.savetxt(BASE_DIR+'spam_RF_testpredictions.csv',spamRFpredictions_csv,fmt='%i',delimiter=',',header='Id,Category',comments='')"
   ]
  }
 ],
 "metadata": {
  "kernelspec": {
   "display_name": "Python 3",
   "language": "python",
   "name": "python3"
  },
  "language_info": {
   "codemirror_mode": {
    "name": "ipython",
    "version": 3
   },
   "file_extension": ".py",
   "mimetype": "text/x-python",
   "name": "python",
   "nbconvert_exporter": "python",
   "pygments_lexer": "ipython3",
   "version": "3.6.0"
  }
 },
 "nbformat": 4,
 "nbformat_minor": 2
}
